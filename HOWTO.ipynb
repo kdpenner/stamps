{
 "cells": [
  {
   "cell_type": "markdown",
   "metadata": {},
   "source": [
    "This notebook shows how to use stamp.py in a notebook or interactive setting.  I recommend command line usage for large catalogs and/or large numbers of images.  The catalog must be formatted as shown in this notebook."
   ]
  },
  {
   "cell_type": "markdown",
   "metadata": {},
   "source": [
    "First, import stamp:"
   ]
  },
  {
   "cell_type": "code",
   "execution_count": 3,
   "metadata": {},
   "outputs": [
    {
     "name": "stderr",
     "output_type": "stream",
     "text": [
      "/Users/kpenner/anaconda2/lib/python2.7/site-packages/matplotlib/cbook/deprecation.py:107: MatplotlibDeprecationWarning: The mpl_toolkits.axes_grid module was deprecated in version 2.1. Use mpl_toolkits.axes_grid1 and mpl_toolkits.axisartist provies the same functionality instead.\n",
      "  warnings.warn(message, mplDeprecation, stacklevel=1)\n"
     ]
    }
   ],
   "source": [
    "import stamp"
   ]
  },
  {
   "cell_type": "markdown",
   "metadata": {},
   "source": [
    "stamp.py has 3 main functions: cutout, measure_rms, and output eps.\n",
    "\n",
    "The first step is to use cutout, which takes the images, positions from a catalog, and target names, to create the FITS cutouts.\n",
    "\n",
    "Now, read in the catalog and any number of images:"
   ]
  },
  {
   "cell_type": "code",
   "execution_count": 14,
   "metadata": {},
   "outputs": [],
   "source": [
    "from astropy.table import Table\n",
    "from astropy.io import fits\n",
    "from astropy import units as u"
   ]
  },
  {
   "cell_type": "code",
   "execution_count": 5,
   "metadata": {},
   "outputs": [],
   "source": [
    "cat = Table.read('../ian_cats/VLA-HFF_0416_compact_optical_rasort.txt',\n",
    "                 format = 'ascii.sextractor')"
   ]
  },
  {
   "cell_type": "code",
   "execution_count": 7,
   "metadata": {},
   "outputs": [],
   "source": [
    "img_list = ['../radio_imgs/img_MACSJ0416_S-BAND_data-MFS-image.fits',\n",
    "            '../radio_imgs/img_MACSJ0416_C-BAND_data-MFS-image.fits',\n",
    "            '../hst_imgs/macs0416/hlsp_frontier_hst_acs-60mas-selfcal_macs0416_f435w_v1.0_drz.fits',\n",
    "            '../hst_imgs/macs0416/hlsp_frontier_hst_acs-60mas-selfcal_macs0416_f606w_v1.0_drz.fits',\n",
    "            '../hst_imgs/macs0416/hlsp_frontier_hst_wfc3-60mas-bkgdcor_macs0416_f160w_v1.0-epoch2_drz.fits',\n",
    "            '../hst_imgs/macs0416/parallel/hlsp_frontier_hst_acs-60mas-selfcal_macs0416-hffpar_f435w_v1.0-epoch2_drz.fits',\n",
    "            '../hst_imgs/macs0416/parallel/hlsp_frontier_hst_acs-60mas-selfcal_macs0416-hffpar_f606w_v1.0-epoch2_drz.fits',\n",
    "            '../hst_imgs/macs0416/parallel/hlsp_frontier_hst_wfc3-60mas_macs0416-hffpar_f160w_v1.0_drz.fits']"
   ]
  },
  {
   "cell_type": "code",
   "execution_count": 8,
   "metadata": {},
   "outputs": [],
   "source": [
    "imgs = [fits.open(img) for img in img_list]"
   ]
  },
  {
   "cell_type": "code",
   "execution_count": 9,
   "metadata": {},
   "outputs": [
    {
     "data": {
      "text/plain": [
       "[[<astropy.io.fits.hdu.image.PrimaryHDU object at 0xb130d8b50>],\n",
       " [<astropy.io.fits.hdu.image.PrimaryHDU object at 0xb130d3d10>],\n",
       " [<astropy.io.fits.hdu.image.PrimaryHDU object at 0xb1300a450>, <astropy.io.fits.hdu.table.BinTableHDU object at 0xb136b0490>],\n",
       " [<astropy.io.fits.hdu.image.PrimaryHDU object at 0xb13242ad0>, <astropy.io.fits.hdu.table.BinTableHDU object at 0xb1370e550>],\n",
       " [<astropy.io.fits.hdu.image.PrimaryHDU object at 0xb1332b610>, <astropy.io.fits.hdu.table.BinTableHDU object at 0xb13764350>],\n",
       " [<astropy.io.fits.hdu.image.PrimaryHDU object at 0xb13436c90>, <astropy.io.fits.hdu.table.BinTableHDU object at 0xb1379ae50>],\n",
       " [<astropy.io.fits.hdu.image.PrimaryHDU object at 0xb13541a10>, <astropy.io.fits.hdu.table.BinTableHDU object at 0xb137f0110>],\n",
       " [<astropy.io.fits.hdu.image.PrimaryHDU object at 0xb136320d0>, <astropy.io.fits.hdu.table.BinTableHDU object at 0xb1383bed0>]]"
      ]
     },
     "execution_count": 9,
     "metadata": {},
     "output_type": "execute_result"
    }
   ],
   "source": [
    "imgs"
   ]
  },
  {
   "cell_type": "code",
   "execution_count": 20,
   "metadata": {},
   "outputs": [
    {
     "data": {
      "text/html": [
       "&lt;Table length=5&gt;\n",
       "<table id=\"table48646658704\" class=\"table-striped table-bordered table-condensed\">\n",
       "<thead><tr><th>NAME</th><th>RA</th><th>DEC</th><th>SIGMA_RA</th><th>SIGMA_DEC</th><th>INT_FLUX_S</th><th>SIGMA_INT_FLUX_S</th><th>PEAK_FLUX_S</th><th>SIGMA_PEAK_FLUX_S</th><th>BEST_FLUX_S</th><th>SIGMA_BEST_FLUX_S</th><th>PB_S</th><th>INT_FLUX_C</th><th>SIGMA_INT_FLUX_C</th><th>PEAK_FLUX_C</th><th>SIGMA_PEAK_FLUX_C</th><th>BEST_FLUX_C</th><th>SIGMA_BEST_FLUX_C</th><th>PB_C</th><th>ALPHA</th><th>SIGMA_ALPHA</th><th>IM_MAJ</th><th>SIGMA_IM_MAJ</th><th>IM_MIN</th><th>SIGMA_IM_MIN</th><th>IM_PA</th><th>SIGMA_IM_PA</th><th>DC_MAJ</th><th>SIGMA_DC_MAJ</th><th>DC_MIN</th><th>SIGMA_DC_MIN</th><th>DC_PA</th><th>SIGMA_DC_PA</th><th>RESOLVED_FLAG</th><th>ASTRODEEP_ID</th><th>ASTRODEEP_RA</th><th>ASTRODEEP_DEC</th><th>ASTRODEEP_SEP</th><th>MAG_JH140</th><th>MAGERR_JH140</th><th>ZBEST</th><th>ZBEST_SIQR</th><th>MAGNIF</th><th>MSTAR</th><th>MSTAR_MIN</th><th>MSTAR_MAX</th><th>SFR</th><th>SFR_MIN</th><th>SFR_MAX</th><th>RELFLAG</th><th>SUBARU_ID</th><th>SUBARU_RA</th><th>SUBARU_DEC</th><th>SUBARU_SEP</th><th>ZMAG</th><th>DZMAG</th><th>ZBPZ</th><th>ZBPZ_LOWER</th><th>ZBPZ_UPPER</th><th>MU_LOWER</th><th>MU_MEDIAN</th><th>MU_UPPER</th><th>MU_STD</th><th>MU_MAD</th><th>N_MODELS</th></tr></thead>\n",
       "<thead><tr><th>str26</th><th>float64</th><th>float64</th><th>float64</th><th>float64</th><th>float64</th><th>float64</th><th>float64</th><th>float64</th><th>float64</th><th>float64</th><th>float64</th><th>str6</th><th>str4</th><th>str6</th><th>str4</th><th>str6</th><th>str4</th><th>str4</th><th>str5</th><th>str4</th><th>float64</th><th>float64</th><th>float64</th><th>float64</th><th>float64</th><th>float64</th><th>float64</th><th>float64</th><th>float64</th><th>float64</th><th>float64</th><th>float64</th><th>float64</th><th>str4</th><th>str8</th><th>str9</th><th>str4</th><th>str6</th><th>str6</th><th>str4</th><th>str4</th><th>str4</th><th>str6</th><th>str6</th><th>str6</th><th>str6</th><th>str5</th><th>str7</th><th>str1</th><th>str5</th><th>str8</th><th>str9</th><th>str4</th><th>str5</th><th>str4</th><th>str4</th><th>str4</th><th>str4</th><th>str4</th><th>str4</th><th>str4</th><th>str4</th><th>str4</th><th>str4</th></tr></thead>\n",
       "<tr><td>VLAHFF-J041523.37-240205.2</td><td>63.84739</td><td>-24.0348</td><td>0.05</td><td>0.08</td><td>72.11</td><td>6.97</td><td>33.73</td><td>5.0</td><td>72.11</td><td>6.97</td><td>0.21</td><td>-</td><td>-</td><td>-</td><td>-</td><td>-</td><td>-</td><td>-</td><td>-</td><td>-</td><td>1.14</td><td>0.18</td><td>0.89</td><td>0.12</td><td>168.84</td><td>28.98</td><td>0.79</td><td>0.18</td><td>0.58</td><td>0.12</td><td>117.49</td><td>28.98</td><td>1.0</td><td>-</td><td>-</td><td>-</td><td>-</td><td>-</td><td>-</td><td>-</td><td>-</td><td>-</td><td>-</td><td>-</td><td>-</td><td>-</td><td>-</td><td>-</td><td>-</td><td>60765</td><td>63.84732</td><td>-24.03475</td><td>0.32</td><td>24.16</td><td>0.03</td><td>1.42</td><td>0.87</td><td>1.94</td><td>1.10</td><td>1.13</td><td>1.15</td><td>0.00</td><td>0.00</td><td>1.00</td></tr>\n",
       "<tr><td>VLAHFF-J041529.21-240751.4</td><td>63.87175</td><td>-24.13097</td><td>0.01</td><td>0.03</td><td>107.17</td><td>5.51</td><td>76.86</td><td>3.41</td><td>107.17</td><td>5.51</td><td>0.29</td><td>-</td><td>-</td><td>-</td><td>-</td><td>-</td><td>-</td><td>-</td><td>-</td><td>-</td><td>1.1</td><td>0.06</td><td>0.61</td><td>0.02</td><td>5.61</td><td>4.08</td><td>0.58</td><td>0.06</td><td>0.32</td><td>0.02</td><td>15.51</td><td>4.08</td><td>1.0</td><td>-</td><td>-</td><td>-</td><td>-</td><td>-</td><td>-</td><td>-</td><td>-</td><td>-</td><td>-</td><td>-</td><td>-</td><td>-</td><td>-</td><td>-</td><td>-</td><td>40926</td><td>63.87179</td><td>-24.13102</td><td>0.24</td><td>18.59</td><td>0.00</td><td>0.49</td><td>0.26</td><td>0.55</td><td>1.00</td><td>1.05</td><td>1.08</td><td>0.00</td><td>0.00</td><td>1.00</td></tr>\n",
       "<tr><td>VLAHFF-J041533.34-240730.5</td><td>63.88895</td><td>-24.12515</td><td>0.0</td><td>0.01</td><td>143.39</td><td>4.46</td><td>137.47</td><td>2.48</td><td>143.39</td><td>4.46</td><td>0.38</td><td>-</td><td>-</td><td>-</td><td>-</td><td>-</td><td>-</td><td>-</td><td>-</td><td>-</td><td>0.94</td><td>0.02</td><td>0.53</td><td>0.01</td><td>3.21</td><td>1.67</td><td>0.17</td><td>0.02</td><td>0.0</td><td>0.01</td><td>66.79</td><td>1.67</td><td>1.0</td><td>-</td><td>-</td><td>-</td><td>-</td><td>-</td><td>-</td><td>-</td><td>-</td><td>-</td><td>-</td><td>-</td><td>-</td><td>-</td><td>-</td><td>-</td><td>-</td><td>40866</td><td>63.88893</td><td>-24.12515</td><td>0.05</td><td>22.42</td><td>0.01</td><td>1.14</td><td>0.95</td><td>3.26</td><td>1.15</td><td>1.17</td><td>1.23</td><td>0.00</td><td>0.00</td><td>1.00</td></tr>\n",
       "<tr><td>VLAHFF-J041533.68-240824.3</td><td>63.89035</td><td>-24.14009</td><td>0.01</td><td>0.04</td><td>46.03</td><td>4.71</td><td>40.85</td><td>2.66</td><td>43.37</td><td>2.63</td><td>0.35</td><td>-</td><td>-</td><td>-</td><td>-</td><td>-</td><td>-</td><td>-</td><td>-</td><td>-</td><td>1.02</td><td>0.09</td><td>0.52</td><td>0.02</td><td>0.52</td><td>5.27</td><td>0.41</td><td>0.09</td><td>0.13</td><td>0.02</td><td>174.36</td><td>5.27</td><td>0.0</td><td>-</td><td>-</td><td>-</td><td>-</td><td>-</td><td>-</td><td>-</td><td>-</td><td>-</td><td>-</td><td>-</td><td>-</td><td>-</td><td>-</td><td>-</td><td>-</td><td>38162</td><td>63.89034</td><td>-24.14009</td><td>0.05</td><td>20.63</td><td>0.00</td><td>0.73</td><td>0.69</td><td>0.75</td><td>1.06</td><td>1.06</td><td>1.06</td><td>0.00</td><td>0.00</td><td>1.00</td></tr>\n",
       "<tr><td>VLAHFF-J041534.50-240016.1</td><td>63.89379</td><td>-24.00448</td><td>0.03</td><td>0.07</td><td>31.37</td><td>4.48</td><td>23.28</td><td>2.71</td><td>27.02</td><td>2.49</td><td>0.36</td><td>-</td><td>-</td><td>-</td><td>-</td><td>-</td><td>-</td><td>-</td><td>-</td><td>-</td><td>1.12</td><td>0.17</td><td>0.57</td><td>0.05</td><td>12.0</td><td>9.59</td><td>0.65</td><td>0.17</td><td>0.14</td><td>0.05</td><td>27.98</td><td>9.59</td><td>0.0</td><td>-</td><td>-</td><td>-</td><td>-</td><td>-</td><td>-</td><td>-</td><td>-</td><td>-</td><td>-</td><td>-</td><td>-</td><td>-</td><td>-</td><td>-</td><td>-</td><td>67484</td><td>63.89375</td><td>-24.00445</td><td>0.18</td><td>23.06</td><td>0.02</td><td>0.50</td><td>0.47</td><td>3.56</td><td>1.01</td><td>1.01</td><td>1.05</td><td>0.00</td><td>0.00</td><td>1.00</td></tr>\n",
       "</table>"
      ],
      "text/plain": [
       "<Table length=5>\n",
       "           NAME               RA       DEC    ... MU_STD MU_MAD N_MODELS\n",
       "          str26            float64   float64  ...  str4   str4    str4  \n",
       "-------------------------- -------- --------- ... ------ ------ --------\n",
       "VLAHFF-J041523.37-240205.2 63.84739  -24.0348 ...   0.00   0.00     1.00\n",
       "VLAHFF-J041529.21-240751.4 63.87175 -24.13097 ...   0.00   0.00     1.00\n",
       "VLAHFF-J041533.34-240730.5 63.88895 -24.12515 ...   0.00   0.00     1.00\n",
       "VLAHFF-J041533.68-240824.3 63.89035 -24.14009 ...   0.00   0.00     1.00\n",
       "VLAHFF-J041534.50-240016.1 63.89379 -24.00448 ...   0.00   0.00     1.00"
      ]
     },
     "execution_count": 20,
     "metadata": {},
     "output_type": "execute_result"
    }
   ],
   "source": [
    "cat[0:5]"
   ]
  },
  {
   "cell_type": "markdown",
   "metadata": {},
   "source": [
    "We are going to use the NAME field (which must be called NAME if stamp is used at the command line) as the target name.  I have modified the header of Ian's catalogs; instead of starting at \"0 NAME\", it starts at \"1 NAME\", the SExtractor default.\n",
    "\n",
    "We also need the RA and DEC fields (which must be called RA and DEC is stamp is used at the command line)."
   ]
  },
  {
   "cell_type": "code",
   "execution_count": 15,
   "metadata": {},
   "outputs": [],
   "source": [
    "targname = cat['NAME'].astype(str)\n",
    "ra = cat['RA']*u.degree\n",
    "dec = cat['DEC']*u.degree"
   ]
  },
  {
   "cell_type": "markdown",
   "metadata": {},
   "source": [
    "Now, call cutout:"
   ]
  },
  {
   "cell_type": "code",
   "execution_count": 22,
   "metadata": {},
   "outputs": [],
   "source": [
    "stamp.cutout(imgs, ra, dec, targname)"
   ]
  },
  {
   "cell_type": "markdown",
   "metadata": {},
   "source": [
    "For each entry in the catalog, cutout attempts to make a stamp for each image.  If an image has no coverage for the source, the stamp is not written.\n",
    "\n",
    "The files are numbered first by their row in the catalog.  0img0.fits is the stamp for the first entry and the first image.  Images without a FILTER keyword in the FITS header are sorted after the first image.  The exception is an image with TELESCOP = 'Spitzer' and CHNLNUM = 1 in the FITS header.  This image, and images with select HST FILTER keywords, are sorted by increasing wavelength.  E.g., for this exercise,\n",
    "\n",
    "[n]img0.fits = S band stamp\n",
    "\n",
    "[n]img1.fits = C band stamp\n",
    "\n",
    "[n]img2.fits = F435W stamp, main observation\n",
    "\n",
    "[n]img3.fits = F606W stamp, main observation\n",
    "\n",
    "[n]img4.fits = F160W stamp, main observation\n",
    "\n",
    "[n]img5.fits = F435W stamp, parallel observation\n",
    "\n",
    "[n]img6.fits = F606W stamp, parallel observation\n",
    "\n",
    "[n]img7.fits = F160W stamp, parallel observation\n",
    "\n",
    "[n]img8.fits = IRAC channel 1 stamp"
   ]
  },
  {
   "cell_type": "code",
   "execution_count": null,
   "metadata": {},
   "outputs": [],
   "source": []
  }
 ],
 "metadata": {
  "kernelspec": {
   "display_name": "Python [default]",
   "language": "python",
   "name": "python2"
  },
  "language_info": {
   "codemirror_mode": {
    "name": "ipython",
    "version": 2
   },
   "file_extension": ".py",
   "mimetype": "text/x-python",
   "name": "python",
   "nbconvert_exporter": "python",
   "pygments_lexer": "ipython2",
   "version": "2.7.15"
  }
 },
 "nbformat": 4,
 "nbformat_minor": 2
}
