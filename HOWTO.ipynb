{
 "cells": [
  {
   "cell_type": "markdown",
   "metadata": {},
   "source": [
    "This notebook shows how to use stamp.py in a notebook or interactive setting.  I recommend command line usage for large catalogs and/or large numbers of images.  The catalog must be formatted as shown in this notebook."
   ]
  },
  {
   "cell_type": "markdown",
   "metadata": {},
   "source": [
    "First, import stamp:"
   ]
  },
  {
   "cell_type": "code",
   "execution_count": 1,
   "metadata": {},
   "outputs": [
    {
     "name": "stderr",
     "output_type": "stream",
     "text": [
      "/Users/kpenner/anaconda2/lib/python2.7/site-packages/matplotlib/cbook/deprecation.py:107: MatplotlibDeprecationWarning: The mpl_toolkits.axes_grid module was deprecated in version 2.1. Use mpl_toolkits.axes_grid1 and mpl_toolkits.axisartist provies the same functionality instead.\n",
      "  warnings.warn(message, mplDeprecation, stacklevel=1)\n"
     ]
    }
   ],
   "source": [
    "import stamp"
   ]
  },
  {
   "cell_type": "markdown",
   "metadata": {},
   "source": [
    "stamp.py has 2 main functions: cutout and outputeps.\n",
    "\n",
    "The first step is to use cutout, which takes the images, positions from a catalog, and target names, to create the FITS cutouts.\n",
    "\n",
    "Now, read in the catalog and any number of images:"
   ]
  },
  {
   "cell_type": "code",
   "execution_count": 2,
   "metadata": {},
   "outputs": [],
   "source": [
    "from astropy.table import Table\n",
    "from astropy.io import fits\n",
    "from astropy import units as u"
   ]
  },
  {
   "cell_type": "code",
   "execution_count": 3,
   "metadata": {},
   "outputs": [],
   "source": [
    "cat = Table.read('../ian_cats/VLA-HFF_0416_compact_optical_rasort.txt',\n",
    "                 format = 'ascii.sextractor')"
   ]
  },
  {
   "cell_type": "code",
   "execution_count": 4,
   "metadata": {},
   "outputs": [],
   "source": [
    "img_list = ['../radio_imgs/img_MACSJ0416_S-BAND_data-MFS-image.fits',\n",
    "            '../hst_imgs/macs0416/hlsp_frontier_hst_acs-60mas-selfcal_macs0416_f606w_v1.0_drz.fits',\n",
    "            '../hst_imgs/macs0416/hlsp_frontier_hst_acs-60mas-selfcal_macs0416_f435w_v1.0_drz.fits',\n",
    "            '../radio_imgs/img_MACSJ0416_C-BAND_data-MFS-image.fits',\n",
    "            '../hst_imgs/macs0416/hlsp_frontier_hst_wfc3-60mas-bkgdcor_macs0416_f160w_v1.0-epoch2_drz.fits',\n",
    "            '../hst_imgs/macs0416/parallel/hlsp_frontier_hst_acs-60mas-selfcal_macs0416-hffpar_f606w_v1.0-epoch2_drz.fits',\n",
    "            '../hst_imgs/macs0416/parallel/hlsp_frontier_hst_wfc3-60mas_macs0416-hffpar_f160w_v1.0_drz.fits',\n",
    "            '../hst_imgs/macs0416/parallel/hlsp_frontier_hst_acs-60mas-selfcal_macs0416-hffpar_f435w_v1.0-epoch2_drz.fits',\n",
    "            '../spitzer_imgs/macs0416/MACS0416.IRAC.1.mosaic.fits']"
   ]
  },
  {
   "cell_type": "code",
   "execution_count": 5,
   "metadata": {},
   "outputs": [],
   "source": [
    "imgs = [fits.open(img) for img in img_list]"
   ]
  },
  {
   "cell_type": "code",
   "execution_count": 6,
   "metadata": {},
   "outputs": [
    {
     "data": {
      "text/plain": [
       "[[<astropy.io.fits.hdu.image.PrimaryHDU object at 0xb1c672e90>],\n",
       " [<astropy.io.fits.hdu.image.PrimaryHDU object at 0xb1c5cdc90>, <astropy.io.fits.hdu.table.BinTableHDU object at 0xb1cc4d6d0>],\n",
       " [<astropy.io.fits.hdu.image.PrimaryHDU object at 0xb1c7c0c50>, <astropy.io.fits.hdu.table.BinTableHDU object at 0xb1ccac750>],\n",
       " [<astropy.io.fits.hdu.image.PrimaryHDU object at 0xb1c801e10>],\n",
       " [<astropy.io.fits.hdu.image.PrimaryHDU object at 0xb1c8c4950>, <astropy.io.fits.hdu.table.BinTableHDU object at 0xb1cd02550>],\n",
       " [<astropy.io.fits.hdu.image.PrimaryHDU object at 0xb1c9936d0>, <astropy.io.fits.hdu.table.BinTableHDU object at 0xb1cd3f1d0>],\n",
       " [<astropy.io.fits.hdu.image.PrimaryHDU object at 0xb1ca7ad50>, <astropy.io.fits.hdu.table.BinTableHDU object at 0xb1cd91190>],\n",
       " [<astropy.io.fits.hdu.image.PrimaryHDU object at 0xb1cb90410>, <astropy.io.fits.hdu.table.BinTableHDU object at 0xb1cdeb250>],\n",
       " [<astropy.io.fits.hdu.image.PrimaryHDU object at 0xb1cbf8190>]]"
      ]
     },
     "execution_count": 6,
     "metadata": {},
     "output_type": "execute_result"
    }
   ],
   "source": [
    "imgs"
   ]
  },
  {
   "cell_type": "code",
   "execution_count": 7,
   "metadata": {},
   "outputs": [
    {
     "data": {
      "text/html": [
       "&lt;Table length=5&gt;\n",
       "<table id=\"table47728997904\" class=\"table-striped table-bordered table-condensed\">\n",
       "<thead><tr><th>NAME</th><th>RA</th><th>DEC</th><th>SIGMA_RA</th><th>SIGMA_DEC</th><th>INT_FLUX_S</th><th>SIGMA_INT_FLUX_S</th><th>PEAK_FLUX_S</th><th>SIGMA_PEAK_FLUX_S</th><th>BEST_FLUX_S</th><th>SIGMA_BEST_FLUX_S</th><th>PB_S</th><th>INT_FLUX_C</th><th>SIGMA_INT_FLUX_C</th><th>PEAK_FLUX_C</th><th>SIGMA_PEAK_FLUX_C</th><th>BEST_FLUX_C</th><th>SIGMA_BEST_FLUX_C</th><th>PB_C</th><th>ALPHA</th><th>SIGMA_ALPHA</th><th>IM_MAJ</th><th>SIGMA_IM_MAJ</th><th>IM_MIN</th><th>SIGMA_IM_MIN</th><th>IM_PA</th><th>SIGMA_IM_PA</th><th>DC_MAJ</th><th>SIGMA_DC_MAJ</th><th>DC_MIN</th><th>SIGMA_DC_MIN</th><th>DC_PA</th><th>SIGMA_DC_PA</th><th>RESOLVED_FLAG</th><th>ASTRODEEP_ID</th><th>ASTRODEEP_RA</th><th>ASTRODEEP_DEC</th><th>ASTRODEEP_SEP</th><th>MAG_JH140</th><th>MAGERR_JH140</th><th>ZBEST</th><th>ZBEST_SIQR</th><th>MAGNIF</th><th>MSTAR</th><th>MSTAR_MIN</th><th>MSTAR_MAX</th><th>SFR</th><th>SFR_MIN</th><th>SFR_MAX</th><th>RELFLAG</th><th>SUBARU_ID</th><th>SUBARU_RA</th><th>SUBARU_DEC</th><th>SUBARU_SEP</th><th>ZMAG</th><th>DZMAG</th><th>ZBPZ</th><th>ZBPZ_LOWER</th><th>ZBPZ_UPPER</th><th>MU_LOWER</th><th>MU_MEDIAN</th><th>MU_UPPER</th><th>MU_STD</th><th>MU_MAD</th><th>N_MODELS</th></tr></thead>\n",
       "<thead><tr><th>str26</th><th>float64</th><th>float64</th><th>float64</th><th>float64</th><th>float64</th><th>float64</th><th>float64</th><th>float64</th><th>float64</th><th>float64</th><th>float64</th><th>str6</th><th>str4</th><th>str6</th><th>str4</th><th>str6</th><th>str4</th><th>str4</th><th>str5</th><th>str4</th><th>float64</th><th>float64</th><th>float64</th><th>float64</th><th>float64</th><th>float64</th><th>float64</th><th>float64</th><th>float64</th><th>float64</th><th>float64</th><th>float64</th><th>float64</th><th>str4</th><th>str8</th><th>str9</th><th>str4</th><th>str6</th><th>str6</th><th>str4</th><th>str4</th><th>str4</th><th>str6</th><th>str6</th><th>str6</th><th>str6</th><th>str5</th><th>str7</th><th>str1</th><th>str5</th><th>str8</th><th>str9</th><th>str4</th><th>str5</th><th>str4</th><th>str4</th><th>str4</th><th>str4</th><th>str4</th><th>str4</th><th>str4</th><th>str4</th><th>str4</th><th>str4</th></tr></thead>\n",
       "<tr><td>VLAHFF-J041523.37-240205.2</td><td>63.84739</td><td>-24.0348</td><td>0.05</td><td>0.08</td><td>72.11</td><td>6.97</td><td>33.73</td><td>5.0</td><td>72.11</td><td>6.97</td><td>0.21</td><td>-</td><td>-</td><td>-</td><td>-</td><td>-</td><td>-</td><td>-</td><td>-</td><td>-</td><td>1.14</td><td>0.18</td><td>0.89</td><td>0.12</td><td>168.84</td><td>28.98</td><td>0.79</td><td>0.18</td><td>0.58</td><td>0.12</td><td>117.49</td><td>28.98</td><td>1.0</td><td>-</td><td>-</td><td>-</td><td>-</td><td>-</td><td>-</td><td>-</td><td>-</td><td>-</td><td>-</td><td>-</td><td>-</td><td>-</td><td>-</td><td>-</td><td>-</td><td>60765</td><td>63.84732</td><td>-24.03475</td><td>0.32</td><td>24.16</td><td>0.03</td><td>1.42</td><td>0.87</td><td>1.94</td><td>1.10</td><td>1.13</td><td>1.15</td><td>0.00</td><td>0.00</td><td>1.00</td></tr>\n",
       "<tr><td>VLAHFF-J041529.21-240751.4</td><td>63.87175</td><td>-24.13097</td><td>0.01</td><td>0.03</td><td>107.17</td><td>5.51</td><td>76.86</td><td>3.41</td><td>107.17</td><td>5.51</td><td>0.29</td><td>-</td><td>-</td><td>-</td><td>-</td><td>-</td><td>-</td><td>-</td><td>-</td><td>-</td><td>1.1</td><td>0.06</td><td>0.61</td><td>0.02</td><td>5.61</td><td>4.08</td><td>0.58</td><td>0.06</td><td>0.32</td><td>0.02</td><td>15.51</td><td>4.08</td><td>1.0</td><td>-</td><td>-</td><td>-</td><td>-</td><td>-</td><td>-</td><td>-</td><td>-</td><td>-</td><td>-</td><td>-</td><td>-</td><td>-</td><td>-</td><td>-</td><td>-</td><td>40926</td><td>63.87179</td><td>-24.13102</td><td>0.24</td><td>18.59</td><td>0.00</td><td>0.49</td><td>0.26</td><td>0.55</td><td>1.00</td><td>1.05</td><td>1.08</td><td>0.00</td><td>0.00</td><td>1.00</td></tr>\n",
       "<tr><td>VLAHFF-J041533.34-240730.5</td><td>63.88895</td><td>-24.12515</td><td>0.0</td><td>0.01</td><td>143.39</td><td>4.46</td><td>137.47</td><td>2.48</td><td>143.39</td><td>4.46</td><td>0.38</td><td>-</td><td>-</td><td>-</td><td>-</td><td>-</td><td>-</td><td>-</td><td>-</td><td>-</td><td>0.94</td><td>0.02</td><td>0.53</td><td>0.01</td><td>3.21</td><td>1.67</td><td>0.17</td><td>0.02</td><td>0.0</td><td>0.01</td><td>66.79</td><td>1.67</td><td>1.0</td><td>-</td><td>-</td><td>-</td><td>-</td><td>-</td><td>-</td><td>-</td><td>-</td><td>-</td><td>-</td><td>-</td><td>-</td><td>-</td><td>-</td><td>-</td><td>-</td><td>40866</td><td>63.88893</td><td>-24.12515</td><td>0.05</td><td>22.42</td><td>0.01</td><td>1.14</td><td>0.95</td><td>3.26</td><td>1.15</td><td>1.17</td><td>1.23</td><td>0.00</td><td>0.00</td><td>1.00</td></tr>\n",
       "<tr><td>VLAHFF-J041533.68-240824.3</td><td>63.89035</td><td>-24.14009</td><td>0.01</td><td>0.04</td><td>46.03</td><td>4.71</td><td>40.85</td><td>2.66</td><td>43.37</td><td>2.63</td><td>0.35</td><td>-</td><td>-</td><td>-</td><td>-</td><td>-</td><td>-</td><td>-</td><td>-</td><td>-</td><td>1.02</td><td>0.09</td><td>0.52</td><td>0.02</td><td>0.52</td><td>5.27</td><td>0.41</td><td>0.09</td><td>0.13</td><td>0.02</td><td>174.36</td><td>5.27</td><td>0.0</td><td>-</td><td>-</td><td>-</td><td>-</td><td>-</td><td>-</td><td>-</td><td>-</td><td>-</td><td>-</td><td>-</td><td>-</td><td>-</td><td>-</td><td>-</td><td>-</td><td>38162</td><td>63.89034</td><td>-24.14009</td><td>0.05</td><td>20.63</td><td>0.00</td><td>0.73</td><td>0.69</td><td>0.75</td><td>1.06</td><td>1.06</td><td>1.06</td><td>0.00</td><td>0.00</td><td>1.00</td></tr>\n",
       "<tr><td>VLAHFF-J041534.50-240016.1</td><td>63.89379</td><td>-24.00448</td><td>0.03</td><td>0.07</td><td>31.37</td><td>4.48</td><td>23.28</td><td>2.71</td><td>27.02</td><td>2.49</td><td>0.36</td><td>-</td><td>-</td><td>-</td><td>-</td><td>-</td><td>-</td><td>-</td><td>-</td><td>-</td><td>1.12</td><td>0.17</td><td>0.57</td><td>0.05</td><td>12.0</td><td>9.59</td><td>0.65</td><td>0.17</td><td>0.14</td><td>0.05</td><td>27.98</td><td>9.59</td><td>0.0</td><td>-</td><td>-</td><td>-</td><td>-</td><td>-</td><td>-</td><td>-</td><td>-</td><td>-</td><td>-</td><td>-</td><td>-</td><td>-</td><td>-</td><td>-</td><td>-</td><td>67484</td><td>63.89375</td><td>-24.00445</td><td>0.18</td><td>23.06</td><td>0.02</td><td>0.50</td><td>0.47</td><td>3.56</td><td>1.01</td><td>1.01</td><td>1.05</td><td>0.00</td><td>0.00</td><td>1.00</td></tr>\n",
       "</table>"
      ],
      "text/plain": [
       "<Table length=5>\n",
       "           NAME               RA       DEC    ... MU_STD MU_MAD N_MODELS\n",
       "          str26            float64   float64  ...  str4   str4    str4  \n",
       "-------------------------- -------- --------- ... ------ ------ --------\n",
       "VLAHFF-J041523.37-240205.2 63.84739  -24.0348 ...   0.00   0.00     1.00\n",
       "VLAHFF-J041529.21-240751.4 63.87175 -24.13097 ...   0.00   0.00     1.00\n",
       "VLAHFF-J041533.34-240730.5 63.88895 -24.12515 ...   0.00   0.00     1.00\n",
       "VLAHFF-J041533.68-240824.3 63.89035 -24.14009 ...   0.00   0.00     1.00\n",
       "VLAHFF-J041534.50-240016.1 63.89379 -24.00448 ...   0.00   0.00     1.00"
      ]
     },
     "execution_count": 7,
     "metadata": {},
     "output_type": "execute_result"
    }
   ],
   "source": [
    "cat[0:5]"
   ]
  },
  {
   "cell_type": "markdown",
   "metadata": {},
   "source": [
    "We are going to use the NAME field (which must be called NAME if stamp is used at the command line) as the target name.  I have modified the header of Ian's catalogs; instead of starting at \"0 NAME\", it starts at \"1 NAME\", the SExtractor default.\n",
    "\n",
    "We also need the RA and DEC fields (which must be called RA and DEC is stamp is used at the command line)."
   ]
  },
  {
   "cell_type": "code",
   "execution_count": 8,
   "metadata": {},
   "outputs": [],
   "source": [
    "targname = cat['NAME'].astype(str)\n",
    "ra = cat['RA']*u.degree\n",
    "dec = cat['DEC']*u.degree"
   ]
  },
  {
   "cell_type": "markdown",
   "metadata": {},
   "source": [
    "Now, call cutout, which writes the FITS files to a folder called 'output':"
   ]
  },
  {
   "cell_type": "code",
   "execution_count": 10,
   "metadata": {},
   "outputs": [],
   "source": [
    "stamp.cutout(imgs, ra, dec, targname)"
   ]
  },
  {
   "cell_type": "markdown",
   "metadata": {},
   "source": [
    "For each entry in the catalog, cutout attempts to make a stamp for each image.  If an image has no coverage for the source, the stamp is not written.\n",
    "\n",
    "The files are numbered first by their row in the catalog and second by the index in the list imgs.  0img0.fits is the stamp for the first entry and the first image.  E.g., for this exercise,\n",
    "\n",
    "[n]img0.fits = S band stamp\n",
    "\n",
    "[n]img1.fits = F606W stamp, main observation\n",
    "\n",
    "[n]img2.fits = F435W stamp, main observation\n",
    "\n",
    "[n]img3.fits = C band stamp\n",
    "\n",
    "[n]img4.fits = F160W stamp, main observation\n",
    "\n",
    "[n]img5.fits = F606W stamp, parallel observation\n",
    "\n",
    "[n]img6.fits = F160W stamp, parallel observation\n",
    "\n",
    "[n]img7.fits = F435W stamp, parallel observation\n",
    "\n",
    "[n]img8.fits = IRAC channel 1 stamp\n",
    "\n",
    "The last step is to use outputeps to create the PNG files.  outputeps requires 3 arguments: a cluster name, one of None, 'macs0416', 'macs0717', or 'macs1149'; the number of sources from the catalog; and colorbar, one of None or True.  If the cluster name is not None, an arrow is plotted showing the direction to the cluster center.  If colorbar is not None, a colorbar is plotted.  I recommend setting colorbar to None since its behavior in aplpy has changed recently.\n",
    "\n",
    "outputeps will sort the FITS images after reading them in to produce the PNG files.  Images without a FILTER keyword in the FITS header are sorted after the first image.  The exception is an image with TELESCOP = 'Spitzer' and CHNLNUM = 1 in the FITS header.  This image, and images with select HST FILTER keywords, are sorted by increasing wavelength.  E.g., for this exercise, the final sorting will be:\n",
    "\n",
    "S band stamp, C band stamp, 435W stamp regardless of observation type, 606W stamp regardless of observation type, 160W stamp regardless of observation type, IRAC channel 1 stamp.\n",
    "\n",
    "Now, call outputeps, which writes the PNG files to the folder 'output':"
   ]
  },
  {
   "cell_type": "code",
   "execution_count": 12,
   "metadata": {},
   "outputs": [
    {
     "name": "stdout",
     "output_type": "stream",
     "text": [
      "INFO: Auto-setting vmin to -3.149e-06 [aplpy.core]\n",
      "INFO: Auto-setting vmax to  2.561e-06 [aplpy.core]\n",
      "INFO: Auto-setting vmin to -3.137e-06 [aplpy.core]\n",
      "INFO: Auto-setting vmax to  2.733e-06 [aplpy.core]\n",
      "INFO: Auto-setting vmin to -3.340e-06 [aplpy.core]\n",
      "INFO: Auto-setting vmax to  2.743e-06 [aplpy.core]\n",
      "INFO: Auto-setting vmin to -3.120e-06 [aplpy.core]\n",
      "INFO: Auto-setting vmax to  2.666e-06 [aplpy.core]\n",
      "INFO: Auto-setting vmin to -2.949e-06 [aplpy.core]\n",
      "INFO: Auto-setting vmax to  2.492e-06 [aplpy.core]\n",
      "INFO: Auto-setting vmin to -3.100e-06 [aplpy.core]\n",
      "INFO: Auto-setting vmax to  2.502e-06 [aplpy.core]\n",
      "INFO: Auto-setting vmin to -3.332e-06 [aplpy.core]\n",
      "INFO: Auto-setting vmax to  2.701e-06 [aplpy.core]\n",
      "INFO: Auto-setting vmin to -3.285e-06 [aplpy.core]\n",
      "INFO: Auto-setting vmax to  2.602e-06 [aplpy.core]\n",
      "INFO: Auto-setting vmin to -3.234e-06 [aplpy.core]\n",
      "INFO: Auto-setting vmax to  2.537e-06 [aplpy.core]\n",
      "INFO: Auto-setting vmin to -3.404e-06 [aplpy.core]\n",
      "INFO: Auto-setting vmax to  2.444e-06 [aplpy.core]\n",
      "INFO: Auto-setting vmin to -3.055e-06 [aplpy.core]\n",
      "INFO: Auto-setting vmax to  2.685e-06 [aplpy.core]\n",
      "INFO: Auto-setting vmin to -3.341e-06 [aplpy.core]\n",
      "INFO: Auto-setting vmax to  2.988e-06 [aplpy.core]\n",
      "INFO: Auto-setting vmin to -3.275e-06 [aplpy.core]\n",
      "INFO: Auto-setting vmax to  2.454e-06 [aplpy.core]\n",
      "INFO: Auto-setting vmin to -2.871e-06 [aplpy.core]\n",
      "INFO: Auto-setting vmax to  2.605e-06 [aplpy.core]\n",
      "INFO: Auto-setting vmin to -3.226e-06 [aplpy.core]\n",
      "INFO: Auto-setting vmax to  2.742e-06 [aplpy.core]\n",
      "INFO: Auto-setting vmin to -3.402e-06 [aplpy.core]\n",
      "INFO: Auto-setting vmax to  2.808e-06 [aplpy.core]\n",
      "INFO: Auto-setting vmin to -3.142e-06 [aplpy.core]\n",
      "INFO: Auto-setting vmax to  2.767e-06 [aplpy.core]\n",
      "INFO: Auto-setting vmin to -3.566e-06 [aplpy.core]\n",
      "INFO: Auto-setting vmax to  2.905e-06 [aplpy.core]\n",
      "INFO: Auto-setting vmin to -3.051e-06 [aplpy.core]\n",
      "INFO: Auto-setting vmax to  2.670e-06 [aplpy.core]\n",
      "INFO: Auto-setting vmin to -3.712e-06 [aplpy.core]\n",
      "INFO: Auto-setting vmax to  2.950e-06 [aplpy.core]\n",
      "INFO: Auto-setting vmin to -3.110e-06 [aplpy.core]\n",
      "INFO: Auto-setting vmax to  2.712e-06 [aplpy.core]\n",
      "INFO: Auto-setting vmin to -5.195e-06 [aplpy.core]\n",
      "INFO: Auto-setting vmax to  3.794e-06 [aplpy.core]\n",
      "INFO: Auto-setting vmin to -3.072e-06 [aplpy.core]\n",
      "INFO: Auto-setting vmax to  2.791e-06 [aplpy.core]\n",
      "INFO: Auto-setting vmin to -3.380e-06 [aplpy.core]\n",
      "INFO: Auto-setting vmax to  2.464e-06 [aplpy.core]\n",
      "INFO: Auto-setting vmin to -3.183e-06 [aplpy.core]\n",
      "INFO: Auto-setting vmax to  2.667e-06 [aplpy.core]\n",
      "INFO: Auto-setting vmin to -3.588e-06 [aplpy.core]\n",
      "INFO: Auto-setting vmax to  2.542e-06 [aplpy.core]\n",
      "INFO: Auto-setting vmin to -3.482e-06 [aplpy.core]\n",
      "INFO: Auto-setting vmax to  2.837e-06 [aplpy.core]\n",
      "INFO: Auto-setting vmin to -3.168e-06 [aplpy.core]\n",
      "INFO: Auto-setting vmax to  2.855e-06 [aplpy.core]\n",
      "INFO: Auto-setting vmin to -3.306e-06 [aplpy.core]\n",
      "INFO: Auto-setting vmax to  2.339e-06 [aplpy.core]\n",
      "INFO: Auto-setting vmin to -3.096e-06 [aplpy.core]\n",
      "INFO: Auto-setting vmax to  2.890e-06 [aplpy.core]\n",
      "INFO: Auto-setting vmin to -3.435e-06 [aplpy.core]\n",
      "INFO: Auto-setting vmax to  3.011e-06 [aplpy.core]\n",
      "INFO: Auto-setting vmin to -3.035e-06 [aplpy.core]\n",
      "INFO: Auto-setting vmax to  2.387e-06 [aplpy.core]\n",
      "INFO: Auto-setting vmin to -3.544e-06 [aplpy.core]\n",
      "INFO: Auto-setting vmax to  2.664e-06 [aplpy.core]\n",
      "INFO: Auto-setting vmin to -3.254e-06 [aplpy.core]\n",
      "INFO: Auto-setting vmax to  2.320e-06 [aplpy.core]\n",
      "INFO: Auto-setting vmin to -3.586e-06 [aplpy.core]\n",
      "INFO: Auto-setting vmax to  2.541e-06 [aplpy.core]\n",
      "INFO: Auto-setting vmin to -3.068e-06 [aplpy.core]\n",
      "INFO: Auto-setting vmax to  2.300e-06 [aplpy.core]\n",
      "INFO: Auto-setting vmin to -3.147e-06 [aplpy.core]\n",
      "INFO: Auto-setting vmax to  2.901e-06 [aplpy.core]\n",
      "INFO: Auto-setting vmin to -3.026e-06 [aplpy.core]\n",
      "INFO: Auto-setting vmax to  2.320e-06 [aplpy.core]\n",
      "INFO: Auto-setting vmin to -3.365e-06 [aplpy.core]\n",
      "INFO: Auto-setting vmax to  2.705e-06 [aplpy.core]\n",
      "INFO: Auto-setting vmin to -2.944e-06 [aplpy.core]\n",
      "INFO: Auto-setting vmax to  2.317e-06 [aplpy.core]\n",
      "INFO: Auto-setting vmin to -3.736e-06 [aplpy.core]\n",
      "INFO: Auto-setting vmax to  3.120e-06 [aplpy.core]\n",
      "INFO: Auto-setting vmin to -3.269e-06 [aplpy.core]\n",
      "INFO: Auto-setting vmax to  2.417e-06 [aplpy.core]\n",
      "INFO: Auto-setting vmin to -2.896e-06 [aplpy.core]\n",
      "INFO: Auto-setting vmax to  2.565e-06 [aplpy.core]\n",
      "INFO: Auto-setting vmin to -2.994e-06 [aplpy.core]\n",
      "INFO: Auto-setting vmax to  2.334e-06 [aplpy.core]\n",
      "INFO: Auto-setting vmin to -2.988e-06 [aplpy.core]\n",
      "INFO: Auto-setting vmax to  3.001e-06 [aplpy.core]\n",
      "INFO: Auto-setting vmin to -2.765e-06 [aplpy.core]\n",
      "INFO: Auto-setting vmax to  2.253e-06 [aplpy.core]\n",
      "INFO: Auto-setting vmin to -3.571e-06 [aplpy.core]\n",
      "INFO: Auto-setting vmax to  2.653e-06 [aplpy.core]\n",
      "INFO: Auto-setting vmin to -3.061e-06 [aplpy.core]\n",
      "INFO: Auto-setting vmax to  2.245e-06 [aplpy.core]\n",
      "INFO: Auto-setting vmin to -3.222e-06 [aplpy.core]\n",
      "INFO: Auto-setting vmax to  2.608e-06 [aplpy.core]\n",
      "INFO: Auto-setting vmin to -4.093e-06 [aplpy.core]\n",
      "INFO: Auto-setting vmax to  3.051e-06 [aplpy.core]\n"
     ]
    },
    {
     "name": "stderr",
     "output_type": "stream",
     "text": [
      "WARNING: Cannot determine equinox. Assuming J2000. [aplpy.wcs_util]\n",
      "WARNING: Cannot determine equinox. Assuming J2000. [aplpy.wcs_util]\n",
      "WARNING: Cannot determine equinox. Assuming J2000. [aplpy.wcs_util]\n"
     ]
    },
    {
     "name": "stdout",
     "output_type": "stream",
     "text": [
      "INFO: Auto-setting vmin to -2.525e-02 [aplpy.core]\n",
      "INFO: Auto-setting vmax to  1.177e-01 [aplpy.core]\n"
     ]
    },
    {
     "name": "stderr",
     "output_type": "stream",
     "text": [
      "/Users/kpenner/anaconda2/lib/python2.7/site-packages/aplpy/normalize.py:115: RuntimeWarning: invalid value encountered in less\n",
      "  negative = result < 0.\n"
     ]
    },
    {
     "name": "stdout",
     "output_type": "stream",
     "text": [
      "INFO: Auto-setting vmin to -3.028e-06 [aplpy.core]\n",
      "INFO: Auto-setting vmax to  2.452e-06 [aplpy.core]\n",
      "INFO: Auto-setting vmin to -2.948e-06 [aplpy.core]\n",
      "INFO: Auto-setting vmax to  2.152e-06 [aplpy.core]\n"
     ]
    },
    {
     "name": "stderr",
     "output_type": "stream",
     "text": [
      "WARNING: Cannot determine equinox. Assuming J2000. [aplpy.wcs_util]\n",
      "WARNING: Cannot determine equinox. Assuming J2000. [aplpy.wcs_util]\n",
      "WARNING: Cannot determine equinox. Assuming J2000. [aplpy.wcs_util]\n"
     ]
    },
    {
     "name": "stdout",
     "output_type": "stream",
     "text": [
      "INFO: Auto-setting vmin to -6.362e-02 [aplpy.core]\n",
      "INFO: Auto-setting vmax to  5.095e-01 [aplpy.core]\n",
      "INFO: Auto-setting vmin to -2.982e-06 [aplpy.core]\n",
      "INFO: Auto-setting vmax to  2.582e-06 [aplpy.core]\n",
      "INFO: Auto-setting vmin to -3.002e-06 [aplpy.core]\n",
      "INFO: Auto-setting vmax to  2.196e-06 [aplpy.core]\n",
      "INFO: Auto-setting vmin to -3.398e-06 [aplpy.core]\n",
      "INFO: Auto-setting vmax to  2.680e-06 [aplpy.core]\n",
      "INFO: Auto-setting vmin to -2.678e-06 [aplpy.core]\n",
      "INFO: Auto-setting vmax to  3.160e-06 [aplpy.core]\n",
      "INFO: Auto-setting vmin to -2.788e-06 [aplpy.core]\n",
      "INFO: Auto-setting vmax to  2.198e-06 [aplpy.core]\n",
      "INFO: Auto-setting vmin to -3.118e-06 [aplpy.core]\n",
      "INFO: Auto-setting vmax to  3.093e-06 [aplpy.core]\n",
      "INFO: Auto-setting vmin to -2.924e-06 [aplpy.core]\n",
      "INFO: Auto-setting vmax to  2.275e-06 [aplpy.core]\n",
      "INFO: Auto-setting vmin to -3.248e-06 [aplpy.core]\n",
      "INFO: Auto-setting vmax to  2.695e-06 [aplpy.core]\n",
      "INFO: Auto-setting vmin to -2.997e-06 [aplpy.core]\n",
      "INFO: Auto-setting vmax to  2.204e-06 [aplpy.core]\n"
     ]
    },
    {
     "name": "stderr",
     "output_type": "stream",
     "text": [
      "WARNING: Cannot determine equinox. Assuming J2000. [aplpy.wcs_util]\n",
      "WARNING: Cannot determine equinox. Assuming J2000. [aplpy.wcs_util]\n",
      "WARNING: Cannot determine equinox. Assuming J2000. [aplpy.wcs_util]\n"
     ]
    },
    {
     "name": "stdout",
     "output_type": "stream",
     "text": [
      "INFO: Auto-setting vmin to -8.029e-02 [aplpy.core]\n",
      "INFO: Auto-setting vmax to  7.424e-01 [aplpy.core]\n",
      "INFO: Auto-setting vmin to -3.333e-06 [aplpy.core]\n",
      "INFO: Auto-setting vmax to  2.528e-06 [aplpy.core]\n",
      "INFO: Auto-setting vmin to -3.057e-06 [aplpy.core]\n",
      "INFO: Auto-setting vmax to  2.155e-06 [aplpy.core]\n",
      "INFO: Auto-setting vmin to -3.151e-06 [aplpy.core]\n",
      "INFO: Auto-setting vmax to  2.438e-06 [aplpy.core]\n",
      "INFO: Auto-setting vmin to -2.962e-06 [aplpy.core]\n",
      "INFO: Auto-setting vmax to  2.125e-06 [aplpy.core]\n",
      "INFO: Auto-setting vmin to -3.338e-06 [aplpy.core]\n",
      "INFO: Auto-setting vmax to  2.418e-06 [aplpy.core]\n",
      "INFO: Auto-setting vmin to -2.902e-06 [aplpy.core]\n",
      "INFO: Auto-setting vmax to  2.062e-06 [aplpy.core]\n",
      "INFO: Auto-setting vmin to -3.852e-06 [aplpy.core]\n",
      "INFO: Auto-setting vmax to  2.718e-06 [aplpy.core]\n",
      "INFO: Auto-setting vmin to -2.926e-06 [aplpy.core]\n",
      "INFO: Auto-setting vmax to  2.221e-06 [aplpy.core]\n",
      "INFO: Auto-setting vmin to -3.349e-06 [aplpy.core]\n",
      "INFO: Auto-setting vmax to  3.239e-06 [aplpy.core]\n",
      "INFO: Auto-setting vmin to -2.785e-06 [aplpy.core]\n",
      "INFO: Auto-setting vmax to  2.120e-06 [aplpy.core]\n",
      "INFO: Auto-setting vmin to -3.075e-06 [aplpy.core]\n",
      "INFO: Auto-setting vmax to  2.516e-06 [aplpy.core]\n",
      "INFO: Auto-setting vmin to -3.468e-06 [aplpy.core]\n",
      "INFO: Auto-setting vmax to  2.678e-06 [aplpy.core]\n",
      "INFO: Auto-setting vmin to -2.934e-06 [aplpy.core]\n",
      "INFO: Auto-setting vmax to  2.105e-06 [aplpy.core]\n"
     ]
    },
    {
     "name": "stderr",
     "output_type": "stream",
     "text": [
      "WARNING: Cannot determine equinox. Assuming J2000. [aplpy.wcs_util]\n",
      "WARNING: Cannot determine equinox. Assuming J2000. [aplpy.wcs_util]\n",
      "WARNING: Cannot determine equinox. Assuming J2000. [aplpy.wcs_util]\n"
     ]
    },
    {
     "name": "stdout",
     "output_type": "stream",
     "text": [
      "INFO: Auto-setting vmin to -4.167e-02 [aplpy.core]\n",
      "INFO: Auto-setting vmax to  2.211e-01 [aplpy.core]\n",
      "INFO: Auto-setting vmin to -3.520e-06 [aplpy.core]\n",
      "INFO: Auto-setting vmax to  2.624e-06 [aplpy.core]\n",
      "INFO: Auto-setting vmin to -3.184e-06 [aplpy.core]\n",
      "INFO: Auto-setting vmax to  2.537e-06 [aplpy.core]\n",
      "INFO: Auto-setting vmin to -2.901e-06 [aplpy.core]\n",
      "INFO: Auto-setting vmax to  2.248e-06 [aplpy.core]\n",
      "INFO: Auto-setting vmin to -3.343e-06 [aplpy.core]\n",
      "INFO: Auto-setting vmax to  3.456e-06 [aplpy.core]\n",
      "INFO: Auto-setting vmin to -2.955e-06 [aplpy.core]\n",
      "INFO: Auto-setting vmax to  2.209e-06 [aplpy.core]\n",
      "INFO: Auto-setting vmin to -3.778e-06 [aplpy.core]\n",
      "INFO: Auto-setting vmax to  2.461e-06 [aplpy.core]\n",
      "INFO: Auto-setting vmin to -2.895e-06 [aplpy.core]\n",
      "INFO: Auto-setting vmax to  2.142e-06 [aplpy.core]\n"
     ]
    },
    {
     "name": "stderr",
     "output_type": "stream",
     "text": [
      "WARNING: Cannot determine equinox. Assuming J2000. [aplpy.wcs_util]\n",
      "WARNING: Cannot determine equinox. Assuming J2000. [aplpy.wcs_util]\n",
      "WARNING: Cannot determine equinox. Assuming J2000. [aplpy.wcs_util]\n"
     ]
    },
    {
     "name": "stdout",
     "output_type": "stream",
     "text": [
      "INFO: Auto-setting vmin to -2.280e-02 [aplpy.core]\n",
      "INFO: Auto-setting vmax to  4.567e-02 [aplpy.core]\n",
      "INFO: Auto-setting vmin to -3.577e-06 [aplpy.core]\n",
      "INFO: Auto-setting vmax to  2.593e-06 [aplpy.core]\n",
      "INFO: Auto-setting vmin to -3.122e-06 [aplpy.core]\n",
      "INFO: Auto-setting vmax to  2.143e-06 [aplpy.core]\n",
      "INFO: Auto-setting vmin to -2.977e-06 [aplpy.core]\n",
      "INFO: Auto-setting vmax to  2.929e-06 [aplpy.core]\n",
      "INFO: Auto-setting vmin to -2.889e-06 [aplpy.core]\n",
      "INFO: Auto-setting vmax to  2.134e-06 [aplpy.core]\n"
     ]
    },
    {
     "name": "stderr",
     "output_type": "stream",
     "text": [
      "WARNING: Cannot determine equinox. Assuming J2000. [aplpy.wcs_util]\n",
      "WARNING: Cannot determine equinox. Assuming J2000. [aplpy.wcs_util]\n",
      "WARNING: Cannot determine equinox. Assuming J2000. [aplpy.wcs_util]\n"
     ]
    },
    {
     "name": "stdout",
     "output_type": "stream",
     "text": [
      "INFO: Auto-setting vmin to -2.258e-02 [aplpy.core]\n",
      "INFO: Auto-setting vmax to  5.823e-02 [aplpy.core]\n",
      "INFO: Auto-setting vmin to -3.130e-06 [aplpy.core]\n",
      "INFO: Auto-setting vmax to  2.928e-06 [aplpy.core]\n",
      "INFO: Auto-setting vmin to -3.764e-06 [aplpy.core]\n",
      "INFO: Auto-setting vmax to  2.529e-06 [aplpy.core]\n",
      "INFO: Auto-setting vmin to -3.352e-06 [aplpy.core]\n",
      "INFO: Auto-setting vmax to  2.586e-06 [aplpy.core]\n",
      "INFO: Auto-setting vmin to -3.337e-06 [aplpy.core]\n",
      "INFO: Auto-setting vmax to  2.658e-06 [aplpy.core]\n",
      "INFO: Auto-setting vmin to -3.470e-06 [aplpy.core]\n",
      "INFO: Auto-setting vmax to  2.755e-06 [aplpy.core]\n",
      "INFO: Auto-setting vmin to -2.768e-06 [aplpy.core]\n",
      "INFO: Auto-setting vmax to  2.060e-06 [aplpy.core]\n"
     ]
    },
    {
     "name": "stderr",
     "output_type": "stream",
     "text": [
      "WARNING: Cannot determine equinox. Assuming J2000. [aplpy.wcs_util]\n",
      "WARNING: Cannot determine equinox. Assuming J2000. [aplpy.wcs_util]\n",
      "WARNING: Cannot determine equinox. Assuming J2000. [aplpy.wcs_util]\n"
     ]
    },
    {
     "name": "stdout",
     "output_type": "stream",
     "text": [
      "INFO: Auto-setting vmin to -2.279e-02 [aplpy.core]\n",
      "INFO: Auto-setting vmax to  5.971e-02 [aplpy.core]\n",
      "INFO: Auto-setting vmin to -3.552e-06 [aplpy.core]\n",
      "INFO: Auto-setting vmax to  3.059e-06 [aplpy.core]\n",
      "INFO: Auto-setting vmin to -2.876e-06 [aplpy.core]\n",
      "INFO: Auto-setting vmax to  2.161e-06 [aplpy.core]\n"
     ]
    },
    {
     "name": "stderr",
     "output_type": "stream",
     "text": [
      "WARNING: Cannot determine equinox. Assuming J2000. [aplpy.wcs_util]\n",
      "WARNING: Cannot determine equinox. Assuming J2000. [aplpy.wcs_util]\n",
      "WARNING: Cannot determine equinox. Assuming J2000. [aplpy.wcs_util]\n"
     ]
    },
    {
     "name": "stdout",
     "output_type": "stream",
     "text": [
      "INFO: Auto-setting vmin to -4.173e-02 [aplpy.core]\n",
      "INFO: Auto-setting vmax to  2.182e-01 [aplpy.core]\n",
      "INFO: Auto-setting vmin to -2.939e-06 [aplpy.core]\n",
      "INFO: Auto-setting vmax to  2.622e-06 [aplpy.core]\n",
      "INFO: Auto-setting vmin to -2.840e-06 [aplpy.core]\n",
      "INFO: Auto-setting vmax to  2.152e-06 [aplpy.core]\n"
     ]
    },
    {
     "name": "stderr",
     "output_type": "stream",
     "text": [
      "WARNING: Cannot determine equinox. Assuming J2000. [aplpy.wcs_util]\n",
      "WARNING: Cannot determine equinox. Assuming J2000. [aplpy.wcs_util]\n",
      "WARNING: Cannot determine equinox. Assuming J2000. [aplpy.wcs_util]\n"
     ]
    },
    {
     "name": "stdout",
     "output_type": "stream",
     "text": [
      "INFO: Auto-setting vmin to -2.320e-02 [aplpy.core]\n",
      "INFO: Auto-setting vmax to  7.133e-02 [aplpy.core]\n",
      "INFO: Auto-setting vmin to -3.325e-06 [aplpy.core]\n",
      "INFO: Auto-setting vmax to  2.749e-06 [aplpy.core]\n",
      "INFO: Auto-setting vmin to -2.969e-06 [aplpy.core]\n",
      "INFO: Auto-setting vmax to  2.083e-06 [aplpy.core]\n"
     ]
    },
    {
     "name": "stderr",
     "output_type": "stream",
     "text": [
      "WARNING: Cannot determine equinox. Assuming J2000. [aplpy.wcs_util]\n",
      "WARNING: Cannot determine equinox. Assuming J2000. [aplpy.wcs_util]\n",
      "WARNING: Cannot determine equinox. Assuming J2000. [aplpy.wcs_util]\n"
     ]
    },
    {
     "name": "stdout",
     "output_type": "stream",
     "text": [
      "INFO: Auto-setting vmin to -3.321e-02 [aplpy.core]\n",
      "INFO: Auto-setting vmax to  9.976e-02 [aplpy.core]\n",
      "INFO: Auto-setting vmin to -3.174e-06 [aplpy.core]\n",
      "INFO: Auto-setting vmax to  2.547e-06 [aplpy.core]\n",
      "INFO: Auto-setting vmin to -3.024e-06 [aplpy.core]\n",
      "INFO: Auto-setting vmax to  2.184e-06 [aplpy.core]\n",
      "INFO: Auto-setting vmin to -3.047e-06 [aplpy.core]\n",
      "INFO: Auto-setting vmax to  3.477e-06 [aplpy.core]\n",
      "INFO: Auto-setting vmin to -2.921e-06 [aplpy.core]\n",
      "INFO: Auto-setting vmax to  2.268e-06 [aplpy.core]\n"
     ]
    },
    {
     "name": "stderr",
     "output_type": "stream",
     "text": [
      "WARNING: Cannot determine equinox. Assuming J2000. [aplpy.wcs_util]\n",
      "WARNING: Cannot determine equinox. Assuming J2000. [aplpy.wcs_util]\n",
      "WARNING: Cannot determine equinox. Assuming J2000. [aplpy.wcs_util]\n"
     ]
    },
    {
     "name": "stdout",
     "output_type": "stream",
     "text": [
      "INFO: Auto-setting vmin to -6.120e-02 [aplpy.core]\n",
      "INFO: Auto-setting vmax to  5.446e-01 [aplpy.core]\n",
      "INFO: Auto-setting vmin to -3.158e-06 [aplpy.core]\n",
      "INFO: Auto-setting vmax to  2.348e-06 [aplpy.core]\n",
      "INFO: Auto-setting vmin to -2.879e-06 [aplpy.core]\n",
      "INFO: Auto-setting vmax to  2.084e-06 [aplpy.core]\n"
     ]
    },
    {
     "name": "stderr",
     "output_type": "stream",
     "text": [
      "WARNING: Cannot determine equinox. Assuming J2000. [aplpy.wcs_util]\n",
      "WARNING: Cannot determine equinox. Assuming J2000. [aplpy.wcs_util]\n",
      "WARNING: Cannot determine equinox. Assuming J2000. [aplpy.wcs_util]\n"
     ]
    },
    {
     "name": "stdout",
     "output_type": "stream",
     "text": [
      "INFO: Auto-setting vmin to -2.031e-02 [aplpy.core]\n",
      "INFO: Auto-setting vmax to  3.577e-02 [aplpy.core]\n",
      "INFO: Auto-setting vmin to -3.513e-06 [aplpy.core]\n",
      "INFO: Auto-setting vmax to  2.644e-06 [aplpy.core]\n",
      "INFO: Auto-setting vmin to -2.824e-06 [aplpy.core]\n",
      "INFO: Auto-setting vmax to  2.193e-06 [aplpy.core]\n"
     ]
    },
    {
     "name": "stderr",
     "output_type": "stream",
     "text": [
      "WARNING: Cannot determine equinox. Assuming J2000. [aplpy.wcs_util]\n",
      "WARNING: Cannot determine equinox. Assuming J2000. [aplpy.wcs_util]\n",
      "WARNING: Cannot determine equinox. Assuming J2000. [aplpy.wcs_util]\n"
     ]
    },
    {
     "name": "stdout",
     "output_type": "stream",
     "text": [
      "INFO: Auto-setting vmin to -5.744e-02 [aplpy.core]\n",
      "INFO: Auto-setting vmax to  6.278e-01 [aplpy.core]\n",
      "INFO: Auto-setting vmin to -3.079e-06 [aplpy.core]\n",
      "INFO: Auto-setting vmax to  2.443e-06 [aplpy.core]\n",
      "INFO: Auto-setting vmin to -3.563e-06 [aplpy.core]\n",
      "INFO: Auto-setting vmax to  2.706e-06 [aplpy.core]\n"
     ]
    },
    {
     "name": "stderr",
     "output_type": "stream",
     "text": [
      "WARNING: Cannot determine equinox. Assuming J2000. [aplpy.wcs_util]\n",
      "WARNING: Cannot determine equinox. Assuming J2000. [aplpy.wcs_util]\n",
      "WARNING: Cannot determine equinox. Assuming J2000. [aplpy.wcs_util]\n"
     ]
    },
    {
     "name": "stdout",
     "output_type": "stream",
     "text": [
      "INFO: Auto-setting vmin to -1.373e-02 [aplpy.core]\n",
      "INFO: Auto-setting vmax to  5.586e-02 [aplpy.core]\n",
      "INFO: Auto-setting vmin to -3.065e-06 [aplpy.core]\n",
      "INFO: Auto-setting vmax to  2.431e-06 [aplpy.core]\n",
      "INFO: Auto-setting vmin to -2.798e-06 [aplpy.core]\n",
      "INFO: Auto-setting vmax to  2.007e-06 [aplpy.core]\n"
     ]
    },
    {
     "name": "stderr",
     "output_type": "stream",
     "text": [
      "WARNING: Cannot determine equinox. Assuming J2000. [aplpy.wcs_util]\n",
      "WARNING: Cannot determine equinox. Assuming J2000. [aplpy.wcs_util]\n",
      "WARNING: Cannot determine equinox. Assuming J2000. [aplpy.wcs_util]\n"
     ]
    },
    {
     "name": "stdout",
     "output_type": "stream",
     "text": [
      "INFO: Auto-setting vmin to -1.759e-02 [aplpy.core]\n",
      "INFO: Auto-setting vmax to  3.178e-02 [aplpy.core]\n",
      "INFO: Auto-setting vmin to -3.048e-06 [aplpy.core]\n",
      "INFO: Auto-setting vmax to  2.663e-06 [aplpy.core]\n",
      "INFO: Auto-setting vmin to -2.879e-06 [aplpy.core]\n",
      "INFO: Auto-setting vmax to  2.579e-06 [aplpy.core]\n",
      "INFO: Auto-setting vmin to -3.023e-06 [aplpy.core]\n",
      "INFO: Auto-setting vmax to  2.232e-06 [aplpy.core]\n",
      "INFO: Auto-setting vmin to -3.350e-06 [aplpy.core]\n",
      "INFO: Auto-setting vmax to  3.086e-06 [aplpy.core]\n",
      "INFO: Auto-setting vmin to -2.924e-06 [aplpy.core]\n",
      "INFO: Auto-setting vmax to  2.027e-06 [aplpy.core]\n"
     ]
    },
    {
     "name": "stderr",
     "output_type": "stream",
     "text": [
      "WARNING: Cannot determine equinox. Assuming J2000. [aplpy.wcs_util]\n",
      "WARNING: Cannot determine equinox. Assuming J2000. [aplpy.wcs_util]\n",
      "WARNING: Cannot determine equinox. Assuming J2000. [aplpy.wcs_util]\n"
     ]
    },
    {
     "name": "stdout",
     "output_type": "stream",
     "text": [
      "INFO: Auto-setting vmin to -3.942e-02 [aplpy.core]\n",
      "INFO: Auto-setting vmax to  4.158e-01 [aplpy.core]\n",
      "INFO: Auto-setting vmin to -3.525e-06 [aplpy.core]\n",
      "INFO: Auto-setting vmax to  2.989e-06 [aplpy.core]\n",
      "INFO: Auto-setting vmin to -2.825e-06 [aplpy.core]\n",
      "INFO: Auto-setting vmax to  2.063e-06 [aplpy.core]\n"
     ]
    },
    {
     "name": "stderr",
     "output_type": "stream",
     "text": [
      "WARNING: Cannot determine equinox. Assuming J2000. [aplpy.wcs_util]\n",
      "WARNING: Cannot determine equinox. Assuming J2000. [aplpy.wcs_util]\n",
      "WARNING: Cannot determine equinox. Assuming J2000. [aplpy.wcs_util]\n"
     ]
    },
    {
     "name": "stdout",
     "output_type": "stream",
     "text": [
      "INFO: Auto-setting vmin to -6.012e-02 [aplpy.core]\n",
      "INFO: Auto-setting vmax to  5.527e-01 [aplpy.core]\n",
      "INFO: Auto-setting vmin to -3.045e-06 [aplpy.core]\n",
      "INFO: Auto-setting vmax to  2.750e-06 [aplpy.core]\n",
      "INFO: Auto-setting vmin to -2.857e-06 [aplpy.core]\n",
      "INFO: Auto-setting vmax to  2.089e-06 [aplpy.core]\n"
     ]
    },
    {
     "name": "stderr",
     "output_type": "stream",
     "text": [
      "WARNING: Cannot determine equinox. Assuming J2000. [aplpy.wcs_util]\n",
      "WARNING: Cannot determine equinox. Assuming J2000. [aplpy.wcs_util]\n",
      "WARNING: Cannot determine equinox. Assuming J2000. [aplpy.wcs_util]\n"
     ]
    },
    {
     "name": "stdout",
     "output_type": "stream",
     "text": [
      "INFO: Auto-setting vmin to -5.623e-02 [aplpy.core]\n",
      "INFO: Auto-setting vmax to  4.923e-01 [aplpy.core]\n",
      "INFO: Auto-setting vmin to -3.386e-06 [aplpy.core]\n",
      "INFO: Auto-setting vmax to  2.530e-06 [aplpy.core]\n",
      "INFO: Auto-setting vmin to -3.039e-06 [aplpy.core]\n",
      "INFO: Auto-setting vmax to  2.129e-06 [aplpy.core]\n"
     ]
    },
    {
     "name": "stderr",
     "output_type": "stream",
     "text": [
      "WARNING: Cannot determine equinox. Assuming J2000. [aplpy.wcs_util]\n",
      "WARNING: Cannot determine equinox. Assuming J2000. [aplpy.wcs_util]\n",
      "WARNING: Cannot determine equinox. Assuming J2000. [aplpy.wcs_util]\n"
     ]
    },
    {
     "name": "stdout",
     "output_type": "stream",
     "text": [
      "INFO: Auto-setting vmin to -1.384e-02 [aplpy.core]\n",
      "INFO: Auto-setting vmax to  9.084e-02 [aplpy.core]\n",
      "INFO: Auto-setting vmin to -3.169e-06 [aplpy.core]\n",
      "INFO: Auto-setting vmax to  2.846e-06 [aplpy.core]\n",
      "INFO: Auto-setting vmin to -3.025e-06 [aplpy.core]\n",
      "INFO: Auto-setting vmax to  2.289e-06 [aplpy.core]\n",
      "INFO: Auto-setting vmin to -3.356e-06 [aplpy.core]\n",
      "INFO: Auto-setting vmax to  3.151e-06 [aplpy.core]\n",
      "INFO: Auto-setting vmin to -2.995e-06 [aplpy.core]\n",
      "INFO: Auto-setting vmax to  2.418e-06 [aplpy.core]\n"
     ]
    },
    {
     "name": "stderr",
     "output_type": "stream",
     "text": [
      "WARNING: Cannot determine equinox. Assuming J2000. [aplpy.wcs_util]\n",
      "WARNING: Cannot determine equinox. Assuming J2000. [aplpy.wcs_util]\n",
      "WARNING: Cannot determine equinox. Assuming J2000. [aplpy.wcs_util]\n"
     ]
    },
    {
     "name": "stdout",
     "output_type": "stream",
     "text": [
      "INFO: Auto-setting vmin to -2.004e-02 [aplpy.core]\n",
      "INFO: Auto-setting vmax to  2.166e-01 [aplpy.core]\n",
      "INFO: Auto-setting vmin to -3.064e-06 [aplpy.core]\n",
      "INFO: Auto-setting vmax to  2.431e-06 [aplpy.core]\n",
      "INFO: Auto-setting vmin to -3.799e-06 [aplpy.core]\n",
      "INFO: Auto-setting vmax to  2.635e-06 [aplpy.core]\n",
      "INFO: Auto-setting vmin to -2.836e-06 [aplpy.core]\n",
      "INFO: Auto-setting vmax to  2.187e-06 [aplpy.core]\n",
      "INFO: Auto-setting vmin to -2.726e-06 [aplpy.core]\n",
      "INFO: Auto-setting vmax to  2.059e-06 [aplpy.core]\n"
     ]
    },
    {
     "name": "stderr",
     "output_type": "stream",
     "text": [
      "WARNING: Cannot determine equinox. Assuming J2000. [aplpy.wcs_util]\n",
      "WARNING: Cannot determine equinox. Assuming J2000. [aplpy.wcs_util]\n",
      "WARNING: Cannot determine equinox. Assuming J2000. [aplpy.wcs_util]\n"
     ]
    },
    {
     "name": "stdout",
     "output_type": "stream",
     "text": [
      "INFO: Auto-setting vmin to -1.375e-02 [aplpy.core]\n",
      "INFO: Auto-setting vmax to  9.805e-02 [aplpy.core]\n",
      "INFO: Auto-setting vmin to -2.667e-06 [aplpy.core]\n",
      "INFO: Auto-setting vmax to  2.610e-06 [aplpy.core]\n",
      "INFO: Auto-setting vmin to -2.961e-06 [aplpy.core]\n",
      "INFO: Auto-setting vmax to  2.039e-06 [aplpy.core]\n"
     ]
    },
    {
     "name": "stderr",
     "output_type": "stream",
     "text": [
      "WARNING: Cannot determine equinox. Assuming J2000. [aplpy.wcs_util]\n",
      "WARNING: Cannot determine equinox. Assuming J2000. [aplpy.wcs_util]\n",
      "WARNING: Cannot determine equinox. Assuming J2000. [aplpy.wcs_util]\n"
     ]
    },
    {
     "name": "stdout",
     "output_type": "stream",
     "text": [
      "INFO: Auto-setting vmin to -2.483e-02 [aplpy.core]\n",
      "INFO: Auto-setting vmax to  1.720e-01 [aplpy.core]\n",
      "INFO: Auto-setting vmin to -3.064e-06 [aplpy.core]\n",
      "INFO: Auto-setting vmax to  2.505e-06 [aplpy.core]\n",
      "INFO: Auto-setting vmin to -2.762e-06 [aplpy.core]\n",
      "INFO: Auto-setting vmax to  2.065e-06 [aplpy.core]\n"
     ]
    },
    {
     "name": "stderr",
     "output_type": "stream",
     "text": [
      "WARNING: Cannot determine equinox. Assuming J2000. [aplpy.wcs_util]\n",
      "WARNING: Cannot determine equinox. Assuming J2000. [aplpy.wcs_util]\n",
      "WARNING: Cannot determine equinox. Assuming J2000. [aplpy.wcs_util]\n"
     ]
    },
    {
     "name": "stdout",
     "output_type": "stream",
     "text": [
      "INFO: Auto-setting vmin to -2.922e-02 [aplpy.core]\n",
      "INFO: Auto-setting vmax to  3.269e-02 [aplpy.core]\n",
      "INFO: Auto-setting vmin to -3.593e-06 [aplpy.core]\n",
      "INFO: Auto-setting vmax to  3.232e-06 [aplpy.core]\n",
      "INFO: Auto-setting vmin to -2.977e-06 [aplpy.core]\n",
      "INFO: Auto-setting vmax to  2.391e-06 [aplpy.core]\n",
      "INFO: Auto-setting vmin to -2.919e-06 [aplpy.core]\n",
      "INFO: Auto-setting vmax to  2.534e-06 [aplpy.core]\n",
      "INFO: Auto-setting vmin to -3.603e-06 [aplpy.core]\n",
      "INFO: Auto-setting vmax to  2.663e-06 [aplpy.core]\n"
     ]
    },
    {
     "name": "stderr",
     "output_type": "stream",
     "text": [
      "WARNING: Cannot determine equinox. Assuming J2000. [aplpy.wcs_util]\n",
      "WARNING: Cannot determine equinox. Assuming J2000. [aplpy.wcs_util]\n",
      "WARNING: Cannot determine equinox. Assuming J2000. [aplpy.wcs_util]\n"
     ]
    },
    {
     "name": "stdout",
     "output_type": "stream",
     "text": [
      "INFO: Auto-setting vmin to -1.923e-02 [aplpy.core]\n",
      "INFO: Auto-setting vmax to  1.313e-01 [aplpy.core]\n",
      "INFO: Auto-setting vmin to -3.287e-06 [aplpy.core]\n",
      "INFO: Auto-setting vmax to  2.616e-06 [aplpy.core]\n",
      "INFO: Auto-setting vmin to -2.612e-06 [aplpy.core]\n",
      "INFO: Auto-setting vmax to  1.937e-06 [aplpy.core]\n"
     ]
    },
    {
     "name": "stderr",
     "output_type": "stream",
     "text": [
      "WARNING: Cannot determine equinox. Assuming J2000. [aplpy.wcs_util]\n",
      "WARNING: Cannot determine equinox. Assuming J2000. [aplpy.wcs_util]\n",
      "WARNING: Cannot determine equinox. Assuming J2000. [aplpy.wcs_util]\n"
     ]
    },
    {
     "name": "stdout",
     "output_type": "stream",
     "text": [
      "INFO: Auto-setting vmin to -2.091e-02 [aplpy.core]\n",
      "INFO: Auto-setting vmax to  1.920e-01 [aplpy.core]\n",
      "INFO: Auto-setting vmin to -3.777e-06 [aplpy.core]\n",
      "INFO: Auto-setting vmax to  3.108e-06 [aplpy.core]\n",
      "INFO: Auto-setting vmin to -3.413e-06 [aplpy.core]\n",
      "INFO: Auto-setting vmax to  2.518e-06 [aplpy.core]\n"
     ]
    },
    {
     "name": "stderr",
     "output_type": "stream",
     "text": [
      "WARNING: Cannot determine equinox. Assuming J2000. [aplpy.wcs_util]\n",
      "WARNING: Cannot determine equinox. Assuming J2000. [aplpy.wcs_util]\n",
      "WARNING: Cannot determine equinox. Assuming J2000. [aplpy.wcs_util]\n"
     ]
    },
    {
     "name": "stdout",
     "output_type": "stream",
     "text": [
      "INFO: Auto-setting vmin to -1.231e-02 [aplpy.core]\n",
      "INFO: Auto-setting vmax to  6.762e-02 [aplpy.core]\n",
      "INFO: Auto-setting vmin to -3.158e-06 [aplpy.core]\n",
      "INFO: Auto-setting vmax to  2.609e-06 [aplpy.core]\n",
      "INFO: Auto-setting vmin to -3.054e-06 [aplpy.core]\n",
      "INFO: Auto-setting vmax to  2.274e-06 [aplpy.core]\n"
     ]
    },
    {
     "name": "stderr",
     "output_type": "stream",
     "text": [
      "WARNING: Cannot determine equinox. Assuming J2000. [aplpy.wcs_util]\n",
      "WARNING: Cannot determine equinox. Assuming J2000. [aplpy.wcs_util]\n",
      "WARNING: Cannot determine equinox. Assuming J2000. [aplpy.wcs_util]\n"
     ]
    },
    {
     "name": "stdout",
     "output_type": "stream",
     "text": [
      "INFO: Auto-setting vmin to -2.488e-02 [aplpy.core]\n",
      "INFO: Auto-setting vmax to  2.081e-01 [aplpy.core]\n",
      "INFO: Auto-setting vmin to -3.148e-06 [aplpy.core]\n",
      "INFO: Auto-setting vmax to  2.611e-06 [aplpy.core]\n",
      "INFO: Auto-setting vmin to -2.927e-06 [aplpy.core]\n",
      "INFO: Auto-setting vmax to  2.119e-06 [aplpy.core]\n"
     ]
    },
    {
     "name": "stderr",
     "output_type": "stream",
     "text": [
      "WARNING: Cannot determine equinox. Assuming J2000. [aplpy.wcs_util]\n",
      "WARNING: Cannot determine equinox. Assuming J2000. [aplpy.wcs_util]\n",
      "WARNING: Cannot determine equinox. Assuming J2000. [aplpy.wcs_util]\n"
     ]
    },
    {
     "name": "stdout",
     "output_type": "stream",
     "text": [
      "INFO: Auto-setting vmin to -2.664e-02 [aplpy.core]\n",
      "INFO: Auto-setting vmax to  6.949e-02 [aplpy.core]\n",
      "INFO: Auto-setting vmin to -2.981e-06 [aplpy.core]\n",
      "INFO: Auto-setting vmax to  2.384e-06 [aplpy.core]\n",
      "INFO: Auto-setting vmin to -3.035e-06 [aplpy.core]\n",
      "INFO: Auto-setting vmax to  2.304e-06 [aplpy.core]\n",
      "INFO: Auto-setting vmin to -3.266e-06 [aplpy.core]\n",
      "INFO: Auto-setting vmax to  2.991e-06 [aplpy.core]\n",
      "INFO: Auto-setting vmin to -2.846e-06 [aplpy.core]\n",
      "INFO: Auto-setting vmax to  2.109e-06 [aplpy.core]\n"
     ]
    },
    {
     "name": "stderr",
     "output_type": "stream",
     "text": [
      "WARNING: Cannot determine equinox. Assuming J2000. [aplpy.wcs_util]\n",
      "WARNING: Cannot determine equinox. Assuming J2000. [aplpy.wcs_util]\n",
      "WARNING: Cannot determine equinox. Assuming J2000. [aplpy.wcs_util]\n"
     ]
    },
    {
     "name": "stdout",
     "output_type": "stream",
     "text": [
      "INFO: Auto-setting vmin to -1.663e-02 [aplpy.core]\n",
      "INFO: Auto-setting vmax to  1.455e-01 [aplpy.core]\n",
      "INFO: Auto-setting vmin to -2.990e-06 [aplpy.core]\n",
      "INFO: Auto-setting vmax to  2.835e-06 [aplpy.core]\n",
      "INFO: Auto-setting vmin to -3.194e-06 [aplpy.core]\n",
      "INFO: Auto-setting vmax to  2.318e-06 [aplpy.core]\n"
     ]
    },
    {
     "name": "stderr",
     "output_type": "stream",
     "text": [
      "WARNING: Cannot determine equinox. Assuming J2000. [aplpy.wcs_util]\n",
      "WARNING: Cannot determine equinox. Assuming J2000. [aplpy.wcs_util]\n",
      "WARNING: Cannot determine equinox. Assuming J2000. [aplpy.wcs_util]\n"
     ]
    },
    {
     "name": "stdout",
     "output_type": "stream",
     "text": [
      "INFO: Auto-setting vmin to -1.296e-02 [aplpy.core]\n",
      "INFO: Auto-setting vmax to  8.049e-02 [aplpy.core]\n",
      "INFO: Auto-setting vmin to -3.510e-06 [aplpy.core]\n",
      "INFO: Auto-setting vmax to  2.857e-06 [aplpy.core]\n",
      "INFO: Auto-setting vmin to -2.905e-06 [aplpy.core]\n",
      "INFO: Auto-setting vmax to  2.177e-06 [aplpy.core]\n",
      "INFO: Auto-setting vmin to -3.168e-06 [aplpy.core]\n",
      "INFO: Auto-setting vmax to  3.049e-06 [aplpy.core]\n",
      "INFO: Auto-setting vmin to -2.907e-06 [aplpy.core]\n",
      "INFO: Auto-setting vmax to  2.165e-06 [aplpy.core]\n"
     ]
    },
    {
     "name": "stderr",
     "output_type": "stream",
     "text": [
      "WARNING: Cannot determine equinox. Assuming J2000. [aplpy.wcs_util]\n",
      "WARNING: Cannot determine equinox. Assuming J2000. [aplpy.wcs_util]\n",
      "WARNING: Cannot determine equinox. Assuming J2000. [aplpy.wcs_util]\n"
     ]
    },
    {
     "name": "stdout",
     "output_type": "stream",
     "text": [
      "INFO: Auto-setting vmin to -3.300e-02 [aplpy.core]\n",
      "INFO: Auto-setting vmax to  3.405e-01 [aplpy.core]\n",
      "INFO: Auto-setting vmin to -3.076e-06 [aplpy.core]\n",
      "INFO: Auto-setting vmax to  3.695e-06 [aplpy.core]\n"
     ]
    },
    {
     "name": "stderr",
     "output_type": "stream",
     "text": [
      "WARNING: Cannot determine equinox. Assuming J2000. [aplpy.wcs_util]\n",
      "WARNING: Cannot determine equinox. Assuming J2000. [aplpy.wcs_util]\n",
      "WARNING: Cannot determine equinox. Assuming J2000. [aplpy.wcs_util]\n"
     ]
    },
    {
     "name": "stdout",
     "output_type": "stream",
     "text": [
      "INFO: Auto-setting vmin to -1.747e-01 [aplpy.core]\n",
      "INFO: Auto-setting vmax to  1.987e+00 [aplpy.core]\n",
      "INFO: Auto-setting vmin to -3.038e-06 [aplpy.core]\n",
      "INFO: Auto-setting vmax to  2.674e-06 [aplpy.core]\n",
      "INFO: Auto-setting vmin to -2.948e-06 [aplpy.core]\n",
      "INFO: Auto-setting vmax to  2.116e-06 [aplpy.core]\n"
     ]
    },
    {
     "name": "stderr",
     "output_type": "stream",
     "text": [
      "WARNING: Cannot determine equinox. Assuming J2000. [aplpy.wcs_util]\n",
      "WARNING: Cannot determine equinox. Assuming J2000. [aplpy.wcs_util]\n",
      "WARNING: Cannot determine equinox. Assuming J2000. [aplpy.wcs_util]\n"
     ]
    },
    {
     "name": "stdout",
     "output_type": "stream",
     "text": [
      "INFO: Auto-setting vmin to -7.357e-03 [aplpy.core]\n",
      "INFO: Auto-setting vmax to  5.077e-02 [aplpy.core]\n",
      "INFO: Auto-setting vmin to -3.624e-06 [aplpy.core]\n",
      "INFO: Auto-setting vmax to  3.342e-06 [aplpy.core]\n",
      "INFO: Auto-setting vmin to -2.827e-06 [aplpy.core]\n",
      "INFO: Auto-setting vmax to  2.204e-06 [aplpy.core]\n"
     ]
    },
    {
     "name": "stderr",
     "output_type": "stream",
     "text": [
      "WARNING: Cannot determine equinox. Assuming J2000. [aplpy.wcs_util]\n",
      "WARNING: Cannot determine equinox. Assuming J2000. [aplpy.wcs_util]\n",
      "WARNING: Cannot determine equinox. Assuming J2000. [aplpy.wcs_util]\n"
     ]
    },
    {
     "name": "stdout",
     "output_type": "stream",
     "text": [
      "INFO: Auto-setting vmin to -1.862e-02 [aplpy.core]\n",
      "INFO: Auto-setting vmax to  1.770e-01 [aplpy.core]\n",
      "INFO: Auto-setting vmin to -3.224e-06 [aplpy.core]\n",
      "INFO: Auto-setting vmax to  2.721e-06 [aplpy.core]\n",
      "INFO: Auto-setting vmin to -3.352e-06 [aplpy.core]\n",
      "INFO: Auto-setting vmax to  2.881e-06 [aplpy.core]\n",
      "INFO: Auto-setting vmin to -2.914e-06 [aplpy.core]\n",
      "INFO: Auto-setting vmax to  2.233e-06 [aplpy.core]\n"
     ]
    },
    {
     "name": "stderr",
     "output_type": "stream",
     "text": [
      "WARNING: Cannot determine equinox. Assuming J2000. [aplpy.wcs_util]\n",
      "WARNING: Cannot determine equinox. Assuming J2000. [aplpy.wcs_util]\n",
      "WARNING: Cannot determine equinox. Assuming J2000. [aplpy.wcs_util]\n"
     ]
    },
    {
     "name": "stdout",
     "output_type": "stream",
     "text": [
      "INFO: Auto-setting vmin to -1.344e-02 [aplpy.core]\n",
      "INFO: Auto-setting vmax to  1.361e-01 [aplpy.core]\n",
      "INFO: Auto-setting vmin to -3.404e-06 [aplpy.core]\n",
      "INFO: Auto-setting vmax to  2.737e-06 [aplpy.core]\n",
      "INFO: Auto-setting vmin to -2.933e-06 [aplpy.core]\n",
      "INFO: Auto-setting vmax to  2.260e-06 [aplpy.core]\n"
     ]
    },
    {
     "name": "stderr",
     "output_type": "stream",
     "text": [
      "WARNING: Cannot determine equinox. Assuming J2000. [aplpy.wcs_util]\n",
      "WARNING: Cannot determine equinox. Assuming J2000. [aplpy.wcs_util]\n",
      "WARNING: Cannot determine equinox. Assuming J2000. [aplpy.wcs_util]\n"
     ]
    },
    {
     "name": "stdout",
     "output_type": "stream",
     "text": [
      "INFO: Auto-setting vmin to -1.148e-02 [aplpy.core]\n",
      "INFO: Auto-setting vmax to  8.554e-02 [aplpy.core]\n",
      "INFO: Auto-setting vmin to -2.839e-06 [aplpy.core]\n",
      "INFO: Auto-setting vmax to  2.448e-06 [aplpy.core]\n",
      "INFO: Auto-setting vmin to -3.148e-06 [aplpy.core]\n",
      "INFO: Auto-setting vmax to  3.907e-06 [aplpy.core]\n",
      "INFO: Auto-setting vmin to -2.792e-06 [aplpy.core]\n",
      "INFO: Auto-setting vmax to  2.208e-06 [aplpy.core]\n"
     ]
    },
    {
     "name": "stderr",
     "output_type": "stream",
     "text": [
      "WARNING: Cannot determine equinox. Assuming J2000. [aplpy.wcs_util]\n",
      "WARNING: Cannot determine equinox. Assuming J2000. [aplpy.wcs_util]\n",
      "WARNING: Cannot determine equinox. Assuming J2000. [aplpy.wcs_util]\n"
     ]
    },
    {
     "name": "stdout",
     "output_type": "stream",
     "text": [
      "INFO: Auto-setting vmin to -1.462e-02 [aplpy.core]\n",
      "INFO: Auto-setting vmax to  1.416e-01 [aplpy.core]\n",
      "INFO: Auto-setting vmin to -3.188e-06 [aplpy.core]\n",
      "INFO: Auto-setting vmax to  3.911e-06 [aplpy.core]\n",
      "INFO: Auto-setting vmin to -2.719e-06 [aplpy.core]\n",
      "INFO: Auto-setting vmax to  2.229e-06 [aplpy.core]\n"
     ]
    },
    {
     "name": "stderr",
     "output_type": "stream",
     "text": [
      "WARNING: Cannot determine equinox. Assuming J2000. [aplpy.wcs_util]\n",
      "WARNING: Cannot determine equinox. Assuming J2000. [aplpy.wcs_util]\n",
      "WARNING: Cannot determine equinox. Assuming J2000. [aplpy.wcs_util]\n"
     ]
    },
    {
     "name": "stdout",
     "output_type": "stream",
     "text": [
      "INFO: Auto-setting vmin to -1.530e-02 [aplpy.core]\n",
      "INFO: Auto-setting vmax to  1.527e-01 [aplpy.core]\n",
      "INFO: Auto-setting vmin to -3.132e-06 [aplpy.core]\n",
      "INFO: Auto-setting vmax to  2.725e-06 [aplpy.core]\n",
      "INFO: Auto-setting vmin to -3.003e-06 [aplpy.core]\n",
      "INFO: Auto-setting vmax to  2.094e-06 [aplpy.core]\n"
     ]
    },
    {
     "name": "stderr",
     "output_type": "stream",
     "text": [
      "WARNING: Cannot determine equinox. Assuming J2000. [aplpy.wcs_util]\n",
      "WARNING: Cannot determine equinox. Assuming J2000. [aplpy.wcs_util]\n",
      "WARNING: Cannot determine equinox. Assuming J2000. [aplpy.wcs_util]\n"
     ]
    },
    {
     "name": "stdout",
     "output_type": "stream",
     "text": [
      "INFO: Auto-setting vmin to -3.522e-01 [aplpy.core]\n",
      "INFO: Auto-setting vmax to  4.049e+00 [aplpy.core]\n",
      "INFO: Auto-setting vmin to -3.429e-06 [aplpy.core]\n",
      "INFO: Auto-setting vmax to  2.784e-06 [aplpy.core]\n",
      "INFO: Auto-setting vmin to -2.678e-06 [aplpy.core]\n",
      "INFO: Auto-setting vmax to  2.080e-06 [aplpy.core]\n"
     ]
    },
    {
     "name": "stderr",
     "output_type": "stream",
     "text": [
      "WARNING: Cannot determine equinox. Assuming J2000. [aplpy.wcs_util]\n",
      "WARNING: Cannot determine equinox. Assuming J2000. [aplpy.wcs_util]\n",
      "WARNING: Cannot determine equinox. Assuming J2000. [aplpy.wcs_util]\n"
     ]
    },
    {
     "name": "stdout",
     "output_type": "stream",
     "text": [
      "INFO: Auto-setting vmin to -1.586e-02 [aplpy.core]\n",
      "INFO: Auto-setting vmax to  1.420e-01 [aplpy.core]\n",
      "INFO: Auto-setting vmin to -3.390e-06 [aplpy.core]\n",
      "INFO: Auto-setting vmax to  2.839e-06 [aplpy.core]\n",
      "INFO: Auto-setting vmin to -2.703e-06 [aplpy.core]\n",
      "INFO: Auto-setting vmax to  2.135e-06 [aplpy.core]\n"
     ]
    },
    {
     "name": "stderr",
     "output_type": "stream",
     "text": [
      "WARNING: Cannot determine equinox. Assuming J2000. [aplpy.wcs_util]\n",
      "WARNING: Cannot determine equinox. Assuming J2000. [aplpy.wcs_util]\n",
      "WARNING: Cannot determine equinox. Assuming J2000. [aplpy.wcs_util]\n"
     ]
    },
    {
     "name": "stdout",
     "output_type": "stream",
     "text": [
      "INFO: Auto-setting vmin to -4.248e-02 [aplpy.core]\n",
      "INFO: Auto-setting vmax to  4.754e-01 [aplpy.core]\n",
      "INFO: Auto-setting vmin to -3.274e-06 [aplpy.core]\n",
      "INFO: Auto-setting vmax to  2.398e-06 [aplpy.core]\n",
      "INFO: Auto-setting vmin to -3.594e-06 [aplpy.core]\n",
      "INFO: Auto-setting vmax to  2.738e-06 [aplpy.core]\n"
     ]
    },
    {
     "name": "stderr",
     "output_type": "stream",
     "text": [
      "WARNING: Cannot determine equinox. Assuming J2000. [aplpy.wcs_util]\n",
      "WARNING: Cannot determine equinox. Assuming J2000. [aplpy.wcs_util]\n",
      "WARNING: Cannot determine equinox. Assuming J2000. [aplpy.wcs_util]\n"
     ]
    },
    {
     "name": "stdout",
     "output_type": "stream",
     "text": [
      "INFO: Auto-setting vmin to -1.689e-02 [aplpy.core]\n",
      "INFO: Auto-setting vmax to  1.363e-01 [aplpy.core]\n",
      "INFO: Auto-setting vmin to -3.349e-06 [aplpy.core]\n",
      "INFO: Auto-setting vmax to  2.674e-06 [aplpy.core]\n",
      "INFO: Auto-setting vmin to -2.922e-06 [aplpy.core]\n",
      "INFO: Auto-setting vmax to  2.071e-06 [aplpy.core]\n"
     ]
    },
    {
     "name": "stderr",
     "output_type": "stream",
     "text": [
      "WARNING: Cannot determine equinox. Assuming J2000. [aplpy.wcs_util]\n",
      "WARNING: Cannot determine equinox. Assuming J2000. [aplpy.wcs_util]\n",
      "WARNING: Cannot determine equinox. Assuming J2000. [aplpy.wcs_util]\n"
     ]
    },
    {
     "name": "stdout",
     "output_type": "stream",
     "text": [
      "INFO: Auto-setting vmin to -1.346e-02 [aplpy.core]\n",
      "INFO: Auto-setting vmax to  1.380e-01 [aplpy.core]\n",
      "INFO: Auto-setting vmin to -3.424e-06 [aplpy.core]\n",
      "INFO: Auto-setting vmax to  3.696e-06 [aplpy.core]\n",
      "INFO: Auto-setting vmin to -3.015e-06 [aplpy.core]\n",
      "INFO: Auto-setting vmax to  2.328e-06 [aplpy.core]\n"
     ]
    },
    {
     "name": "stderr",
     "output_type": "stream",
     "text": [
      "WARNING: Cannot determine equinox. Assuming J2000. [aplpy.wcs_util]\n",
      "WARNING: Cannot determine equinox. Assuming J2000. [aplpy.wcs_util]\n",
      "WARNING: Cannot determine equinox. Assuming J2000. [aplpy.wcs_util]\n"
     ]
    },
    {
     "name": "stdout",
     "output_type": "stream",
     "text": [
      "INFO: Auto-setting vmin to -8.189e-03 [aplpy.core]\n",
      "INFO: Auto-setting vmax to  6.540e-02 [aplpy.core]\n",
      "INFO: Auto-setting vmin to -2.932e-06 [aplpy.core]\n",
      "INFO: Auto-setting vmax to  2.576e-06 [aplpy.core]\n",
      "INFO: Auto-setting vmin to -2.829e-06 [aplpy.core]\n",
      "INFO: Auto-setting vmax to  2.029e-06 [aplpy.core]\n"
     ]
    },
    {
     "name": "stderr",
     "output_type": "stream",
     "text": [
      "WARNING: Cannot determine equinox. Assuming J2000. [aplpy.wcs_util]\n",
      "WARNING: Cannot determine equinox. Assuming J2000. [aplpy.wcs_util]\n",
      "WARNING: Cannot determine equinox. Assuming J2000. [aplpy.wcs_util]\n"
     ]
    },
    {
     "name": "stdout",
     "output_type": "stream",
     "text": [
      "INFO: Auto-setting vmin to -8.468e-03 [aplpy.core]\n",
      "INFO: Auto-setting vmax to  6.859e-02 [aplpy.core]\n",
      "INFO: Auto-setting vmin to -3.189e-06 [aplpy.core]\n",
      "INFO: Auto-setting vmax to  2.875e-06 [aplpy.core]\n",
      "INFO: Auto-setting vmin to -2.754e-06 [aplpy.core]\n",
      "INFO: Auto-setting vmax to  2.046e-06 [aplpy.core]\n"
     ]
    },
    {
     "name": "stderr",
     "output_type": "stream",
     "text": [
      "WARNING: Cannot determine equinox. Assuming J2000. [aplpy.wcs_util]\n",
      "WARNING: Cannot determine equinox. Assuming J2000. [aplpy.wcs_util]\n",
      "WARNING: Cannot determine equinox. Assuming J2000. [aplpy.wcs_util]\n"
     ]
    },
    {
     "name": "stdout",
     "output_type": "stream",
     "text": [
      "INFO: Auto-setting vmin to -9.847e-03 [aplpy.core]\n",
      "INFO: Auto-setting vmax to  4.703e-02 [aplpy.core]\n",
      "INFO: Auto-setting vmin to -3.510e-06 [aplpy.core]\n",
      "INFO: Auto-setting vmax to  2.888e-06 [aplpy.core]\n",
      "INFO: Auto-setting vmin to -2.862e-06 [aplpy.core]\n",
      "INFO: Auto-setting vmax to  2.261e-06 [aplpy.core]\n"
     ]
    },
    {
     "name": "stderr",
     "output_type": "stream",
     "text": [
      "WARNING: Cannot determine equinox. Assuming J2000. [aplpy.wcs_util]\n",
      "WARNING: Cannot determine equinox. Assuming J2000. [aplpy.wcs_util]\n",
      "WARNING: Cannot determine equinox. Assuming J2000. [aplpy.wcs_util]\n"
     ]
    },
    {
     "name": "stdout",
     "output_type": "stream",
     "text": [
      "INFO: Auto-setting vmin to -2.773e-02 [aplpy.core]\n",
      "INFO: Auto-setting vmax to  2.971e-01 [aplpy.core]\n",
      "INFO: Auto-setting vmin to -3.380e-06 [aplpy.core]\n",
      "INFO: Auto-setting vmax to  2.836e-06 [aplpy.core]\n",
      "INFO: Auto-setting vmin to -2.898e-06 [aplpy.core]\n",
      "INFO: Auto-setting vmax to  2.082e-06 [aplpy.core]\n"
     ]
    },
    {
     "name": "stderr",
     "output_type": "stream",
     "text": [
      "WARNING: Cannot determine equinox. Assuming J2000. [aplpy.wcs_util]\n",
      "WARNING: Cannot determine equinox. Assuming J2000. [aplpy.wcs_util]\n",
      "WARNING: Cannot determine equinox. Assuming J2000. [aplpy.wcs_util]\n"
     ]
    },
    {
     "name": "stdout",
     "output_type": "stream",
     "text": [
      "INFO: Auto-setting vmin to -1.803e-02 [aplpy.core]\n",
      "INFO: Auto-setting vmax to  1.534e-01 [aplpy.core]\n",
      "INFO: Auto-setting vmin to -3.170e-06 [aplpy.core]\n",
      "INFO: Auto-setting vmax to  2.706e-06 [aplpy.core]\n",
      "INFO: Auto-setting vmin to -2.858e-06 [aplpy.core]\n",
      "INFO: Auto-setting vmax to  2.219e-06 [aplpy.core]\n"
     ]
    },
    {
     "name": "stderr",
     "output_type": "stream",
     "text": [
      "WARNING: Cannot determine equinox. Assuming J2000. [aplpy.wcs_util]\n",
      "WARNING: Cannot determine equinox. Assuming J2000. [aplpy.wcs_util]\n",
      "WARNING: Cannot determine equinox. Assuming J2000. [aplpy.wcs_util]\n"
     ]
    },
    {
     "name": "stdout",
     "output_type": "stream",
     "text": [
      "INFO: Auto-setting vmin to -9.120e-03 [aplpy.core]\n",
      "INFO: Auto-setting vmax to  5.927e-02 [aplpy.core]\n",
      "INFO: Auto-setting vmin to -3.486e-06 [aplpy.core]\n",
      "INFO: Auto-setting vmax to  2.563e-06 [aplpy.core]\n",
      "INFO: Auto-setting vmin to -3.133e-06 [aplpy.core]\n",
      "INFO: Auto-setting vmax to  2.731e-06 [aplpy.core]\n"
     ]
    },
    {
     "name": "stderr",
     "output_type": "stream",
     "text": [
      "WARNING: Cannot determine equinox. Assuming J2000. [aplpy.wcs_util]\n",
      "WARNING: Cannot determine equinox. Assuming J2000. [aplpy.wcs_util]\n",
      "WARNING: Cannot determine equinox. Assuming J2000. [aplpy.wcs_util]\n"
     ]
    },
    {
     "name": "stdout",
     "output_type": "stream",
     "text": [
      "INFO: Auto-setting vmin to -1.346e-02 [aplpy.core]\n",
      "INFO: Auto-setting vmax to  1.350e-01 [aplpy.core]\n",
      "INFO: Auto-setting vmin to -3.488e-06 [aplpy.core]\n",
      "INFO: Auto-setting vmax to  3.688e-06 [aplpy.core]\n",
      "INFO: Auto-setting vmin to -2.884e-06 [aplpy.core]\n",
      "INFO: Auto-setting vmax to  2.220e-06 [aplpy.core]\n"
     ]
    },
    {
     "name": "stderr",
     "output_type": "stream",
     "text": [
      "WARNING: Cannot determine equinox. Assuming J2000. [aplpy.wcs_util]\n",
      "WARNING: Cannot determine equinox. Assuming J2000. [aplpy.wcs_util]\n",
      "WARNING: Cannot determine equinox. Assuming J2000. [aplpy.wcs_util]\n"
     ]
    },
    {
     "name": "stdout",
     "output_type": "stream",
     "text": [
      "INFO: Auto-setting vmin to -7.819e-03 [aplpy.core]\n",
      "INFO: Auto-setting vmax to  5.711e-02 [aplpy.core]\n",
      "INFO: Auto-setting vmin to -3.072e-06 [aplpy.core]\n",
      "INFO: Auto-setting vmax to  2.604e-06 [aplpy.core]\n",
      "INFO: Auto-setting vmin to -2.930e-06 [aplpy.core]\n",
      "INFO: Auto-setting vmax to  2.181e-06 [aplpy.core]\n"
     ]
    },
    {
     "name": "stderr",
     "output_type": "stream",
     "text": [
      "WARNING: Cannot determine equinox. Assuming J2000. [aplpy.wcs_util]\n",
      "WARNING: Cannot determine equinox. Assuming J2000. [aplpy.wcs_util]\n",
      "WARNING: Cannot determine equinox. Assuming J2000. [aplpy.wcs_util]\n"
     ]
    },
    {
     "name": "stdout",
     "output_type": "stream",
     "text": [
      "INFO: Auto-setting vmin to -1.107e-02 [aplpy.core]\n",
      "INFO: Auto-setting vmax to  1.043e-01 [aplpy.core]\n",
      "INFO: Auto-setting vmin to -2.952e-06 [aplpy.core]\n",
      "INFO: Auto-setting vmax to  2.490e-06 [aplpy.core]\n",
      "INFO: Auto-setting vmin to -2.925e-06 [aplpy.core]\n",
      "INFO: Auto-setting vmax to  2.183e-06 [aplpy.core]\n"
     ]
    },
    {
     "name": "stderr",
     "output_type": "stream",
     "text": [
      "WARNING: Cannot determine equinox. Assuming J2000. [aplpy.wcs_util]\n",
      "WARNING: Cannot determine equinox. Assuming J2000. [aplpy.wcs_util]\n",
      "WARNING: Cannot determine equinox. Assuming J2000. [aplpy.wcs_util]\n"
     ]
    },
    {
     "name": "stdout",
     "output_type": "stream",
     "text": [
      "INFO: Auto-setting vmin to -1.924e-02 [aplpy.core]\n",
      "INFO: Auto-setting vmax to  1.879e-01 [aplpy.core]\n",
      "INFO: Auto-setting vmin to -3.429e-06 [aplpy.core]\n",
      "INFO: Auto-setting vmax to  2.805e-06 [aplpy.core]\n",
      "INFO: Auto-setting vmin to -2.897e-06 [aplpy.core]\n",
      "INFO: Auto-setting vmax to  2.124e-06 [aplpy.core]\n"
     ]
    },
    {
     "name": "stderr",
     "output_type": "stream",
     "text": [
      "WARNING: Cannot determine equinox. Assuming J2000. [aplpy.wcs_util]\n",
      "WARNING: Cannot determine equinox. Assuming J2000. [aplpy.wcs_util]\n",
      "WARNING: Cannot determine equinox. Assuming J2000. [aplpy.wcs_util]\n"
     ]
    },
    {
     "name": "stdout",
     "output_type": "stream",
     "text": [
      "INFO: Auto-setting vmin to -3.254e-02 [aplpy.core]\n",
      "INFO: Auto-setting vmax to  1.890e-01 [aplpy.core]\n",
      "INFO: Auto-setting vmin to -3.036e-06 [aplpy.core]\n",
      "INFO: Auto-setting vmax to  2.628e-06 [aplpy.core]\n",
      "INFO: Auto-setting vmin to -3.777e-06 [aplpy.core]\n",
      "INFO: Auto-setting vmax to  2.656e-06 [aplpy.core]\n",
      "INFO: Auto-setting vmin to -2.702e-06 [aplpy.core]\n",
      "INFO: Auto-setting vmax to  2.084e-06 [aplpy.core]\n"
     ]
    },
    {
     "name": "stderr",
     "output_type": "stream",
     "text": [
      "WARNING: Cannot determine equinox. Assuming J2000. [aplpy.wcs_util]\n",
      "WARNING: Cannot determine equinox. Assuming J2000. [aplpy.wcs_util]\n",
      "WARNING: Cannot determine equinox. Assuming J2000. [aplpy.wcs_util]\n"
     ]
    },
    {
     "name": "stdout",
     "output_type": "stream",
     "text": [
      "INFO: Auto-setting vmin to -1.258e-02 [aplpy.core]\n",
      "INFO: Auto-setting vmax to  6.921e-02 [aplpy.core]\n",
      "INFO: Auto-setting vmin to -3.138e-06 [aplpy.core]\n",
      "INFO: Auto-setting vmax to  2.782e-06 [aplpy.core]\n",
      "INFO: Auto-setting vmin to -3.170e-06 [aplpy.core]\n",
      "INFO: Auto-setting vmax to  2.752e-06 [aplpy.core]\n",
      "INFO: Auto-setting vmin to -2.751e-06 [aplpy.core]\n",
      "INFO: Auto-setting vmax to  2.104e-06 [aplpy.core]\n"
     ]
    },
    {
     "name": "stderr",
     "output_type": "stream",
     "text": [
      "WARNING: Cannot determine equinox. Assuming J2000. [aplpy.wcs_util]\n",
      "WARNING: Cannot determine equinox. Assuming J2000. [aplpy.wcs_util]\n",
      "WARNING: Cannot determine equinox. Assuming J2000. [aplpy.wcs_util]\n"
     ]
    },
    {
     "name": "stdout",
     "output_type": "stream",
     "text": [
      "INFO: Auto-setting vmin to -1.523e-01 [aplpy.core]\n",
      "INFO: Auto-setting vmax to  1.727e+00 [aplpy.core]\n",
      "INFO: Auto-setting vmin to -2.836e-06 [aplpy.core]\n",
      "INFO: Auto-setting vmax to  2.587e-06 [aplpy.core]\n",
      "INFO: Auto-setting vmin to -2.616e-06 [aplpy.core]\n",
      "INFO: Auto-setting vmax to  2.101e-06 [aplpy.core]\n"
     ]
    },
    {
     "name": "stderr",
     "output_type": "stream",
     "text": [
      "WARNING: Cannot determine equinox. Assuming J2000. [aplpy.wcs_util]\n",
      "WARNING: Cannot determine equinox. Assuming J2000. [aplpy.wcs_util]\n",
      "WARNING: Cannot determine equinox. Assuming J2000. [aplpy.wcs_util]\n"
     ]
    },
    {
     "name": "stdout",
     "output_type": "stream",
     "text": [
      "INFO: Auto-setting vmin to -2.055e-02 [aplpy.core]\n",
      "INFO: Auto-setting vmax to  2.244e-01 [aplpy.core]\n",
      "INFO: Auto-setting vmin to -3.268e-06 [aplpy.core]\n",
      "INFO: Auto-setting vmax to  2.755e-06 [aplpy.core]\n",
      "INFO: Auto-setting vmin to -2.979e-06 [aplpy.core]\n",
      "INFO: Auto-setting vmax to  2.283e-06 [aplpy.core]\n"
     ]
    },
    {
     "name": "stderr",
     "output_type": "stream",
     "text": [
      "WARNING: Cannot determine equinox. Assuming J2000. [aplpy.wcs_util]\n",
      "WARNING: Cannot determine equinox. Assuming J2000. [aplpy.wcs_util]\n",
      "WARNING: Cannot determine equinox. Assuming J2000. [aplpy.wcs_util]\n"
     ]
    },
    {
     "name": "stdout",
     "output_type": "stream",
     "text": [
      "INFO: Auto-setting vmin to -1.426e-02 [aplpy.core]\n",
      "INFO: Auto-setting vmax to  1.373e-01 [aplpy.core]\n",
      "INFO: Auto-setting vmin to -2.988e-06 [aplpy.core]\n",
      "INFO: Auto-setting vmax to  3.174e-06 [aplpy.core]\n",
      "INFO: Auto-setting vmin to -3.047e-06 [aplpy.core]\n",
      "INFO: Auto-setting vmax to  2.309e-06 [aplpy.core]\n"
     ]
    },
    {
     "name": "stderr",
     "output_type": "stream",
     "text": [
      "WARNING: Cannot determine equinox. Assuming J2000. [aplpy.wcs_util]\n",
      "WARNING: Cannot determine equinox. Assuming J2000. [aplpy.wcs_util]\n",
      "WARNING: Cannot determine equinox. Assuming J2000. [aplpy.wcs_util]\n"
     ]
    },
    {
     "name": "stdout",
     "output_type": "stream",
     "text": [
      "INFO: Auto-setting vmin to -1.867e-02 [aplpy.core]\n",
      "INFO: Auto-setting vmax to  1.868e-01 [aplpy.core]\n",
      "INFO: Auto-setting vmin to -3.278e-06 [aplpy.core]\n",
      "INFO: Auto-setting vmax to  2.779e-06 [aplpy.core]\n",
      "INFO: Auto-setting vmin to -2.822e-06 [aplpy.core]\n",
      "INFO: Auto-setting vmax to  2.144e-06 [aplpy.core]\n"
     ]
    },
    {
     "name": "stderr",
     "output_type": "stream",
     "text": [
      "WARNING: Cannot determine equinox. Assuming J2000. [aplpy.wcs_util]\n",
      "WARNING: Cannot determine equinox. Assuming J2000. [aplpy.wcs_util]\n",
      "WARNING: Cannot determine equinox. Assuming J2000. [aplpy.wcs_util]\n"
     ]
    },
    {
     "name": "stdout",
     "output_type": "stream",
     "text": [
      "INFO: Auto-setting vmin to -1.340e-02 [aplpy.core]\n",
      "INFO: Auto-setting vmax to  1.412e-01 [aplpy.core]\n",
      "INFO: Auto-setting vmin to -3.412e-06 [aplpy.core]\n",
      "INFO: Auto-setting vmax to  2.525e-06 [aplpy.core]\n",
      "INFO: Auto-setting vmin to -2.883e-06 [aplpy.core]\n",
      "INFO: Auto-setting vmax to  2.044e-06 [aplpy.core]\n"
     ]
    },
    {
     "name": "stderr",
     "output_type": "stream",
     "text": [
      "WARNING: Cannot determine equinox. Assuming J2000. [aplpy.wcs_util]\n",
      "WARNING: Cannot determine equinox. Assuming J2000. [aplpy.wcs_util]\n",
      "WARNING: Cannot determine equinox. Assuming J2000. [aplpy.wcs_util]\n"
     ]
    },
    {
     "name": "stdout",
     "output_type": "stream",
     "text": [
      "INFO: Auto-setting vmin to -1.244e-02 [aplpy.core]\n",
      "INFO: Auto-setting vmax to  1.030e-01 [aplpy.core]\n",
      "INFO: Auto-setting vmin to -2.883e-06 [aplpy.core]\n",
      "INFO: Auto-setting vmax to  2.568e-06 [aplpy.core]\n"
     ]
    },
    {
     "name": "stderr",
     "output_type": "stream",
     "text": [
      "WARNING: Cannot determine equinox. Assuming J2000. [aplpy.wcs_util]\n",
      "WARNING: Cannot determine equinox. Assuming J2000. [aplpy.wcs_util]\n",
      "WARNING: Cannot determine equinox. Assuming J2000. [aplpy.wcs_util]\n"
     ]
    },
    {
     "name": "stdout",
     "output_type": "stream",
     "text": [
      "INFO: Auto-setting vmin to -5.507e-02 [aplpy.core]\n",
      "INFO: Auto-setting vmax to  6.339e-01 [aplpy.core]\n",
      "INFO: Auto-setting vmin to -2.984e-06 [aplpy.core]\n",
      "INFO: Auto-setting vmax to  2.675e-06 [aplpy.core]\n",
      "INFO: Auto-setting vmin to -2.877e-06 [aplpy.core]\n",
      "INFO: Auto-setting vmax to  2.151e-06 [aplpy.core]\n"
     ]
    },
    {
     "name": "stderr",
     "output_type": "stream",
     "text": [
      "WARNING: Cannot determine equinox. Assuming J2000. [aplpy.wcs_util]\n",
      "WARNING: Cannot determine equinox. Assuming J2000. [aplpy.wcs_util]\n",
      "WARNING: Cannot determine equinox. Assuming J2000. [aplpy.wcs_util]\n"
     ]
    },
    {
     "name": "stdout",
     "output_type": "stream",
     "text": [
      "INFO: Auto-setting vmin to -1.139e-02 [aplpy.core]\n",
      "INFO: Auto-setting vmax to  9.984e-02 [aplpy.core]\n",
      "INFO: Auto-setting vmin to -3.310e-06 [aplpy.core]\n",
      "INFO: Auto-setting vmax to  2.629e-06 [aplpy.core]\n",
      "INFO: Auto-setting vmin to -2.911e-06 [aplpy.core]\n",
      "INFO: Auto-setting vmax to  2.197e-06 [aplpy.core]\n"
     ]
    },
    {
     "name": "stderr",
     "output_type": "stream",
     "text": [
      "WARNING: Cannot determine equinox. Assuming J2000. [aplpy.wcs_util]\n",
      "WARNING: Cannot determine equinox. Assuming J2000. [aplpy.wcs_util]\n",
      "WARNING: Cannot determine equinox. Assuming J2000. [aplpy.wcs_util]\n",
      "WARNING: Cannot determine equinox. Assuming J2000. [aplpy.wcs_util]\n",
      "WARNING: Cannot determine equinox. Assuming J2000. [aplpy.wcs_util]\n"
     ]
    },
    {
     "name": "stdout",
     "output_type": "stream",
     "text": [
      "INFO: Auto-setting vmin to -4.479e-21 [aplpy.core]\n",
      "INFO: Auto-setting vmax to  5.642e-21 [aplpy.core]\n"
     ]
    },
    {
     "name": "stderr",
     "output_type": "stream",
     "text": [
      "WARNING: Cannot determine equinox. Assuming J2000. [aplpy.wcs_util]\n"
     ]
    },
    {
     "name": "stdout",
     "output_type": "stream",
     "text": [
      "INFO: Auto-setting vmin to -1.089e-02 [aplpy.core]\n",
      "INFO: Auto-setting vmax to  1.038e-01 [aplpy.core]\n",
      "INFO: Auto-setting vmin to -3.572e-06 [aplpy.core]\n",
      "INFO: Auto-setting vmax to  2.666e-06 [aplpy.core]\n"
     ]
    },
    {
     "name": "stderr",
     "output_type": "stream",
     "text": [
      "WARNING: Cannot determine equinox. Assuming J2000. [aplpy.wcs_util]\n",
      "WARNING: Cannot determine equinox. Assuming J2000. [aplpy.wcs_util]\n",
      "WARNING: Cannot determine equinox. Assuming J2000. [aplpy.wcs_util]\n"
     ]
    },
    {
     "name": "stdout",
     "output_type": "stream",
     "text": [
      "INFO: Auto-setting vmin to -5.647e-02 [aplpy.core]\n",
      "INFO: Auto-setting vmax to  4.431e-01 [aplpy.core]\n",
      "INFO: Auto-setting vmin to -3.072e-06 [aplpy.core]\n",
      "INFO: Auto-setting vmax to  2.715e-06 [aplpy.core]\n"
     ]
    },
    {
     "name": "stderr",
     "output_type": "stream",
     "text": [
      "WARNING: Cannot determine equinox. Assuming J2000. [aplpy.wcs_util]\n",
      "WARNING: Cannot determine equinox. Assuming J2000. [aplpy.wcs_util]\n",
      "WARNING: Cannot determine equinox. Assuming J2000. [aplpy.wcs_util]\n"
     ]
    },
    {
     "name": "stdout",
     "output_type": "stream",
     "text": [
      "INFO: Auto-setting vmin to -1.476e-02 [aplpy.core]\n",
      "INFO: Auto-setting vmax to  1.539e-01 [aplpy.core]\n",
      "INFO: Auto-setting vmin to -3.630e-06 [aplpy.core]\n",
      "INFO: Auto-setting vmax to  2.417e-06 [aplpy.core]\n",
      "INFO: Auto-setting vmin to -2.744e-06 [aplpy.core]\n",
      "INFO: Auto-setting vmax to  2.096e-06 [aplpy.core]\n"
     ]
    },
    {
     "name": "stderr",
     "output_type": "stream",
     "text": [
      "WARNING: Cannot determine equinox. Assuming J2000. [aplpy.wcs_util]\n",
      "WARNING: Cannot determine equinox. Assuming J2000. [aplpy.wcs_util]\n",
      "WARNING: Cannot determine equinox. Assuming J2000. [aplpy.wcs_util]\n"
     ]
    },
    {
     "name": "stdout",
     "output_type": "stream",
     "text": [
      "INFO: Auto-setting vmin to -1.935e-02 [aplpy.core]\n",
      "INFO: Auto-setting vmax to  5.006e-02 [aplpy.core]\n",
      "INFO: Auto-setting vmin to -3.738e-06 [aplpy.core]\n",
      "INFO: Auto-setting vmax to  2.775e-06 [aplpy.core]\n",
      "INFO: Auto-setting vmin to -2.930e-06 [aplpy.core]\n",
      "INFO: Auto-setting vmax to  2.229e-06 [aplpy.core]\n"
     ]
    },
    {
     "name": "stderr",
     "output_type": "stream",
     "text": [
      "WARNING: Cannot determine equinox. Assuming J2000. [aplpy.wcs_util]\n",
      "WARNING: Cannot determine equinox. Assuming J2000. [aplpy.wcs_util]\n",
      "WARNING: Cannot determine equinox. Assuming J2000. [aplpy.wcs_util]\n"
     ]
    },
    {
     "name": "stdout",
     "output_type": "stream",
     "text": [
      "INFO: Auto-setting vmin to -1.137e-02 [aplpy.core]\n",
      "INFO: Auto-setting vmax to  7.847e-02 [aplpy.core]\n",
      "INFO: Auto-setting vmin to -3.131e-06 [aplpy.core]\n",
      "INFO: Auto-setting vmax to  2.932e-06 [aplpy.core]\n",
      "INFO: Auto-setting vmin to -2.831e-06 [aplpy.core]\n",
      "INFO: Auto-setting vmax to  2.167e-06 [aplpy.core]\n"
     ]
    },
    {
     "name": "stderr",
     "output_type": "stream",
     "text": [
      "WARNING: Cannot determine equinox. Assuming J2000. [aplpy.wcs_util]\n",
      "WARNING: Cannot determine equinox. Assuming J2000. [aplpy.wcs_util]\n",
      "WARNING: Cannot determine equinox. Assuming J2000. [aplpy.wcs_util]\n",
      "WARNING: Cannot determine equinox. Assuming J2000. [aplpy.wcs_util]\n",
      "WARNING: Cannot determine equinox. Assuming J2000. [aplpy.wcs_util]\n"
     ]
    },
    {
     "name": "stdout",
     "output_type": "stream",
     "text": [
      "INFO: Auto-setting vmin to -5.211e-21 [aplpy.core]\n",
      "INFO: Auto-setting vmax to  5.317e-21 [aplpy.core]\n"
     ]
    },
    {
     "name": "stderr",
     "output_type": "stream",
     "text": [
      "WARNING: Cannot determine equinox. Assuming J2000. [aplpy.wcs_util]\n",
      "WARNING: Cannot determine equinox. Assuming J2000. [aplpy.wcs_util]\n",
      "WARNING: Cannot determine equinox. Assuming J2000. [aplpy.wcs_util]\n"
     ]
    },
    {
     "name": "stdout",
     "output_type": "stream",
     "text": [
      "INFO: Auto-setting vmin to -3.209e-21 [aplpy.core]\n",
      "INFO: Auto-setting vmax to  2.620e-21 [aplpy.core]\n"
     ]
    },
    {
     "name": "stderr",
     "output_type": "stream",
     "text": [
      "WARNING: Cannot determine equinox. Assuming J2000. [aplpy.wcs_util]\n"
     ]
    },
    {
     "name": "stdout",
     "output_type": "stream",
     "text": [
      "INFO: Auto-setting vmin to -1.266e-02 [aplpy.core]\n",
      "INFO: Auto-setting vmax to  1.331e-01 [aplpy.core]\n",
      "INFO: Auto-setting vmin to -3.511e-06 [aplpy.core]\n",
      "INFO: Auto-setting vmax to  2.626e-06 [aplpy.core]\n",
      "INFO: Auto-setting vmin to -2.984e-06 [aplpy.core]\n",
      "INFO: Auto-setting vmax to  2.131e-06 [aplpy.core]\n"
     ]
    },
    {
     "name": "stderr",
     "output_type": "stream",
     "text": [
      "WARNING: Cannot determine equinox. Assuming J2000. [aplpy.wcs_util]\n",
      "WARNING: Cannot determine equinox. Assuming J2000. [aplpy.wcs_util]\n",
      "WARNING: Cannot determine equinox. Assuming J2000. [aplpy.wcs_util]\n"
     ]
    },
    {
     "name": "stdout",
     "output_type": "stream",
     "text": [
      "INFO: Auto-setting vmin to -1.880e-02 [aplpy.core]\n",
      "INFO: Auto-setting vmax to  1.956e-01 [aplpy.core]\n",
      "INFO: Auto-setting vmin to -3.123e-06 [aplpy.core]\n",
      "INFO: Auto-setting vmax to  2.551e-06 [aplpy.core]\n",
      "INFO: Auto-setting vmin to -2.652e-06 [aplpy.core]\n",
      "INFO: Auto-setting vmax to  2.065e-06 [aplpy.core]\n"
     ]
    },
    {
     "name": "stderr",
     "output_type": "stream",
     "text": [
      "WARNING: Cannot determine equinox. Assuming J2000. [aplpy.wcs_util]\n",
      "WARNING: Cannot determine equinox. Assuming J2000. [aplpy.wcs_util]\n",
      "WARNING: Cannot determine equinox. Assuming J2000. [aplpy.wcs_util]\n"
     ]
    },
    {
     "name": "stdout",
     "output_type": "stream",
     "text": [
      "INFO: Auto-setting vmin to -9.120e-03 [aplpy.core]\n",
      "INFO: Auto-setting vmax to  1.421e-01 [aplpy.core]\n",
      "INFO: Auto-setting vmin to -3.222e-06 [aplpy.core]\n",
      "INFO: Auto-setting vmax to  2.600e-06 [aplpy.core]\n"
     ]
    },
    {
     "name": "stderr",
     "output_type": "stream",
     "text": [
      "WARNING: Cannot determine equinox. Assuming J2000. [aplpy.wcs_util]\n",
      "WARNING: Cannot determine equinox. Assuming J2000. [aplpy.wcs_util]\n",
      "WARNING: Cannot determine equinox. Assuming J2000. [aplpy.wcs_util]\n"
     ]
    },
    {
     "name": "stdout",
     "output_type": "stream",
     "text": [
      "INFO: Auto-setting vmin to -2.887e-02 [aplpy.core]\n",
      "INFO: Auto-setting vmax to  8.174e-02 [aplpy.core]\n",
      "INFO: Auto-setting vmin to -3.151e-06 [aplpy.core]\n",
      "INFO: Auto-setting vmax to  2.442e-06 [aplpy.core]\n",
      "INFO: Auto-setting vmin to -3.426e-06 [aplpy.core]\n",
      "INFO: Auto-setting vmax to  2.510e-06 [aplpy.core]\n"
     ]
    },
    {
     "name": "stderr",
     "output_type": "stream",
     "text": [
      "WARNING: Cannot determine equinox. Assuming J2000. [aplpy.wcs_util]\n",
      "WARNING: Cannot determine equinox. Assuming J2000. [aplpy.wcs_util]\n",
      "WARNING: Cannot determine equinox. Assuming J2000. [aplpy.wcs_util]\n"
     ]
    },
    {
     "name": "stdout",
     "output_type": "stream",
     "text": [
      "INFO: Auto-setting vmin to -2.015e-02 [aplpy.core]\n",
      "INFO: Auto-setting vmax to  6.548e-02 [aplpy.core]\n",
      "INFO: Auto-setting vmin to -3.177e-06 [aplpy.core]\n",
      "INFO: Auto-setting vmax to  2.699e-06 [aplpy.core]\n",
      "INFO: Auto-setting vmin to -2.955e-06 [aplpy.core]\n",
      "INFO: Auto-setting vmax to  2.278e-06 [aplpy.core]\n"
     ]
    },
    {
     "name": "stderr",
     "output_type": "stream",
     "text": [
      "WARNING: Cannot determine equinox. Assuming J2000. [aplpy.wcs_util]\n",
      "WARNING: Cannot determine equinox. Assuming J2000. [aplpy.wcs_util]\n",
      "WARNING: Cannot determine equinox. Assuming J2000. [aplpy.wcs_util]\n"
     ]
    },
    {
     "name": "stdout",
     "output_type": "stream",
     "text": [
      "INFO: Auto-setting vmin to -1.620e-02 [aplpy.core]\n",
      "INFO: Auto-setting vmax to  1.525e-01 [aplpy.core]\n",
      "INFO: Auto-setting vmin to -3.135e-06 [aplpy.core]\n",
      "INFO: Auto-setting vmax to  2.396e-06 [aplpy.core]\n",
      "INFO: Auto-setting vmin to -2.875e-06 [aplpy.core]\n",
      "INFO: Auto-setting vmax to  2.146e-06 [aplpy.core]\n"
     ]
    },
    {
     "name": "stderr",
     "output_type": "stream",
     "text": [
      "WARNING: Cannot determine equinox. Assuming J2000. [aplpy.wcs_util]\n",
      "WARNING: Cannot determine equinox. Assuming J2000. [aplpy.wcs_util]\n",
      "WARNING: Cannot determine equinox. Assuming J2000. [aplpy.wcs_util]\n"
     ]
    },
    {
     "name": "stdout",
     "output_type": "stream",
     "text": [
      "INFO: Auto-setting vmin to -6.385e-03 [aplpy.core]\n",
      "INFO: Auto-setting vmax to  7.607e-02 [aplpy.core]\n",
      "INFO: Auto-setting vmin to -3.457e-06 [aplpy.core]\n",
      "INFO: Auto-setting vmax to  2.563e-06 [aplpy.core]\n",
      "INFO: Auto-setting vmin to -2.729e-06 [aplpy.core]\n",
      "INFO: Auto-setting vmax to  2.136e-06 [aplpy.core]\n"
     ]
    },
    {
     "name": "stderr",
     "output_type": "stream",
     "text": [
      "WARNING: Cannot determine equinox. Assuming J2000. [aplpy.wcs_util]\n",
      "WARNING: Cannot determine equinox. Assuming J2000. [aplpy.wcs_util]\n",
      "WARNING: Cannot determine equinox. Assuming J2000. [aplpy.wcs_util]\n"
     ]
    },
    {
     "name": "stdout",
     "output_type": "stream",
     "text": [
      "INFO: Auto-setting vmin to -1.403e-02 [aplpy.core]\n",
      "INFO: Auto-setting vmax to  1.318e-01 [aplpy.core]\n",
      "INFO: Auto-setting vmin to -3.375e-06 [aplpy.core]\n",
      "INFO: Auto-setting vmax to  2.977e-06 [aplpy.core]\n",
      "INFO: Auto-setting vmin to -2.792e-06 [aplpy.core]\n",
      "INFO: Auto-setting vmax to  2.348e-06 [aplpy.core]\n"
     ]
    },
    {
     "name": "stderr",
     "output_type": "stream",
     "text": [
      "WARNING: Cannot determine equinox. Assuming J2000. [aplpy.wcs_util]\n",
      "WARNING: Cannot determine equinox. Assuming J2000. [aplpy.wcs_util]\n",
      "WARNING: Cannot determine equinox. Assuming J2000. [aplpy.wcs_util]\n"
     ]
    },
    {
     "name": "stdout",
     "output_type": "stream",
     "text": [
      "INFO: Auto-setting vmin to -3.633e-02 [aplpy.core]\n",
      "INFO: Auto-setting vmax to  5.160e-01 [aplpy.core]\n",
      "INFO: Auto-setting vmin to -3.468e-06 [aplpy.core]\n",
      "INFO: Auto-setting vmax to  2.586e-06 [aplpy.core]\n",
      "INFO: Auto-setting vmin to -2.749e-06 [aplpy.core]\n",
      "INFO: Auto-setting vmax to  2.153e-06 [aplpy.core]\n"
     ]
    },
    {
     "name": "stderr",
     "output_type": "stream",
     "text": [
      "WARNING: Cannot determine equinox. Assuming J2000. [aplpy.wcs_util]\n",
      "WARNING: Cannot determine equinox. Assuming J2000. [aplpy.wcs_util]\n",
      "WARNING: Cannot determine equinox. Assuming J2000. [aplpy.wcs_util]\n"
     ]
    },
    {
     "name": "stdout",
     "output_type": "stream",
     "text": [
      "INFO: Auto-setting vmin to -6.008e-21 [aplpy.core]\n",
      "INFO: Auto-setting vmax to  5.443e-21 [aplpy.core]\n"
     ]
    },
    {
     "name": "stderr",
     "output_type": "stream",
     "text": [
      "WARNING: Cannot determine equinox. Assuming J2000. [aplpy.wcs_util]\n",
      "WARNING: Cannot determine equinox. Assuming J2000. [aplpy.wcs_util]\n",
      "WARNING: Cannot determine equinox. Assuming J2000. [aplpy.wcs_util]\n"
     ]
    },
    {
     "name": "stdout",
     "output_type": "stream",
     "text": [
      "INFO: Auto-setting vmin to -2.893e-21 [aplpy.core]\n",
      "INFO: Auto-setting vmax to  2.528e-21 [aplpy.core]\n"
     ]
    },
    {
     "name": "stderr",
     "output_type": "stream",
     "text": [
      "WARNING: Cannot determine equinox. Assuming J2000. [aplpy.wcs_util]\n",
      "WARNING: Cannot determine equinox. Assuming J2000. [aplpy.wcs_util]\n",
      "WARNING: Cannot determine equinox. Assuming J2000. [aplpy.wcs_util]\n"
     ]
    },
    {
     "name": "stdout",
     "output_type": "stream",
     "text": [
      "INFO: Auto-setting vmin to -1.107e-02 [aplpy.core]\n",
      "INFO: Auto-setting vmax to  1.161e-01 [aplpy.core]\n",
      "INFO: Auto-setting vmin to -3.124e-06 [aplpy.core]\n",
      "INFO: Auto-setting vmax to  2.875e-06 [aplpy.core]\n",
      "INFO: Auto-setting vmin to -2.828e-06 [aplpy.core]\n",
      "INFO: Auto-setting vmax to  2.069e-06 [aplpy.core]\n"
     ]
    },
    {
     "name": "stderr",
     "output_type": "stream",
     "text": [
      "WARNING: Cannot determine equinox. Assuming J2000. [aplpy.wcs_util]\n",
      "WARNING: Cannot determine equinox. Assuming J2000. [aplpy.wcs_util]\n",
      "WARNING: Cannot determine equinox. Assuming J2000. [aplpy.wcs_util]\n"
     ]
    },
    {
     "name": "stdout",
     "output_type": "stream",
     "text": [
      "INFO: Auto-setting vmin to -1.753e-01 [aplpy.core]\n",
      "INFO: Auto-setting vmax to  1.931e+00 [aplpy.core]\n",
      "INFO: Auto-setting vmin to -3.302e-06 [aplpy.core]\n",
      "INFO: Auto-setting vmax to  2.668e-06 [aplpy.core]\n",
      "INFO: Auto-setting vmin to -2.618e-06 [aplpy.core]\n",
      "INFO: Auto-setting vmax to  2.056e-06 [aplpy.core]\n"
     ]
    },
    {
     "name": "stderr",
     "output_type": "stream",
     "text": [
      "WARNING: Cannot determine equinox. Assuming J2000. [aplpy.wcs_util]\n",
      "WARNING: Cannot determine equinox. Assuming J2000. [aplpy.wcs_util]\n",
      "WARNING: Cannot determine equinox. Assuming J2000. [aplpy.wcs_util]\n"
     ]
    },
    {
     "name": "stdout",
     "output_type": "stream",
     "text": [
      "INFO: Auto-setting vmin to -1.532e-02 [aplpy.core]\n",
      "INFO: Auto-setting vmax to  1.695e-01 [aplpy.core]\n",
      "INFO: Auto-setting vmin to -2.931e-06 [aplpy.core]\n",
      "INFO: Auto-setting vmax to  2.499e-06 [aplpy.core]\n",
      "INFO: Auto-setting vmin to -2.734e-06 [aplpy.core]\n",
      "INFO: Auto-setting vmax to  2.060e-06 [aplpy.core]\n"
     ]
    },
    {
     "name": "stderr",
     "output_type": "stream",
     "text": [
      "WARNING: Cannot determine equinox. Assuming J2000. [aplpy.wcs_util]\n",
      "WARNING: Cannot determine equinox. Assuming J2000. [aplpy.wcs_util]\n",
      "WARNING: Cannot determine equinox. Assuming J2000. [aplpy.wcs_util]\n"
     ]
    },
    {
     "name": "stdout",
     "output_type": "stream",
     "text": [
      "INFO: Auto-setting vmin to -6.587e-03 [aplpy.core]\n",
      "INFO: Auto-setting vmax to  7.973e-02 [aplpy.core]\n",
      "INFO: Auto-setting vmin to -2.919e-06 [aplpy.core]\n",
      "INFO: Auto-setting vmax to  2.509e-06 [aplpy.core]\n",
      "INFO: Auto-setting vmin to -2.822e-06 [aplpy.core]\n",
      "INFO: Auto-setting vmax to  2.165e-06 [aplpy.core]\n"
     ]
    },
    {
     "name": "stderr",
     "output_type": "stream",
     "text": [
      "WARNING: Cannot determine equinox. Assuming J2000. [aplpy.wcs_util]\n",
      "WARNING: Cannot determine equinox. Assuming J2000. [aplpy.wcs_util]\n",
      "WARNING: Cannot determine equinox. Assuming J2000. [aplpy.wcs_util]\n"
     ]
    },
    {
     "name": "stdout",
     "output_type": "stream",
     "text": [
      "INFO: Auto-setting vmin to -8.546e-22 [aplpy.core]\n",
      "INFO: Auto-setting vmax to  1.800e-21 [aplpy.core]\n"
     ]
    },
    {
     "name": "stderr",
     "output_type": "stream",
     "text": [
      "WARNING: Cannot determine equinox. Assuming J2000. [aplpy.wcs_util]\n",
      "WARNING: Cannot determine equinox. Assuming J2000. [aplpy.wcs_util]\n",
      "WARNING: Cannot determine equinox. Assuming J2000. [aplpy.wcs_util]\n"
     ]
    },
    {
     "name": "stdout",
     "output_type": "stream",
     "text": [
      "INFO: Auto-setting vmin to -4.872e-22 [aplpy.core]\n",
      "INFO: Auto-setting vmax to  2.445e-21 [aplpy.core]\n",
      "INFO: Auto-setting vmin to -7.082e-22 [aplpy.core]\n",
      "INFO: Auto-setting vmax to  1.732e-21 [aplpy.core]\n"
     ]
    },
    {
     "name": "stderr",
     "output_type": "stream",
     "text": [
      "WARNING: Cannot determine equinox. Assuming J2000. [aplpy.wcs_util]\n",
      "WARNING: Cannot determine equinox. Assuming J2000. [aplpy.wcs_util]\n",
      "WARNING: Cannot determine equinox. Assuming J2000. [aplpy.wcs_util]\n",
      "/Users/kpenner/anaconda2/lib/python2.7/site-packages/aplpy/rgb.py:218: UserWarning: PyAVM 0.9.1 or later is not installed, so AVM tags will not be embedded in RGB image\n",
      "  warnings.warn(\"PyAVM 0.9.1 or later is not installed, so AVM tags will not be embedded in RGB image\")\n"
     ]
    },
    {
     "name": "stdout",
     "output_type": "stream",
     "text": [
      "INFO: Auto-setting vmin to -9.911e-03 [aplpy.core]\n",
      "INFO: Auto-setting vmax to  9.842e-02 [aplpy.core]\n",
      "INFO: Red: [aplpy.rgb]\n",
      "INFO: vmin = -5.065e-22 (auto) [aplpy.rgb]\n",
      "INFO: vmax =  1.510e-21 (auto) [aplpy.rgb]\n",
      "INFO: Green: [aplpy.rgb]\n",
      "INFO: vmin = -2.449e-22 (auto) [aplpy.rgb]\n",
      "INFO: vmax =  2.178e-21 (auto) [aplpy.rgb]\n",
      "INFO: Blue: [aplpy.rgb]\n",
      "INFO: vmin = -6.352e-22 (auto) [aplpy.rgb]\n",
      "INFO: vmax =  1.559e-21 (auto) [aplpy.rgb]\n"
     ]
    },
    {
     "name": "stderr",
     "output_type": "stream",
     "text": [
      "/Users/kpenner/anaconda2/lib/python2.7/site-packages/aplpy/labels.py:432: UnicodeWarning: Unicode equal comparison failed to convert both arguments to Unicode - interpreting them as being unequal\n",
      "  if self.coord == x or self.axis.apl_tick_positions_world[ipos] > 0:\n"
     ]
    },
    {
     "name": "stdout",
     "output_type": "stream",
     "text": [
      "INFO: Auto-setting vmin to -3.082e-06 [aplpy.core]\n",
      "INFO: Auto-setting vmax to  2.758e-06 [aplpy.core]\n",
      "INFO: Auto-setting vmin to -2.755e-06 [aplpy.core]\n",
      "INFO: Auto-setting vmax to  2.214e-06 [aplpy.core]\n"
     ]
    },
    {
     "name": "stderr",
     "output_type": "stream",
     "text": [
      "WARNING: Cannot determine equinox. Assuming J2000. [aplpy.wcs_util]\n",
      "WARNING: Cannot determine equinox. Assuming J2000. [aplpy.wcs_util]\n",
      "WARNING: Cannot determine equinox. Assuming J2000. [aplpy.wcs_util]\n"
     ]
    },
    {
     "name": "stdout",
     "output_type": "stream",
     "text": [
      "INFO: Auto-setting vmin to -6.056e-22 [aplpy.core]\n",
      "INFO: Auto-setting vmax to  2.924e-21 [aplpy.core]\n"
     ]
    },
    {
     "name": "stderr",
     "output_type": "stream",
     "text": [
      "WARNING: Cannot determine equinox. Assuming J2000. [aplpy.wcs_util]\n",
      "WARNING: Cannot determine equinox. Assuming J2000. [aplpy.wcs_util]\n",
      "WARNING: Cannot determine equinox. Assuming J2000. [aplpy.wcs_util]\n"
     ]
    },
    {
     "name": "stdout",
     "output_type": "stream",
     "text": [
      "INFO: Auto-setting vmin to -6.983e-22 [aplpy.core]\n",
      "INFO: Auto-setting vmax to  7.620e-21 [aplpy.core]\n",
      "INFO: Auto-setting vmin to -6.875e-22 [aplpy.core]\n",
      "INFO: Auto-setting vmax to  7.631e-21 [aplpy.core]\n"
     ]
    },
    {
     "name": "stderr",
     "output_type": "stream",
     "text": [
      "WARNING: Cannot determine equinox. Assuming J2000. [aplpy.wcs_util]\n",
      "WARNING: Cannot determine equinox. Assuming J2000. [aplpy.wcs_util]\n",
      "WARNING: Cannot determine equinox. Assuming J2000. [aplpy.wcs_util]\n"
     ]
    },
    {
     "name": "stdout",
     "output_type": "stream",
     "text": [
      "INFO: Auto-setting vmin to -2.923e-02 [aplpy.core]\n",
      "INFO: Auto-setting vmax to  3.952e-01 [aplpy.core]\n",
      "INFO: Red: [aplpy.rgb]\n",
      "INFO: vmin =  0.000e+00 (auto) [aplpy.rgb]\n",
      "INFO: vmax =  6.875e-21 (auto) [aplpy.rgb]\n",
      "INFO: Green: [aplpy.rgb]\n",
      "INFO: vmin = -1.088e-23 (auto) [aplpy.rgb]\n",
      "INFO: vmax =  6.864e-21 (auto) [aplpy.rgb]\n",
      "INFO: Blue: [aplpy.rgb]\n",
      "INFO: vmin = -3.139e-22 (auto) [aplpy.rgb]\n",
      "INFO: vmax =  2.603e-21 (auto) [aplpy.rgb]\n",
      "INFO: Auto-setting vmin to -2.795e-06 [aplpy.core]\n",
      "INFO: Auto-setting vmax to  2.799e-06 [aplpy.core]\n"
     ]
    },
    {
     "name": "stderr",
     "output_type": "stream",
     "text": [
      "WARNING: Cannot determine equinox. Assuming J2000. [aplpy.wcs_util]\n",
      "WARNING: Cannot determine equinox. Assuming J2000. [aplpy.wcs_util]\n",
      "WARNING: Cannot determine equinox. Assuming J2000. [aplpy.wcs_util]\n"
     ]
    },
    {
     "name": "stdout",
     "output_type": "stream",
     "text": [
      "INFO: Auto-setting vmin to -8.368e-03 [aplpy.core]\n",
      "INFO: Auto-setting vmax to  7.443e-02 [aplpy.core]\n",
      "INFO: Auto-setting vmin to -3.213e-06 [aplpy.core]\n",
      "INFO: Auto-setting vmax to  3.057e-06 [aplpy.core]\n",
      "INFO: Auto-setting vmin to -2.964e-06 [aplpy.core]\n",
      "INFO: Auto-setting vmax to  2.276e-06 [aplpy.core]\n"
     ]
    },
    {
     "name": "stderr",
     "output_type": "stream",
     "text": [
      "WARNING: Cannot determine equinox. Assuming J2000. [aplpy.wcs_util]\n",
      "WARNING: Cannot determine equinox. Assuming J2000. [aplpy.wcs_util]\n",
      "WARNING: Cannot determine equinox. Assuming J2000. [aplpy.wcs_util]\n"
     ]
    },
    {
     "name": "stdout",
     "output_type": "stream",
     "text": [
      "INFO: Auto-setting vmin to -6.170e-03 [aplpy.core]\n",
      "INFO: Auto-setting vmax to  4.979e-02 [aplpy.core]\n",
      "INFO: Auto-setting vmin to -2.916e-06 [aplpy.core]\n",
      "INFO: Auto-setting vmax to  3.077e-06 [aplpy.core]\n",
      "INFO: Auto-setting vmin to -2.877e-06 [aplpy.core]\n",
      "INFO: Auto-setting vmax to  2.222e-06 [aplpy.core]\n"
     ]
    },
    {
     "name": "stderr",
     "output_type": "stream",
     "text": [
      "WARNING: Cannot determine equinox. Assuming J2000. [aplpy.wcs_util]\n",
      "WARNING: Cannot determine equinox. Assuming J2000. [aplpy.wcs_util]\n",
      "WARNING: Cannot determine equinox. Assuming J2000. [aplpy.wcs_util]\n"
     ]
    },
    {
     "name": "stdout",
     "output_type": "stream",
     "text": [
      "INFO: Auto-setting vmin to -6.141e-03 [aplpy.core]\n",
      "INFO: Auto-setting vmax to  5.330e-02 [aplpy.core]\n",
      "INFO: Auto-setting vmin to -3.199e-06 [aplpy.core]\n",
      "INFO: Auto-setting vmax to  2.537e-06 [aplpy.core]\n",
      "INFO: Auto-setting vmin to -2.932e-06 [aplpy.core]\n",
      "INFO: Auto-setting vmax to  2.134e-06 [aplpy.core]\n"
     ]
    },
    {
     "name": "stderr",
     "output_type": "stream",
     "text": [
      "WARNING: Cannot determine equinox. Assuming J2000. [aplpy.wcs_util]\n",
      "WARNING: Cannot determine equinox. Assuming J2000. [aplpy.wcs_util]\n",
      "WARNING: Cannot determine equinox. Assuming J2000. [aplpy.wcs_util]\n"
     ]
    },
    {
     "name": "stdout",
     "output_type": "stream",
     "text": [
      "INFO: Auto-setting vmin to -2.743e-02 [aplpy.core]\n",
      "INFO: Auto-setting vmax to  2.304e-01 [aplpy.core]\n",
      "INFO: Auto-setting vmin to -3.384e-06 [aplpy.core]\n",
      "INFO: Auto-setting vmax to  2.665e-06 [aplpy.core]\n",
      "INFO: Auto-setting vmin to -2.854e-06 [aplpy.core]\n",
      "INFO: Auto-setting vmax to  2.216e-06 [aplpy.core]\n"
     ]
    },
    {
     "name": "stderr",
     "output_type": "stream",
     "text": [
      "WARNING: Cannot determine equinox. Assuming J2000. [aplpy.wcs_util]\n",
      "WARNING: Cannot determine equinox. Assuming J2000. [aplpy.wcs_util]\n",
      "WARNING: Cannot determine equinox. Assuming J2000. [aplpy.wcs_util]\n"
     ]
    },
    {
     "name": "stdout",
     "output_type": "stream",
     "text": [
      "INFO: Auto-setting vmin to -1.911e-02 [aplpy.core]\n",
      "INFO: Auto-setting vmax to  2.106e-01 [aplpy.core]\n",
      "INFO: Auto-setting vmin to -2.989e-06 [aplpy.core]\n",
      "INFO: Auto-setting vmax to  2.580e-06 [aplpy.core]\n",
      "INFO: Auto-setting vmin to -2.662e-06 [aplpy.core]\n",
      "INFO: Auto-setting vmax to  2.032e-06 [aplpy.core]\n"
     ]
    },
    {
     "name": "stderr",
     "output_type": "stream",
     "text": [
      "WARNING: Cannot determine equinox. Assuming J2000. [aplpy.wcs_util]\n",
      "WARNING: Cannot determine equinox. Assuming J2000. [aplpy.wcs_util]\n",
      "WARNING: Cannot determine equinox. Assuming J2000. [aplpy.wcs_util]\n"
     ]
    },
    {
     "name": "stdout",
     "output_type": "stream",
     "text": [
      "INFO: Auto-setting vmin to -1.889e-02 [aplpy.core]\n",
      "INFO: Auto-setting vmax to  1.919e-01 [aplpy.core]\n",
      "INFO: Auto-setting vmin to -3.282e-06 [aplpy.core]\n",
      "INFO: Auto-setting vmax to  2.569e-06 [aplpy.core]\n"
     ]
    },
    {
     "name": "stderr",
     "output_type": "stream",
     "text": [
      "WARNING: Cannot determine equinox. Assuming J2000. [aplpy.wcs_util]\n",
      "WARNING: Cannot determine equinox. Assuming J2000. [aplpy.wcs_util]\n",
      "WARNING: Cannot determine equinox. Assuming J2000. [aplpy.wcs_util]\n"
     ]
    },
    {
     "name": "stdout",
     "output_type": "stream",
     "text": [
      "INFO: Auto-setting vmin to -7.798e-03 [aplpy.core]\n",
      "INFO: Auto-setting vmax to  5.807e-02 [aplpy.core]\n",
      "INFO: Auto-setting vmin to -3.131e-06 [aplpy.core]\n",
      "INFO: Auto-setting vmax to  2.838e-06 [aplpy.core]\n",
      "INFO: Auto-setting vmin to -2.822e-06 [aplpy.core]\n",
      "INFO: Auto-setting vmax to  2.101e-06 [aplpy.core]\n"
     ]
    },
    {
     "name": "stderr",
     "output_type": "stream",
     "text": [
      "WARNING: Cannot determine equinox. Assuming J2000. [aplpy.wcs_util]\n",
      "WARNING: Cannot determine equinox. Assuming J2000. [aplpy.wcs_util]\n",
      "WARNING: Cannot determine equinox. Assuming J2000. [aplpy.wcs_util]\n"
     ]
    },
    {
     "name": "stdout",
     "output_type": "stream",
     "text": [
      "INFO: Auto-setting vmin to -1.192e-02 [aplpy.core]\n",
      "INFO: Auto-setting vmax to  7.735e-02 [aplpy.core]\n",
      "INFO: Auto-setting vmin to -3.524e-06 [aplpy.core]\n",
      "INFO: Auto-setting vmax to  2.655e-06 [aplpy.core]\n",
      "INFO: Auto-setting vmin to -2.776e-06 [aplpy.core]\n",
      "INFO: Auto-setting vmax to  2.092e-06 [aplpy.core]\n"
     ]
    },
    {
     "name": "stderr",
     "output_type": "stream",
     "text": [
      "WARNING: Cannot determine equinox. Assuming J2000. [aplpy.wcs_util]\n",
      "WARNING: Cannot determine equinox. Assuming J2000. [aplpy.wcs_util]\n",
      "WARNING: Cannot determine equinox. Assuming J2000. [aplpy.wcs_util]\n"
     ]
    },
    {
     "name": "stdout",
     "output_type": "stream",
     "text": [
      "INFO: Auto-setting vmin to -8.528e-03 [aplpy.core]\n",
      "INFO: Auto-setting vmax to  7.723e-02 [aplpy.core]\n",
      "INFO: Auto-setting vmin to -3.548e-06 [aplpy.core]\n",
      "INFO: Auto-setting vmax to  2.595e-06 [aplpy.core]\n",
      "INFO: Auto-setting vmin to -3.068e-06 [aplpy.core]\n",
      "INFO: Auto-setting vmax to  2.115e-06 [aplpy.core]\n"
     ]
    },
    {
     "name": "stderr",
     "output_type": "stream",
     "text": [
      "WARNING: Cannot determine equinox. Assuming J2000. [aplpy.wcs_util]\n",
      "WARNING: Cannot determine equinox. Assuming J2000. [aplpy.wcs_util]\n",
      "WARNING: Cannot determine equinox. Assuming J2000. [aplpy.wcs_util]\n"
     ]
    },
    {
     "name": "stdout",
     "output_type": "stream",
     "text": [
      "INFO: Auto-setting vmin to -5.214e-03 [aplpy.core]\n",
      "INFO: Auto-setting vmax to  1.855e-02 [aplpy.core]\n",
      "INFO: Auto-setting vmin to -3.142e-06 [aplpy.core]\n",
      "INFO: Auto-setting vmax to  3.107e-06 [aplpy.core]\n"
     ]
    },
    {
     "name": "stderr",
     "output_type": "stream",
     "text": [
      "WARNING: Cannot determine equinox. Assuming J2000. [aplpy.wcs_util]\n",
      "WARNING: Cannot determine equinox. Assuming J2000. [aplpy.wcs_util]\n",
      "WARNING: Cannot determine equinox. Assuming J2000. [aplpy.wcs_util]\n"
     ]
    },
    {
     "name": "stdout",
     "output_type": "stream",
     "text": [
      "INFO: Auto-setting vmin to -7.799e-02 [aplpy.core]\n",
      "INFO: Auto-setting vmax to  7.491e-01 [aplpy.core]\n",
      "INFO: Auto-setting vmin to -3.157e-06 [aplpy.core]\n",
      "INFO: Auto-setting vmax to  2.577e-06 [aplpy.core]\n",
      "INFO: Auto-setting vmin to -2.717e-06 [aplpy.core]\n",
      "INFO: Auto-setting vmax to  2.032e-06 [aplpy.core]\n"
     ]
    },
    {
     "name": "stderr",
     "output_type": "stream",
     "text": [
      "WARNING: Cannot determine equinox. Assuming J2000. [aplpy.wcs_util]\n",
      "WARNING: Cannot determine equinox. Assuming J2000. [aplpy.wcs_util]\n",
      "WARNING: Cannot determine equinox. Assuming J2000. [aplpy.wcs_util]\n"
     ]
    },
    {
     "name": "stdout",
     "output_type": "stream",
     "text": [
      "INFO: Auto-setting vmin to -2.047e-02 [aplpy.core]\n",
      "INFO: Auto-setting vmax to  1.836e-01 [aplpy.core]\n",
      "INFO: Auto-setting vmin to -3.366e-06 [aplpy.core]\n",
      "INFO: Auto-setting vmax to  2.612e-06 [aplpy.core]\n",
      "INFO: Auto-setting vmin to -3.402e-06 [aplpy.core]\n",
      "INFO: Auto-setting vmax to  2.587e-06 [aplpy.core]\n"
     ]
    },
    {
     "name": "stderr",
     "output_type": "stream",
     "text": [
      "WARNING: Cannot determine equinox. Assuming J2000. [aplpy.wcs_util]\n",
      "WARNING: Cannot determine equinox. Assuming J2000. [aplpy.wcs_util]\n",
      "WARNING: Cannot determine equinox. Assuming J2000. [aplpy.wcs_util]\n"
     ]
    },
    {
     "name": "stdout",
     "output_type": "stream",
     "text": [
      "INFO: Auto-setting vmin to -1.905e-02 [aplpy.core]\n",
      "INFO: Auto-setting vmax to  1.065e-01 [aplpy.core]\n",
      "INFO: Auto-setting vmin to -2.854e-06 [aplpy.core]\n",
      "INFO: Auto-setting vmax to  2.684e-06 [aplpy.core]\n",
      "INFO: Auto-setting vmin to -2.960e-06 [aplpy.core]\n",
      "INFO: Auto-setting vmax to  2.125e-06 [aplpy.core]\n"
     ]
    },
    {
     "name": "stderr",
     "output_type": "stream",
     "text": [
      "WARNING: Cannot determine equinox. Assuming J2000. [aplpy.wcs_util]\n",
      "WARNING: Cannot determine equinox. Assuming J2000. [aplpy.wcs_util]\n",
      "WARNING: Cannot determine equinox. Assuming J2000. [aplpy.wcs_util]\n"
     ]
    },
    {
     "name": "stdout",
     "output_type": "stream",
     "text": [
      "INFO: Auto-setting vmin to -7.551e-22 [aplpy.core]\n",
      "INFO: Auto-setting vmax to  1.907e-21 [aplpy.core]\n"
     ]
    },
    {
     "name": "stderr",
     "output_type": "stream",
     "text": [
      "WARNING: Cannot determine equinox. Assuming J2000. [aplpy.wcs_util]\n",
      "WARNING: Cannot determine equinox. Assuming J2000. [aplpy.wcs_util]\n",
      "WARNING: Cannot determine equinox. Assuming J2000. [aplpy.wcs_util]\n"
     ]
    },
    {
     "name": "stdout",
     "output_type": "stream",
     "text": [
      "INFO: Auto-setting vmin to -3.436e-22 [aplpy.core]\n",
      "INFO: Auto-setting vmax to  2.224e-21 [aplpy.core]\n",
      "INFO: Auto-setting vmin to -1.353e-22 [aplpy.core]\n",
      "INFO: Auto-setting vmax to  1.795e-21 [aplpy.core]\n"
     ]
    },
    {
     "name": "stderr",
     "output_type": "stream",
     "text": [
      "WARNING: Cannot determine equinox. Assuming J2000. [aplpy.wcs_util]\n",
      "WARNING: Cannot determine equinox. Assuming J2000. [aplpy.wcs_util]\n",
      "WARNING: Cannot determine equinox. Assuming J2000. [aplpy.wcs_util]\n"
     ]
    },
    {
     "name": "stdout",
     "output_type": "stream",
     "text": [
      "INFO: Auto-setting vmin to -1.900e-02 [aplpy.core]\n",
      "INFO: Auto-setting vmax to  2.689e-01 [aplpy.core]\n",
      "INFO: Red: [aplpy.rgb]\n",
      "INFO: vmin =  2.418e-23 (auto) [aplpy.rgb]\n",
      "INFO: vmax =  1.619e-21 (auto) [aplpy.rgb]\n",
      "INFO: Green: [aplpy.rgb]\n",
      "INFO: vmin = -1.314e-22 (auto) [aplpy.rgb]\n",
      "INFO: vmax =  1.990e-21 (auto) [aplpy.rgb]\n",
      "INFO: Blue: [aplpy.rgb]\n",
      "INFO: vmin = -5.351e-22 (auto) [aplpy.rgb]\n",
      "INFO: vmax =  1.665e-21 (auto) [aplpy.rgb]\n",
      "INFO: Auto-setting vmin to -3.204e-06 [aplpy.core]\n",
      "INFO: Auto-setting vmax to  2.862e-06 [aplpy.core]\n",
      "INFO: Auto-setting vmin to -2.867e-06 [aplpy.core]\n",
      "INFO: Auto-setting vmax to  2.183e-06 [aplpy.core]\n"
     ]
    },
    {
     "name": "stderr",
     "output_type": "stream",
     "text": [
      "WARNING: Cannot determine equinox. Assuming J2000. [aplpy.wcs_util]\n",
      "WARNING: Cannot determine equinox. Assuming J2000. [aplpy.wcs_util]\n",
      "WARNING: Cannot determine equinox. Assuming J2000. [aplpy.wcs_util]\n"
     ]
    },
    {
     "name": "stdout",
     "output_type": "stream",
     "text": [
      "INFO: Auto-setting vmin to -7.165e-22 [aplpy.core]\n",
      "INFO: Auto-setting vmax to  3.303e-21 [aplpy.core]\n"
     ]
    },
    {
     "name": "stderr",
     "output_type": "stream",
     "text": [
      "WARNING: Cannot determine equinox. Assuming J2000. [aplpy.wcs_util]\n",
      "WARNING: Cannot determine equinox. Assuming J2000. [aplpy.wcs_util]\n",
      "WARNING: Cannot determine equinox. Assuming J2000. [aplpy.wcs_util]\n"
     ]
    },
    {
     "name": "stdout",
     "output_type": "stream",
     "text": [
      "INFO: Auto-setting vmin to -5.049e-22 [aplpy.core]\n",
      "INFO: Auto-setting vmax to  4.235e-21 [aplpy.core]\n",
      "INFO: Auto-setting vmin to -2.986e-22 [aplpy.core]\n",
      "INFO: Auto-setting vmax to  3.314e-21 [aplpy.core]\n"
     ]
    },
    {
     "name": "stderr",
     "output_type": "stream",
     "text": [
      "WARNING: Cannot determine equinox. Assuming J2000. [aplpy.wcs_util]\n",
      "WARNING: Cannot determine equinox. Assuming J2000. [aplpy.wcs_util]\n",
      "WARNING: Cannot determine equinox. Assuming J2000. [aplpy.wcs_util]\n"
     ]
    },
    {
     "name": "stdout",
     "output_type": "stream",
     "text": [
      "INFO: Auto-setting vmin to -4.478e-02 [aplpy.core]\n",
      "INFO: Auto-setting vmax to  1.253e-01 [aplpy.core]\n",
      "INFO: Red: [aplpy.rgb]\n",
      "INFO: vmin =  0.000e+00 (auto) [aplpy.rgb]\n",
      "INFO: vmax =  2.986e-21 (auto) [aplpy.rgb]\n",
      "INFO: Green: [aplpy.rgb]\n",
      "INFO: vmin = -1.132e-22 (auto) [aplpy.rgb]\n",
      "INFO: vmax =  3.804e-21 (auto) [aplpy.rgb]\n",
      "INFO: Blue: [aplpy.rgb]\n",
      "INFO: vmin = -3.844e-22 (auto) [aplpy.rgb]\n",
      "INFO: vmax =  2.937e-21 (auto) [aplpy.rgb]\n",
      "INFO: Auto-setting vmin to -3.383e-06 [aplpy.core]\n",
      "INFO: Auto-setting vmax to  3.320e-06 [aplpy.core]\n"
     ]
    },
    {
     "name": "stderr",
     "output_type": "stream",
     "text": [
      "WARNING: Cannot determine equinox. Assuming J2000. [aplpy.wcs_util]\n",
      "WARNING: Cannot determine equinox. Assuming J2000. [aplpy.wcs_util]\n",
      "WARNING: Cannot determine equinox. Assuming J2000. [aplpy.wcs_util]\n"
     ]
    },
    {
     "name": "stdout",
     "output_type": "stream",
     "text": [
      "INFO: Auto-setting vmin to -7.495e-02 [aplpy.core]\n",
      "INFO: Auto-setting vmax to  7.280e-01 [aplpy.core]\n",
      "INFO: Auto-setting vmin to -3.580e-06 [aplpy.core]\n",
      "INFO: Auto-setting vmax to  3.181e-06 [aplpy.core]\n",
      "INFO: Auto-setting vmin to -2.842e-06 [aplpy.core]\n",
      "INFO: Auto-setting vmax to  2.230e-06 [aplpy.core]\n"
     ]
    },
    {
     "name": "stderr",
     "output_type": "stream",
     "text": [
      "WARNING: Cannot determine equinox. Assuming J2000. [aplpy.wcs_util]\n",
      "WARNING: Cannot determine equinox. Assuming J2000. [aplpy.wcs_util]\n",
      "WARNING: Cannot determine equinox. Assuming J2000. [aplpy.wcs_util]\n"
     ]
    },
    {
     "name": "stdout",
     "output_type": "stream",
     "text": [
      "INFO: Auto-setting vmin to -3.847e-02 [aplpy.core]\n",
      "INFO: Auto-setting vmax to  3.950e-01 [aplpy.core]\n",
      "INFO: Auto-setting vmin to -3.458e-06 [aplpy.core]\n",
      "INFO: Auto-setting vmax to  2.569e-06 [aplpy.core]\n",
      "INFO: Auto-setting vmin to -2.766e-06 [aplpy.core]\n",
      "INFO: Auto-setting vmax to  2.194e-06 [aplpy.core]\n"
     ]
    },
    {
     "name": "stderr",
     "output_type": "stream",
     "text": [
      "WARNING: Cannot determine equinox. Assuming J2000. [aplpy.wcs_util]\n",
      "WARNING: Cannot determine equinox. Assuming J2000. [aplpy.wcs_util]\n",
      "WARNING: Cannot determine equinox. Assuming J2000. [aplpy.wcs_util]\n"
     ]
    },
    {
     "name": "stdout",
     "output_type": "stream",
     "text": [
      "INFO: Auto-setting vmin to -1.182e-02 [aplpy.core]\n",
      "INFO: Auto-setting vmax to  9.969e-02 [aplpy.core]\n",
      "INFO: Auto-setting vmin to -3.167e-06 [aplpy.core]\n",
      "INFO: Auto-setting vmax to  3.140e-06 [aplpy.core]\n",
      "INFO: Auto-setting vmin to -2.845e-06 [aplpy.core]\n",
      "INFO: Auto-setting vmax to  2.160e-06 [aplpy.core]\n"
     ]
    },
    {
     "name": "stderr",
     "output_type": "stream",
     "text": [
      "WARNING: Cannot determine equinox. Assuming J2000. [aplpy.wcs_util]\n",
      "WARNING: Cannot determine equinox. Assuming J2000. [aplpy.wcs_util]\n",
      "WARNING: Cannot determine equinox. Assuming J2000. [aplpy.wcs_util]\n"
     ]
    },
    {
     "name": "stdout",
     "output_type": "stream",
     "text": [
      "INFO: Auto-setting vmin to -7.245e-03 [aplpy.core]\n",
      "INFO: Auto-setting vmax to  7.200e-02 [aplpy.core]\n",
      "INFO: Auto-setting vmin to -3.172e-06 [aplpy.core]\n",
      "INFO: Auto-setting vmax to  2.711e-06 [aplpy.core]\n",
      "INFO: Auto-setting vmin to -2.822e-06 [aplpy.core]\n",
      "INFO: Auto-setting vmax to  2.097e-06 [aplpy.core]\n"
     ]
    },
    {
     "name": "stderr",
     "output_type": "stream",
     "text": [
      "WARNING: Cannot determine equinox. Assuming J2000. [aplpy.wcs_util]\n",
      "WARNING: Cannot determine equinox. Assuming J2000. [aplpy.wcs_util]\n",
      "WARNING: Cannot determine equinox. Assuming J2000. [aplpy.wcs_util]\n"
     ]
    },
    {
     "name": "stdout",
     "output_type": "stream",
     "text": [
      "INFO: Auto-setting vmin to -1.051e-02 [aplpy.core]\n",
      "INFO: Auto-setting vmax to  1.022e-01 [aplpy.core]\n",
      "INFO: Auto-setting vmin to -3.282e-06 [aplpy.core]\n",
      "INFO: Auto-setting vmax to  2.828e-06 [aplpy.core]\n",
      "INFO: Auto-setting vmin to -2.902e-06 [aplpy.core]\n",
      "INFO: Auto-setting vmax to  2.140e-06 [aplpy.core]\n"
     ]
    },
    {
     "name": "stderr",
     "output_type": "stream",
     "text": [
      "WARNING: Cannot determine equinox. Assuming J2000. [aplpy.wcs_util]\n",
      "WARNING: Cannot determine equinox. Assuming J2000. [aplpy.wcs_util]\n",
      "WARNING: Cannot determine equinox. Assuming J2000. [aplpy.wcs_util]\n"
     ]
    },
    {
     "name": "stdout",
     "output_type": "stream",
     "text": [
      "INFO: Auto-setting vmin to -5.682e-03 [aplpy.core]\n",
      "INFO: Auto-setting vmax to  4.300e-02 [aplpy.core]\n",
      "INFO: Auto-setting vmin to -3.494e-06 [aplpy.core]\n",
      "INFO: Auto-setting vmax to  2.558e-06 [aplpy.core]\n",
      "INFO: Auto-setting vmin to -3.255e-06 [aplpy.core]\n",
      "INFO: Auto-setting vmax to  2.227e-06 [aplpy.core]\n"
     ]
    },
    {
     "name": "stderr",
     "output_type": "stream",
     "text": [
      "WARNING: Cannot determine equinox. Assuming J2000. [aplpy.wcs_util]\n",
      "WARNING: Cannot determine equinox. Assuming J2000. [aplpy.wcs_util]\n",
      "WARNING: Cannot determine equinox. Assuming J2000. [aplpy.wcs_util]\n"
     ]
    },
    {
     "name": "stdout",
     "output_type": "stream",
     "text": [
      "INFO: Auto-setting vmin to -2.902e-02 [aplpy.core]\n",
      "INFO: Auto-setting vmax to  3.307e-01 [aplpy.core]\n",
      "INFO: Auto-setting vmin to -3.565e-06 [aplpy.core]\n",
      "INFO: Auto-setting vmax to  3.833e-06 [aplpy.core]\n",
      "INFO: Auto-setting vmin to -2.909e-06 [aplpy.core]\n",
      "INFO: Auto-setting vmax to  2.452e-06 [aplpy.core]\n"
     ]
    },
    {
     "name": "stderr",
     "output_type": "stream",
     "text": [
      "WARNING: Cannot determine equinox. Assuming J2000. [aplpy.wcs_util]\n",
      "WARNING: Cannot determine equinox. Assuming J2000. [aplpy.wcs_util]\n",
      "WARNING: Cannot determine equinox. Assuming J2000. [aplpy.wcs_util]\n"
     ]
    },
    {
     "name": "stdout",
     "output_type": "stream",
     "text": [
      "INFO: Auto-setting vmin to -9.707e-22 [aplpy.core]\n",
      "INFO: Auto-setting vmax to  4.629e-21 [aplpy.core]\n"
     ]
    },
    {
     "name": "stderr",
     "output_type": "stream",
     "text": [
      "WARNING: Cannot determine equinox. Assuming J2000. [aplpy.wcs_util]\n",
      "WARNING: Cannot determine equinox. Assuming J2000. [aplpy.wcs_util]\n",
      "WARNING: Cannot determine equinox. Assuming J2000. [aplpy.wcs_util]\n"
     ]
    },
    {
     "name": "stdout",
     "output_type": "stream",
     "text": [
      "INFO: Auto-setting vmin to -6.868e-22 [aplpy.core]\n",
      "INFO: Auto-setting vmax to  1.427e-20 [aplpy.core]\n",
      "INFO: Auto-setting vmin to -8.758e-22 [aplpy.core]\n",
      "INFO: Auto-setting vmax to  1.620e-20 [aplpy.core]\n"
     ]
    },
    {
     "name": "stderr",
     "output_type": "stream",
     "text": [
      "WARNING: Cannot determine equinox. Assuming J2000. [aplpy.wcs_util]\n",
      "WARNING: Cannot determine equinox. Assuming J2000. [aplpy.wcs_util]\n",
      "WARNING: Cannot determine equinox. Assuming J2000. [aplpy.wcs_util]\n"
     ]
    },
    {
     "name": "stdout",
     "output_type": "stream",
     "text": [
      "INFO: Auto-setting vmin to -4.100e-02 [aplpy.core]\n",
      "INFO: Auto-setting vmax to  9.309e-01 [aplpy.core]\n",
      "INFO: Red: [aplpy.rgb]\n",
      "INFO: vmin =  5.356e-22 (auto) [aplpy.rgb]\n",
      "INFO: vmax =  1.465e-20 (auto) [aplpy.rgb]\n",
      "INFO: Green: [aplpy.rgb]\n",
      "INFO: vmin =  5.496e-22 (auto) [aplpy.rgb]\n",
      "INFO: vmax =  1.291e-20 (auto) [aplpy.rgb]\n",
      "INFO: Blue: [aplpy.rgb]\n",
      "INFO: vmin = -5.079e-22 (auto) [aplpy.rgb]\n",
      "INFO: vmax =  4.120e-21 (auto) [aplpy.rgb]\n",
      "INFO: Auto-setting vmin to -3.508e-06 [aplpy.core]\n",
      "INFO: Auto-setting vmax to  2.649e-06 [aplpy.core]\n",
      "INFO: Auto-setting vmin to -2.864e-06 [aplpy.core]\n",
      "INFO: Auto-setting vmax to  2.065e-06 [aplpy.core]\n"
     ]
    },
    {
     "name": "stderr",
     "output_type": "stream",
     "text": [
      "WARNING: Cannot determine equinox. Assuming J2000. [aplpy.wcs_util]\n",
      "WARNING: Cannot determine equinox. Assuming J2000. [aplpy.wcs_util]\n",
      "WARNING: Cannot determine equinox. Assuming J2000. [aplpy.wcs_util]\n"
     ]
    },
    {
     "name": "stdout",
     "output_type": "stream",
     "text": [
      "INFO: Auto-setting vmin to -2.031e-02 [aplpy.core]\n",
      "INFO: Auto-setting vmax to  1.768e-01 [aplpy.core]\n",
      "INFO: Auto-setting vmin to -3.041e-06 [aplpy.core]\n",
      "INFO: Auto-setting vmax to  3.124e-06 [aplpy.core]\n",
      "INFO: Auto-setting vmin to -3.032e-06 [aplpy.core]\n",
      "INFO: Auto-setting vmax to  2.188e-06 [aplpy.core]\n"
     ]
    },
    {
     "name": "stderr",
     "output_type": "stream",
     "text": [
      "WARNING: Cannot determine equinox. Assuming J2000. [aplpy.wcs_util]\n",
      "WARNING: Cannot determine equinox. Assuming J2000. [aplpy.wcs_util]\n",
      "WARNING: Cannot determine equinox. Assuming J2000. [aplpy.wcs_util]\n"
     ]
    },
    {
     "name": "stdout",
     "output_type": "stream",
     "text": [
      "INFO: Auto-setting vmin to -2.443e-21 [aplpy.core]\n",
      "INFO: Auto-setting vmax to  4.650e-21 [aplpy.core]\n"
     ]
    },
    {
     "name": "stderr",
     "output_type": "stream",
     "text": [
      "WARNING: Cannot determine equinox. Assuming J2000. [aplpy.wcs_util]\n",
      "WARNING: Cannot determine equinox. Assuming J2000. [aplpy.wcs_util]\n",
      "WARNING: Cannot determine equinox. Assuming J2000. [aplpy.wcs_util]\n"
     ]
    },
    {
     "name": "stdout",
     "output_type": "stream",
     "text": [
      "INFO: Auto-setting vmin to -1.101e-21 [aplpy.core]\n",
      "INFO: Auto-setting vmax to  6.013e-21 [aplpy.core]\n"
     ]
    },
    {
     "name": "stderr",
     "output_type": "stream",
     "text": [
      "WARNING: Cannot determine equinox. Assuming J2000. [aplpy.wcs_util]\n",
      "WARNING: Cannot determine equinox. Assuming J2000. [aplpy.wcs_util]\n",
      "WARNING: Cannot determine equinox. Assuming J2000. [aplpy.wcs_util]\n"
     ]
    },
    {
     "name": "stdout",
     "output_type": "stream",
     "text": [
      "INFO: Auto-setting vmin to -1.657e-02 [aplpy.core]\n",
      "INFO: Auto-setting vmax to  1.748e-01 [aplpy.core]\n",
      "INFO: Auto-setting vmin to -3.496e-06 [aplpy.core]\n",
      "INFO: Auto-setting vmax to  2.629e-06 [aplpy.core]\n",
      "INFO: Auto-setting vmin to -2.978e-06 [aplpy.core]\n",
      "INFO: Auto-setting vmax to  2.077e-06 [aplpy.core]\n"
     ]
    },
    {
     "name": "stderr",
     "output_type": "stream",
     "text": [
      "WARNING: Cannot determine equinox. Assuming J2000. [aplpy.wcs_util]\n",
      "WARNING: Cannot determine equinox. Assuming J2000. [aplpy.wcs_util]\n",
      "WARNING: Cannot determine equinox. Assuming J2000. [aplpy.wcs_util]\n"
     ]
    },
    {
     "name": "stdout",
     "output_type": "stream",
     "text": [
      "INFO: Auto-setting vmin to -1.392e-02 [aplpy.core]\n",
      "INFO: Auto-setting vmax to  1.464e-01 [aplpy.core]\n",
      "INFO: Auto-setting vmin to -3.090e-06 [aplpy.core]\n",
      "INFO: Auto-setting vmax to  2.547e-06 [aplpy.core]\n",
      "INFO: Auto-setting vmin to -2.963e-06 [aplpy.core]\n",
      "INFO: Auto-setting vmax to  2.203e-06 [aplpy.core]\n"
     ]
    },
    {
     "name": "stderr",
     "output_type": "stream",
     "text": [
      "WARNING: Cannot determine equinox. Assuming J2000. [aplpy.wcs_util]\n",
      "WARNING: Cannot determine equinox. Assuming J2000. [aplpy.wcs_util]\n",
      "WARNING: Cannot determine equinox. Assuming J2000. [aplpy.wcs_util]\n"
     ]
    },
    {
     "name": "stdout",
     "output_type": "stream",
     "text": [
      "INFO: Auto-setting vmin to -3.113e-02 [aplpy.core]\n",
      "INFO: Auto-setting vmax to  3.507e-01 [aplpy.core]\n",
      "INFO: Auto-setting vmin to -3.158e-06 [aplpy.core]\n",
      "INFO: Auto-setting vmax to  2.624e-06 [aplpy.core]\n",
      "INFO: Auto-setting vmin to -2.992e-06 [aplpy.core]\n",
      "INFO: Auto-setting vmax to  2.127e-06 [aplpy.core]\n"
     ]
    },
    {
     "name": "stderr",
     "output_type": "stream",
     "text": [
      "WARNING: Cannot determine equinox. Assuming J2000. [aplpy.wcs_util]\n",
      "WARNING: Cannot determine equinox. Assuming J2000. [aplpy.wcs_util]\n",
      "WARNING: Cannot determine equinox. Assuming J2000. [aplpy.wcs_util]\n"
     ]
    },
    {
     "name": "stdout",
     "output_type": "stream",
     "text": [
      "INFO: Auto-setting vmin to -1.115e-02 [aplpy.core]\n",
      "INFO: Auto-setting vmax to  1.143e-01 [aplpy.core]\n",
      "INFO: Auto-setting vmin to -3.158e-06 [aplpy.core]\n",
      "INFO: Auto-setting vmax to  2.657e-06 [aplpy.core]\n"
     ]
    },
    {
     "name": "stderr",
     "output_type": "stream",
     "text": [
      "WARNING: Cannot determine equinox. Assuming J2000. [aplpy.wcs_util]\n",
      "WARNING: Cannot determine equinox. Assuming J2000. [aplpy.wcs_util]\n",
      "WARNING: Cannot determine equinox. Assuming J2000. [aplpy.wcs_util]\n"
     ]
    },
    {
     "name": "stdout",
     "output_type": "stream",
     "text": [
      "INFO: Auto-setting vmin to -1.159e-02 [aplpy.core]\n",
      "INFO: Auto-setting vmax to  9.953e-02 [aplpy.core]\n",
      "INFO: Auto-setting vmin to -3.136e-06 [aplpy.core]\n",
      "INFO: Auto-setting vmax to  2.891e-06 [aplpy.core]\n",
      "INFO: Auto-setting vmin to -2.843e-06 [aplpy.core]\n",
      "INFO: Auto-setting vmax to  2.077e-06 [aplpy.core]\n"
     ]
    },
    {
     "name": "stderr",
     "output_type": "stream",
     "text": [
      "WARNING: Cannot determine equinox. Assuming J2000. [aplpy.wcs_util]\n",
      "WARNING: Cannot determine equinox. Assuming J2000. [aplpy.wcs_util]\n",
      "WARNING: Cannot determine equinox. Assuming J2000. [aplpy.wcs_util]\n"
     ]
    },
    {
     "name": "stdout",
     "output_type": "stream",
     "text": [
      "INFO: Auto-setting vmin to -2.625e-02 [aplpy.core]\n",
      "INFO: Auto-setting vmax to  3.194e-01 [aplpy.core]\n",
      "INFO: Auto-setting vmin to -3.019e-06 [aplpy.core]\n",
      "INFO: Auto-setting vmax to  2.989e-06 [aplpy.core]\n",
      "INFO: Auto-setting vmin to -3.015e-06 [aplpy.core]\n",
      "INFO: Auto-setting vmax to  2.259e-06 [aplpy.core]\n"
     ]
    },
    {
     "name": "stderr",
     "output_type": "stream",
     "text": [
      "WARNING: Cannot determine equinox. Assuming J2000. [aplpy.wcs_util]\n",
      "WARNING: Cannot determine equinox. Assuming J2000. [aplpy.wcs_util]\n",
      "WARNING: Cannot determine equinox. Assuming J2000. [aplpy.wcs_util]\n"
     ]
    },
    {
     "name": "stdout",
     "output_type": "stream",
     "text": [
      "INFO: Auto-setting vmin to -9.374e-22 [aplpy.core]\n",
      "INFO: Auto-setting vmax to  1.535e-21 [aplpy.core]\n"
     ]
    },
    {
     "name": "stderr",
     "output_type": "stream",
     "text": [
      "WARNING: Cannot determine equinox. Assuming J2000. [aplpy.wcs_util]\n",
      "WARNING: Cannot determine equinox. Assuming J2000. [aplpy.wcs_util]\n",
      "WARNING: Cannot determine equinox. Assuming J2000. [aplpy.wcs_util]\n"
     ]
    },
    {
     "name": "stdout",
     "output_type": "stream",
     "text": [
      "INFO: Auto-setting vmin to -4.265e-22 [aplpy.core]\n",
      "INFO: Auto-setting vmax to  9.380e-22 [aplpy.core]\n",
      "INFO: Auto-setting vmin to -9.182e-23 [aplpy.core]\n",
      "INFO: Auto-setting vmax to  1.005e-21 [aplpy.core]\n"
     ]
    },
    {
     "name": "stderr",
     "output_type": "stream",
     "text": [
      "WARNING: Cannot determine equinox. Assuming J2000. [aplpy.wcs_util]\n",
      "WARNING: Cannot determine equinox. Assuming J2000. [aplpy.wcs_util]\n",
      "WARNING: Cannot determine equinox. Assuming J2000. [aplpy.wcs_util]\n"
     ]
    },
    {
     "name": "stdout",
     "output_type": "stream",
     "text": [
      "INFO: Auto-setting vmin to -1.586e-02 [aplpy.core]\n",
      "INFO: Auto-setting vmax to  1.624e-01 [aplpy.core]\n",
      "INFO: Red: [aplpy.rgb]\n",
      "INFO: vmin = -1.137e-24 (auto) [aplpy.rgb]\n",
      "INFO: vmax =  9.057e-22 (auto) [aplpy.rgb]\n",
      "INFO: Green: [aplpy.rgb]\n",
      "INFO: vmin = -3.137e-22 (auto) [aplpy.rgb]\n",
      "INFO: vmax =  8.139e-22 (auto) [aplpy.rgb]\n",
      "INFO: Blue: [aplpy.rgb]\n",
      "INFO: vmin = -7.330e-22 (auto) [aplpy.rgb]\n",
      "INFO: vmax =  1.310e-21 (auto) [aplpy.rgb]\n",
      "INFO: Auto-setting vmin to -3.552e-06 [aplpy.core]\n",
      "INFO: Auto-setting vmax to  2.430e-06 [aplpy.core]\n",
      "INFO: Auto-setting vmin to -2.758e-06 [aplpy.core]\n",
      "INFO: Auto-setting vmax to  2.142e-06 [aplpy.core]\n"
     ]
    },
    {
     "name": "stderr",
     "output_type": "stream",
     "text": [
      "WARNING: Cannot determine equinox. Assuming J2000. [aplpy.wcs_util]\n",
      "WARNING: Cannot determine equinox. Assuming J2000. [aplpy.wcs_util]\n",
      "WARNING: Cannot determine equinox. Assuming J2000. [aplpy.wcs_util]\n"
     ]
    },
    {
     "name": "stdout",
     "output_type": "stream",
     "text": [
      "INFO: Auto-setting vmin to -1.050e-02 [aplpy.core]\n",
      "INFO: Auto-setting vmax to  1.093e-01 [aplpy.core]\n",
      "INFO: Auto-setting vmin to -3.107e-06 [aplpy.core]\n",
      "INFO: Auto-setting vmax to  2.579e-06 [aplpy.core]\n",
      "INFO: Auto-setting vmin to -2.848e-06 [aplpy.core]\n",
      "INFO: Auto-setting vmax to  2.133e-06 [aplpy.core]\n"
     ]
    },
    {
     "name": "stderr",
     "output_type": "stream",
     "text": [
      "WARNING: Cannot determine equinox. Assuming J2000. [aplpy.wcs_util]\n",
      "WARNING: Cannot determine equinox. Assuming J2000. [aplpy.wcs_util]\n",
      "WARNING: Cannot determine equinox. Assuming J2000. [aplpy.wcs_util]\n"
     ]
    },
    {
     "name": "stdout",
     "output_type": "stream",
     "text": [
      "INFO: Auto-setting vmin to -4.960e-03 [aplpy.core]\n",
      "INFO: Auto-setting vmax to  3.666e-02 [aplpy.core]\n",
      "INFO: Auto-setting vmin to -3.212e-06 [aplpy.core]\n",
      "INFO: Auto-setting vmax to  2.563e-06 [aplpy.core]\n",
      "INFO: Auto-setting vmin to -2.854e-06 [aplpy.core]\n",
      "INFO: Auto-setting vmax to  2.184e-06 [aplpy.core]\n"
     ]
    },
    {
     "name": "stderr",
     "output_type": "stream",
     "text": [
      "WARNING: Cannot determine equinox. Assuming J2000. [aplpy.wcs_util]\n",
      "WARNING: Cannot determine equinox. Assuming J2000. [aplpy.wcs_util]\n",
      "WARNING: Cannot determine equinox. Assuming J2000. [aplpy.wcs_util]\n"
     ]
    },
    {
     "name": "stdout",
     "output_type": "stream",
     "text": [
      "INFO: Auto-setting vmin to -2.435e-02 [aplpy.core]\n",
      "INFO: Auto-setting vmax to  2.646e-01 [aplpy.core]\n",
      "INFO: Auto-setting vmin to -3.154e-06 [aplpy.core]\n",
      "INFO: Auto-setting vmax to  2.742e-06 [aplpy.core]\n",
      "INFO: Auto-setting vmin to -2.804e-06 [aplpy.core]\n",
      "INFO: Auto-setting vmax to  2.087e-06 [aplpy.core]\n"
     ]
    },
    {
     "name": "stderr",
     "output_type": "stream",
     "text": [
      "WARNING: Cannot determine equinox. Assuming J2000. [aplpy.wcs_util]\n",
      "WARNING: Cannot determine equinox. Assuming J2000. [aplpy.wcs_util]\n",
      "WARNING: Cannot determine equinox. Assuming J2000. [aplpy.wcs_util]\n"
     ]
    },
    {
     "name": "stdout",
     "output_type": "stream",
     "text": [
      "INFO: Auto-setting vmin to -1.405e-02 [aplpy.core]\n",
      "INFO: Auto-setting vmax to  1.315e-01 [aplpy.core]\n",
      "INFO: Auto-setting vmin to -3.376e-06 [aplpy.core]\n",
      "INFO: Auto-setting vmax to  2.706e-06 [aplpy.core]\n",
      "INFO: Auto-setting vmin to -2.929e-06 [aplpy.core]\n",
      "INFO: Auto-setting vmax to  2.043e-06 [aplpy.core]\n"
     ]
    },
    {
     "name": "stderr",
     "output_type": "stream",
     "text": [
      "WARNING: Cannot determine equinox. Assuming J2000. [aplpy.wcs_util]\n",
      "WARNING: Cannot determine equinox. Assuming J2000. [aplpy.wcs_util]\n",
      "WARNING: Cannot determine equinox. Assuming J2000. [aplpy.wcs_util]\n",
      "WARNING: Cannot determine equinox. Assuming J2000. [aplpy.wcs_util]\n",
      "WARNING: Cannot determine equinox. Assuming J2000. [aplpy.wcs_util]\n"
     ]
    },
    {
     "name": "stdout",
     "output_type": "stream",
     "text": [
      "INFO: Auto-setting vmin to -1.190e-21 [aplpy.core]\n",
      "INFO: Auto-setting vmax to  1.647e-21 [aplpy.core]\n"
     ]
    },
    {
     "name": "stderr",
     "output_type": "stream",
     "text": [
      "WARNING: Cannot determine equinox. Assuming J2000. [aplpy.wcs_util]\n"
     ]
    },
    {
     "name": "stdout",
     "output_type": "stream",
     "text": [
      "INFO: Auto-setting vmin to -4.893e-22 [aplpy.core]\n",
      "INFO: Auto-setting vmax to  9.086e-22 [aplpy.core]\n",
      "INFO: Auto-setting vmin to -8.557e-23 [aplpy.core]\n",
      "INFO: Auto-setting vmax to  3.862e-22 [aplpy.core]\n"
     ]
    },
    {
     "name": "stderr",
     "output_type": "stream",
     "text": [
      "WARNING: Cannot determine equinox. Assuming J2000. [aplpy.wcs_util]\n",
      "WARNING: Cannot determine equinox. Assuming J2000. [aplpy.wcs_util]\n",
      "WARNING: Cannot determine equinox. Assuming J2000. [aplpy.wcs_util]\n"
     ]
    },
    {
     "name": "stdout",
     "output_type": "stream",
     "text": [
      "INFO: Auto-setting vmin to -8.680e-03 [aplpy.core]\n",
      "INFO: Auto-setting vmax to  7.520e-02 [aplpy.core]\n",
      "INFO: Red: [aplpy.rgb]\n",
      "INFO: vmin = -4.659e-23 (auto) [aplpy.rgb]\n",
      "INFO: vmax =  3.433e-22 (auto) [aplpy.rgb]\n",
      "INFO: Green: [aplpy.rgb]\n",
      "INFO: vmin = -3.738e-22 (auto) [aplpy.rgb]\n",
      "INFO: vmax =  7.815e-22 (auto) [aplpy.rgb]\n",
      "INFO: Blue: [aplpy.rgb]\n",
      "INFO: vmin = -9.557e-22 (auto) [aplpy.rgb]\n",
      "INFO: vmax =  1.389e-21 (auto) [aplpy.rgb]\n",
      "INFO: Auto-setting vmin to -3.581e-06 [aplpy.core]\n",
      "INFO: Auto-setting vmax to  2.518e-06 [aplpy.core]\n",
      "INFO: Auto-setting vmin to -2.710e-06 [aplpy.core]\n",
      "INFO: Auto-setting vmax to  2.090e-06 [aplpy.core]\n"
     ]
    },
    {
     "name": "stderr",
     "output_type": "stream",
     "text": [
      "WARNING: Cannot determine equinox. Assuming J2000. [aplpy.wcs_util]\n",
      "WARNING: Cannot determine equinox. Assuming J2000. [aplpy.wcs_util]\n",
      "WARNING: Cannot determine equinox. Assuming J2000. [aplpy.wcs_util]\n"
     ]
    },
    {
     "name": "stdout",
     "output_type": "stream",
     "text": [
      "INFO: Auto-setting vmin to -5.863e-03 [aplpy.core]\n",
      "INFO: Auto-setting vmax to  3.555e-02 [aplpy.core]\n",
      "INFO: Auto-setting vmin to -2.945e-06 [aplpy.core]\n",
      "INFO: Auto-setting vmax to  2.525e-06 [aplpy.core]\n",
      "INFO: Auto-setting vmin to -2.819e-06 [aplpy.core]\n",
      "INFO: Auto-setting vmax to  2.134e-06 [aplpy.core]\n"
     ]
    },
    {
     "name": "stderr",
     "output_type": "stream",
     "text": [
      "WARNING: Cannot determine equinox. Assuming J2000. [aplpy.wcs_util]\n",
      "WARNING: Cannot determine equinox. Assuming J2000. [aplpy.wcs_util]\n",
      "WARNING: Cannot determine equinox. Assuming J2000. [aplpy.wcs_util]\n"
     ]
    },
    {
     "name": "stdout",
     "output_type": "stream",
     "text": [
      "INFO: Auto-setting vmin to -6.510e-03 [aplpy.core]\n",
      "INFO: Auto-setting vmax to  3.184e-02 [aplpy.core]\n",
      "INFO: Auto-setting vmin to -3.031e-06 [aplpy.core]\n",
      "INFO: Auto-setting vmax to  2.666e-06 [aplpy.core]\n",
      "INFO: Auto-setting vmin to -3.931e-06 [aplpy.core]\n",
      "INFO: Auto-setting vmax to  2.996e-06 [aplpy.core]\n"
     ]
    },
    {
     "name": "stderr",
     "output_type": "stream",
     "text": [
      "WARNING: Cannot determine equinox. Assuming J2000. [aplpy.wcs_util]\n",
      "WARNING: Cannot determine equinox. Assuming J2000. [aplpy.wcs_util]\n",
      "WARNING: Cannot determine equinox. Assuming J2000. [aplpy.wcs_util]\n"
     ]
    },
    {
     "name": "stdout",
     "output_type": "stream",
     "text": [
      "INFO: Auto-setting vmin to -1.978e-02 [aplpy.core]\n",
      "INFO: Auto-setting vmax to  1.443e-01 [aplpy.core]\n",
      "INFO: Auto-setting vmin to -3.146e-06 [aplpy.core]\n",
      "INFO: Auto-setting vmax to  2.680e-06 [aplpy.core]\n",
      "INFO: Auto-setting vmin to -3.034e-06 [aplpy.core]\n",
      "INFO: Auto-setting vmax to  2.155e-06 [aplpy.core]\n"
     ]
    },
    {
     "name": "stderr",
     "output_type": "stream",
     "text": [
      "WARNING: Cannot determine equinox. Assuming J2000. [aplpy.wcs_util]\n",
      "WARNING: Cannot determine equinox. Assuming J2000. [aplpy.wcs_util]\n",
      "WARNING: Cannot determine equinox. Assuming J2000. [aplpy.wcs_util]\n"
     ]
    },
    {
     "name": "stdout",
     "output_type": "stream",
     "text": [
      "INFO: Auto-setting vmin to -2.491e-02 [aplpy.core]\n",
      "INFO: Auto-setting vmax to  2.597e-01 [aplpy.core]\n",
      "INFO: Auto-setting vmin to -3.088e-06 [aplpy.core]\n",
      "INFO: Auto-setting vmax to  2.436e-06 [aplpy.core]\n",
      "INFO: Auto-setting vmin to -2.943e-06 [aplpy.core]\n",
      "INFO: Auto-setting vmax to  2.121e-06 [aplpy.core]\n"
     ]
    },
    {
     "name": "stderr",
     "output_type": "stream",
     "text": [
      "WARNING: Cannot determine equinox. Assuming J2000. [aplpy.wcs_util]\n",
      "WARNING: Cannot determine equinox. Assuming J2000. [aplpy.wcs_util]\n",
      "WARNING: Cannot determine equinox. Assuming J2000. [aplpy.wcs_util]\n"
     ]
    },
    {
     "name": "stdout",
     "output_type": "stream",
     "text": [
      "INFO: Auto-setting vmin to -8.281e-03 [aplpy.core]\n",
      "INFO: Auto-setting vmax to  5.342e-02 [aplpy.core]\n",
      "INFO: Auto-setting vmin to -3.318e-06 [aplpy.core]\n",
      "INFO: Auto-setting vmax to  2.723e-06 [aplpy.core]\n",
      "INFO: Auto-setting vmin to -2.874e-06 [aplpy.core]\n",
      "INFO: Auto-setting vmax to  2.225e-06 [aplpy.core]\n"
     ]
    },
    {
     "name": "stderr",
     "output_type": "stream",
     "text": [
      "WARNING: Cannot determine equinox. Assuming J2000. [aplpy.wcs_util]\n",
      "WARNING: Cannot determine equinox. Assuming J2000. [aplpy.wcs_util]\n",
      "WARNING: Cannot determine equinox. Assuming J2000. [aplpy.wcs_util]\n"
     ]
    },
    {
     "name": "stdout",
     "output_type": "stream",
     "text": [
      "INFO: Auto-setting vmin to -2.322e-02 [aplpy.core]\n",
      "INFO: Auto-setting vmax to  2.198e-01 [aplpy.core]\n",
      "INFO: Auto-setting vmin to -3.480e-06 [aplpy.core]\n",
      "INFO: Auto-setting vmax to  3.592e-06 [aplpy.core]\n"
     ]
    },
    {
     "name": "stderr",
     "output_type": "stream",
     "text": [
      "WARNING: Cannot determine equinox. Assuming J2000. [aplpy.wcs_util]\n",
      "WARNING: Cannot determine equinox. Assuming J2000. [aplpy.wcs_util]\n",
      "WARNING: Cannot determine equinox. Assuming J2000. [aplpy.wcs_util]\n"
     ]
    },
    {
     "name": "stdout",
     "output_type": "stream",
     "text": [
      "INFO: Auto-setting vmin to -3.193e-02 [aplpy.core]\n",
      "INFO: Auto-setting vmax to  3.646e-01 [aplpy.core]\n",
      "INFO: Auto-setting vmin to -2.911e-06 [aplpy.core]\n",
      "INFO: Auto-setting vmax to  2.450e-06 [aplpy.core]\n",
      "INFO: Auto-setting vmin to -3.189e-06 [aplpy.core]\n",
      "INFO: Auto-setting vmax to  2.385e-06 [aplpy.core]\n"
     ]
    },
    {
     "name": "stderr",
     "output_type": "stream",
     "text": [
      "WARNING: Cannot determine equinox. Assuming J2000. [aplpy.wcs_util]\n",
      "WARNING: Cannot determine equinox. Assuming J2000. [aplpy.wcs_util]\n",
      "WARNING: Cannot determine equinox. Assuming J2000. [aplpy.wcs_util]\n"
     ]
    },
    {
     "name": "stdout",
     "output_type": "stream",
     "text": [
      "INFO: Auto-setting vmin to -2.957e-02 [aplpy.core]\n",
      "INFO: Auto-setting vmax to  3.256e-01 [aplpy.core]\n",
      "INFO: Auto-setting vmin to -2.974e-06 [aplpy.core]\n",
      "INFO: Auto-setting vmax to  2.750e-06 [aplpy.core]\n",
      "INFO: Auto-setting vmin to -3.020e-06 [aplpy.core]\n",
      "INFO: Auto-setting vmax to  2.267e-06 [aplpy.core]\n"
     ]
    },
    {
     "name": "stderr",
     "output_type": "stream",
     "text": [
      "WARNING: Cannot determine equinox. Assuming J2000. [aplpy.wcs_util]\n",
      "WARNING: Cannot determine equinox. Assuming J2000. [aplpy.wcs_util]\n",
      "WARNING: Cannot determine equinox. Assuming J2000. [aplpy.wcs_util]\n"
     ]
    },
    {
     "name": "stdout",
     "output_type": "stream",
     "text": [
      "INFO: Auto-setting vmin to -8.560e-22 [aplpy.core]\n",
      "INFO: Auto-setting vmax to  2.108e-21 [aplpy.core]\n"
     ]
    },
    {
     "name": "stderr",
     "output_type": "stream",
     "text": [
      "WARNING: Cannot determine equinox. Assuming J2000. [aplpy.wcs_util]\n",
      "WARNING: Cannot determine equinox. Assuming J2000. [aplpy.wcs_util]\n",
      "WARNING: Cannot determine equinox. Assuming J2000. [aplpy.wcs_util]\n"
     ]
    },
    {
     "name": "stdout",
     "output_type": "stream",
     "text": [
      "INFO: Auto-setting vmin to -6.092e-22 [aplpy.core]\n",
      "INFO: Auto-setting vmax to  4.441e-21 [aplpy.core]\n",
      "INFO: Auto-setting vmin to -3.030e-22 [aplpy.core]\n",
      "INFO: Auto-setting vmax to  3.128e-21 [aplpy.core]\n"
     ]
    },
    {
     "name": "stderr",
     "output_type": "stream",
     "text": [
      "WARNING: Cannot determine equinox. Assuming J2000. [aplpy.wcs_util]\n",
      "WARNING: Cannot determine equinox. Assuming J2000. [aplpy.wcs_util]\n",
      "WARNING: Cannot determine equinox. Assuming J2000. [aplpy.wcs_util]\n"
     ]
    },
    {
     "name": "stdout",
     "output_type": "stream",
     "text": [
      "INFO: Auto-setting vmin to -1.931e-02 [aplpy.core]\n",
      "INFO: Auto-setting vmax to  2.478e-01 [aplpy.core]\n",
      "INFO: Red: [aplpy.rgb]\n",
      "INFO: vmin = -1.941e-23 (auto) [aplpy.rgb]\n",
      "INFO: vmax =  2.816e-21 (auto) [aplpy.rgb]\n",
      "INFO: Green: [aplpy.rgb]\n",
      "INFO: vmin = -1.918e-22 (auto) [aplpy.rgb]\n",
      "INFO: vmax =  3.982e-21 (auto) [aplpy.rgb]\n",
      "INFO: Blue: [aplpy.rgb]\n",
      "INFO: vmin = -6.111e-22 (auto) [aplpy.rgb]\n",
      "INFO: vmax =  1.838e-21 (auto) [aplpy.rgb]\n",
      "INFO: Auto-setting vmin to -3.268e-06 [aplpy.core]\n",
      "INFO: Auto-setting vmax to  3.606e-06 [aplpy.core]\n",
      "INFO: Auto-setting vmin to -2.942e-06 [aplpy.core]\n",
      "INFO: Auto-setting vmax to  2.210e-06 [aplpy.core]\n"
     ]
    },
    {
     "name": "stderr",
     "output_type": "stream",
     "text": [
      "WARNING: Cannot determine equinox. Assuming J2000. [aplpy.wcs_util]\n",
      "WARNING: Cannot determine equinox. Assuming J2000. [aplpy.wcs_util]\n",
      "WARNING: Cannot determine equinox. Assuming J2000. [aplpy.wcs_util]\n"
     ]
    },
    {
     "name": "stdout",
     "output_type": "stream",
     "text": [
      "INFO: Auto-setting vmin to -3.726e-02 [aplpy.core]\n",
      "INFO: Auto-setting vmax to  3.937e-01 [aplpy.core]\n",
      "INFO: Auto-setting vmin to -3.132e-06 [aplpy.core]\n",
      "INFO: Auto-setting vmax to  2.811e-06 [aplpy.core]\n",
      "INFO: Auto-setting vmin to -2.875e-06 [aplpy.core]\n",
      "INFO: Auto-setting vmax to  2.215e-06 [aplpy.core]\n"
     ]
    },
    {
     "name": "stderr",
     "output_type": "stream",
     "text": [
      "WARNING: Cannot determine equinox. Assuming J2000. [aplpy.wcs_util]\n",
      "WARNING: Cannot determine equinox. Assuming J2000. [aplpy.wcs_util]\n",
      "WARNING: Cannot determine equinox. Assuming J2000. [aplpy.wcs_util]\n"
     ]
    },
    {
     "name": "stdout",
     "output_type": "stream",
     "text": [
      "INFO: Auto-setting vmin to -1.094e-21 [aplpy.core]\n",
      "INFO: Auto-setting vmax to  1.959e-21 [aplpy.core]\n"
     ]
    },
    {
     "name": "stderr",
     "output_type": "stream",
     "text": [
      "WARNING: Cannot determine equinox. Assuming J2000. [aplpy.wcs_util]\n",
      "WARNING: Cannot determine equinox. Assuming J2000. [aplpy.wcs_util]\n",
      "WARNING: Cannot determine equinox. Assuming J2000. [aplpy.wcs_util]\n"
     ]
    },
    {
     "name": "stdout",
     "output_type": "stream",
     "text": [
      "INFO: Auto-setting vmin to -5.924e-22 [aplpy.core]\n",
      "INFO: Auto-setting vmax to  2.709e-21 [aplpy.core]\n",
      "INFO: Auto-setting vmin to -2.620e-22 [aplpy.core]\n",
      "INFO: Auto-setting vmax to  2.284e-21 [aplpy.core]\n"
     ]
    },
    {
     "name": "stderr",
     "output_type": "stream",
     "text": [
      "WARNING: Cannot determine equinox. Assuming J2000. [aplpy.wcs_util]\n",
      "WARNING: Cannot determine equinox. Assuming J2000. [aplpy.wcs_util]\n",
      "WARNING: Cannot determine equinox. Assuming J2000. [aplpy.wcs_util]\n"
     ]
    },
    {
     "name": "stdout",
     "output_type": "stream",
     "text": [
      "INFO: Auto-setting vmin to -2.567e-02 [aplpy.core]\n",
      "INFO: Auto-setting vmax to  2.697e-01 [aplpy.core]\n",
      "INFO: Red: [aplpy.rgb]\n",
      "INFO: vmin = -5.165e-23 (auto) [aplpy.rgb]\n",
      "INFO: vmax =  2.052e-21 (auto) [aplpy.rgb]\n",
      "INFO: Green: [aplpy.rgb]\n",
      "INFO: vmin = -3.195e-22 (auto) [aplpy.rgb]\n",
      "INFO: vmax =  2.409e-21 (auto) [aplpy.rgb]\n",
      "INFO: Blue: [aplpy.rgb]\n",
      "INFO: vmin = -8.415e-22 (auto) [aplpy.rgb]\n",
      "INFO: vmax =  1.681e-21 (auto) [aplpy.rgb]\n",
      "INFO: Auto-setting vmin to -3.305e-06 [aplpy.core]\n",
      "INFO: Auto-setting vmax to  2.375e-06 [aplpy.core]\n",
      "INFO: Auto-setting vmin to -2.736e-06 [aplpy.core]\n",
      "INFO: Auto-setting vmax to  2.071e-06 [aplpy.core]\n"
     ]
    },
    {
     "name": "stderr",
     "output_type": "stream",
     "text": [
      "WARNING: Cannot determine equinox. Assuming J2000. [aplpy.wcs_util]\n",
      "WARNING: Cannot determine equinox. Assuming J2000. [aplpy.wcs_util]\n",
      "WARNING: Cannot determine equinox. Assuming J2000. [aplpy.wcs_util]\n"
     ]
    },
    {
     "name": "stdout",
     "output_type": "stream",
     "text": [
      "INFO: Auto-setting vmin to -7.798e-03 [aplpy.core]\n",
      "INFO: Auto-setting vmax to  6.406e-02 [aplpy.core]\n",
      "INFO: Auto-setting vmin to -3.315e-06 [aplpy.core]\n",
      "INFO: Auto-setting vmax to  2.680e-06 [aplpy.core]\n",
      "INFO: Auto-setting vmin to -2.663e-06 [aplpy.core]\n",
      "INFO: Auto-setting vmax to  2.054e-06 [aplpy.core]\n"
     ]
    },
    {
     "name": "stderr",
     "output_type": "stream",
     "text": [
      "WARNING: Cannot determine equinox. Assuming J2000. [aplpy.wcs_util]\n",
      "WARNING: Cannot determine equinox. Assuming J2000. [aplpy.wcs_util]\n",
      "WARNING: Cannot determine equinox. Assuming J2000. [aplpy.wcs_util]\n",
      "WARNING: Cannot determine equinox. Assuming J2000. [aplpy.wcs_util]\n",
      "WARNING: Cannot determine equinox. Assuming J2000. [aplpy.wcs_util]\n"
     ]
    },
    {
     "name": "stdout",
     "output_type": "stream",
     "text": [
      "INFO: Auto-setting vmin to -1.511e-21 [aplpy.core]\n",
      "INFO: Auto-setting vmax to  2.069e-21 [aplpy.core]\n"
     ]
    },
    {
     "name": "stderr",
     "output_type": "stream",
     "text": [
      "WARNING: Cannot determine equinox. Assuming J2000. [aplpy.wcs_util]\n",
      "WARNING: Cannot determine equinox. Assuming J2000. [aplpy.wcs_util]\n",
      "WARNING: Cannot determine equinox. Assuming J2000. [aplpy.wcs_util]\n"
     ]
    },
    {
     "name": "stdout",
     "output_type": "stream",
     "text": [
      "INFO: Auto-setting vmin to -1.734e-21 [aplpy.core]\n",
      "INFO: Auto-setting vmax to  2.577e-21 [aplpy.core]\n"
     ]
    },
    {
     "name": "stderr",
     "output_type": "stream",
     "text": [
      "WARNING: Cannot determine equinox. Assuming J2000. [aplpy.wcs_util]\n"
     ]
    },
    {
     "name": "stdout",
     "output_type": "stream",
     "text": [
      "INFO: Auto-setting vmin to -1.183e-02 [aplpy.core]\n",
      "INFO: Auto-setting vmax to  1.126e-01 [aplpy.core]\n",
      "INFO: Auto-setting vmin to -3.033e-06 [aplpy.core]\n",
      "INFO: Auto-setting vmax to  2.754e-06 [aplpy.core]\n",
      "INFO: Auto-setting vmin to -2.942e-06 [aplpy.core]\n",
      "INFO: Auto-setting vmax to  2.159e-06 [aplpy.core]\n"
     ]
    },
    {
     "name": "stderr",
     "output_type": "stream",
     "text": [
      "WARNING: Cannot determine equinox. Assuming J2000. [aplpy.wcs_util]\n",
      "WARNING: Cannot determine equinox. Assuming J2000. [aplpy.wcs_util]\n",
      "WARNING: Cannot determine equinox. Assuming J2000. [aplpy.wcs_util]\n",
      "WARNING: Cannot determine equinox. Assuming J2000. [aplpy.wcs_util]\n",
      "WARNING: Cannot determine equinox. Assuming J2000. [aplpy.wcs_util]\n"
     ]
    },
    {
     "name": "stdout",
     "output_type": "stream",
     "text": [
      "INFO: Auto-setting vmin to -7.218e-22 [aplpy.core]\n",
      "INFO: Auto-setting vmax to  1.696e-21 [aplpy.core]\n"
     ]
    },
    {
     "name": "stderr",
     "output_type": "stream",
     "text": [
      "WARNING: Cannot determine equinox. Assuming J2000. [aplpy.wcs_util]\n"
     ]
    },
    {
     "name": "stdout",
     "output_type": "stream",
     "text": [
      "INFO: Auto-setting vmin to -3.948e-22 [aplpy.core]\n",
      "INFO: Auto-setting vmax to  8.690e-22 [aplpy.core]\n",
      "INFO: Auto-setting vmin to -9.026e-23 [aplpy.core]\n",
      "INFO: Auto-setting vmax to  3.333e-22 [aplpy.core]\n"
     ]
    },
    {
     "name": "stderr",
     "output_type": "stream",
     "text": [
      "WARNING: Cannot determine equinox. Assuming J2000. [aplpy.wcs_util]\n",
      "WARNING: Cannot determine equinox. Assuming J2000. [aplpy.wcs_util]\n",
      "WARNING: Cannot determine equinox. Assuming J2000. [aplpy.wcs_util]\n"
     ]
    },
    {
     "name": "stdout",
     "output_type": "stream",
     "text": [
      "INFO: Auto-setting vmin to -7.337e-03 [aplpy.core]\n",
      "INFO: Auto-setting vmax to  6.024e-02 [aplpy.core]\n",
      "INFO: Red: [aplpy.rgb]\n",
      "INFO: vmin = -5.525e-23 (auto) [aplpy.rgb]\n",
      "INFO: vmax =  2.948e-22 (auto) [aplpy.rgb]\n",
      "INFO: Green: [aplpy.rgb]\n",
      "INFO: vmin = -2.903e-22 (auto) [aplpy.rgb]\n",
      "INFO: vmax =  7.541e-22 (auto) [aplpy.rgb]\n",
      "INFO: Blue: [aplpy.rgb]\n",
      "INFO: vmin = -5.220e-22 (auto) [aplpy.rgb]\n",
      "INFO: vmax =  1.476e-21 (auto) [aplpy.rgb]\n",
      "INFO: Auto-setting vmin to -2.864e-06 [aplpy.core]\n",
      "INFO: Auto-setting vmax to  2.568e-06 [aplpy.core]\n"
     ]
    },
    {
     "name": "stderr",
     "output_type": "stream",
     "text": [
      "WARNING: Cannot determine equinox. Assuming J2000. [aplpy.wcs_util]\n",
      "WARNING: Cannot determine equinox. Assuming J2000. [aplpy.wcs_util]\n",
      "WARNING: Cannot determine equinox. Assuming J2000. [aplpy.wcs_util]\n"
     ]
    },
    {
     "name": "stdout",
     "output_type": "stream",
     "text": [
      "INFO: Auto-setting vmin to -2.259e-02 [aplpy.core]\n",
      "INFO: Auto-setting vmax to  2.487e-01 [aplpy.core]\n",
      "INFO: Auto-setting vmin to -3.385e-06 [aplpy.core]\n",
      "INFO: Auto-setting vmax to  3.534e-06 [aplpy.core]\n",
      "INFO: Auto-setting vmin to -2.854e-06 [aplpy.core]\n",
      "INFO: Auto-setting vmax to  2.303e-06 [aplpy.core]\n"
     ]
    },
    {
     "name": "stderr",
     "output_type": "stream",
     "text": [
      "WARNING: Cannot determine equinox. Assuming J2000. [aplpy.wcs_util]\n",
      "WARNING: Cannot determine equinox. Assuming J2000. [aplpy.wcs_util]\n",
      "WARNING: Cannot determine equinox. Assuming J2000. [aplpy.wcs_util]\n"
     ]
    },
    {
     "name": "stdout",
     "output_type": "stream",
     "text": [
      "INFO: Auto-setting vmin to -2.685e-02 [aplpy.core]\n",
      "INFO: Auto-setting vmax to  2.882e-01 [aplpy.core]\n",
      "INFO: Auto-setting vmin to -3.224e-06 [aplpy.core]\n",
      "INFO: Auto-setting vmax to  2.810e-06 [aplpy.core]\n",
      "INFO: Auto-setting vmin to -2.861e-06 [aplpy.core]\n",
      "INFO: Auto-setting vmax to  2.051e-06 [aplpy.core]\n"
     ]
    },
    {
     "name": "stderr",
     "output_type": "stream",
     "text": [
      "WARNING: Cannot determine equinox. Assuming J2000. [aplpy.wcs_util]\n",
      "WARNING: Cannot determine equinox. Assuming J2000. [aplpy.wcs_util]\n",
      "WARNING: Cannot determine equinox. Assuming J2000. [aplpy.wcs_util]\n"
     ]
    },
    {
     "name": "stdout",
     "output_type": "stream",
     "text": [
      "INFO: Auto-setting vmin to -8.224e-03 [aplpy.core]\n",
      "INFO: Auto-setting vmax to  6.246e-02 [aplpy.core]\n",
      "INFO: Auto-setting vmin to -3.091e-06 [aplpy.core]\n",
      "INFO: Auto-setting vmax to  2.719e-06 [aplpy.core]\n",
      "INFO: Auto-setting vmin to -3.992e-06 [aplpy.core]\n",
      "INFO: Auto-setting vmax to  2.743e-06 [aplpy.core]\n"
     ]
    },
    {
     "name": "stderr",
     "output_type": "stream",
     "text": [
      "WARNING: Cannot determine equinox. Assuming J2000. [aplpy.wcs_util]\n",
      "WARNING: Cannot determine equinox. Assuming J2000. [aplpy.wcs_util]\n",
      "WARNING: Cannot determine equinox. Assuming J2000. [aplpy.wcs_util]\n"
     ]
    },
    {
     "name": "stdout",
     "output_type": "stream",
     "text": [
      "INFO: Auto-setting vmin to -1.552e-02 [aplpy.core]\n",
      "INFO: Auto-setting vmax to  1.435e-01 [aplpy.core]\n",
      "INFO: Auto-setting vmin to -3.264e-06 [aplpy.core]\n",
      "INFO: Auto-setting vmax to  2.537e-06 [aplpy.core]\n",
      "INFO: Auto-setting vmin to -2.964e-06 [aplpy.core]\n",
      "INFO: Auto-setting vmax to  2.120e-06 [aplpy.core]\n"
     ]
    },
    {
     "name": "stderr",
     "output_type": "stream",
     "text": [
      "WARNING: Cannot determine equinox. Assuming J2000. [aplpy.wcs_util]\n",
      "WARNING: Cannot determine equinox. Assuming J2000. [aplpy.wcs_util]\n",
      "WARNING: Cannot determine equinox. Assuming J2000. [aplpy.wcs_util]\n"
     ]
    },
    {
     "name": "stdout",
     "output_type": "stream",
     "text": [
      "INFO: Auto-setting vmin to -7.820e-03 [aplpy.core]\n",
      "INFO: Auto-setting vmax to  5.438e-02 [aplpy.core]\n",
      "INFO: Auto-setting vmin to -3.302e-06 [aplpy.core]\n",
      "INFO: Auto-setting vmax to  2.434e-06 [aplpy.core]\n",
      "INFO: Auto-setting vmin to -2.905e-06 [aplpy.core]\n",
      "INFO: Auto-setting vmax to  2.105e-06 [aplpy.core]\n"
     ]
    },
    {
     "name": "stderr",
     "output_type": "stream",
     "text": [
      "WARNING: Cannot determine equinox. Assuming J2000. [aplpy.wcs_util]\n",
      "WARNING: Cannot determine equinox. Assuming J2000. [aplpy.wcs_util]\n",
      "WARNING: Cannot determine equinox. Assuming J2000. [aplpy.wcs_util]\n"
     ]
    },
    {
     "name": "stdout",
     "output_type": "stream",
     "text": [
      "INFO: Auto-setting vmin to -7.522e-03 [aplpy.core]\n",
      "INFO: Auto-setting vmax to  5.274e-02 [aplpy.core]\n",
      "INFO: Auto-setting vmin to -3.438e-06 [aplpy.core]\n",
      "INFO: Auto-setting vmax to  2.445e-06 [aplpy.core]\n",
      "INFO: Auto-setting vmin to -3.624e-06 [aplpy.core]\n",
      "INFO: Auto-setting vmax to  2.642e-06 [aplpy.core]\n"
     ]
    },
    {
     "name": "stderr",
     "output_type": "stream",
     "text": [
      "WARNING: Cannot determine equinox. Assuming J2000. [aplpy.wcs_util]\n",
      "WARNING: Cannot determine equinox. Assuming J2000. [aplpy.wcs_util]\n",
      "WARNING: Cannot determine equinox. Assuming J2000. [aplpy.wcs_util]\n"
     ]
    },
    {
     "name": "stdout",
     "output_type": "stream",
     "text": [
      "INFO: Auto-setting vmin to -1.526e-02 [aplpy.core]\n",
      "INFO: Auto-setting vmax to  9.653e-02 [aplpy.core]\n",
      "INFO: Auto-setting vmin to -3.644e-06 [aplpy.core]\n",
      "INFO: Auto-setting vmax to  2.563e-06 [aplpy.core]\n",
      "INFO: Auto-setting vmin to -2.833e-06 [aplpy.core]\n",
      "INFO: Auto-setting vmax to  2.126e-06 [aplpy.core]\n"
     ]
    },
    {
     "name": "stderr",
     "output_type": "stream",
     "text": [
      "WARNING: Cannot determine equinox. Assuming J2000. [aplpy.wcs_util]\n",
      "WARNING: Cannot determine equinox. Assuming J2000. [aplpy.wcs_util]\n",
      "WARNING: Cannot determine equinox. Assuming J2000. [aplpy.wcs_util]\n",
      "WARNING: Cannot determine equinox. Assuming J2000. [aplpy.wcs_util]\n",
      "WARNING: Cannot determine equinox. Assuming J2000. [aplpy.wcs_util]\n"
     ]
    },
    {
     "name": "stdout",
     "output_type": "stream",
     "text": [
      "INFO: Auto-setting vmin to -2.223e-21 [aplpy.core]\n",
      "INFO: Auto-setting vmax to  2.176e-21 [aplpy.core]\n"
     ]
    },
    {
     "name": "stderr",
     "output_type": "stream",
     "text": [
      "WARNING: Cannot determine equinox. Assuming J2000. [aplpy.wcs_util]\n"
     ]
    },
    {
     "name": "stdout",
     "output_type": "stream",
     "text": [
      "INFO: Auto-setting vmin to -1.198e-02 [aplpy.core]\n",
      "INFO: Auto-setting vmax to  1.049e-01 [aplpy.core]\n",
      "INFO: Auto-setting vmin to -2.909e-06 [aplpy.core]\n",
      "INFO: Auto-setting vmax to  3.020e-06 [aplpy.core]\n",
      "INFO: Auto-setting vmin to -3.143e-06 [aplpy.core]\n",
      "INFO: Auto-setting vmax to  2.200e-06 [aplpy.core]\n"
     ]
    },
    {
     "name": "stderr",
     "output_type": "stream",
     "text": [
      "WARNING: Cannot determine equinox. Assuming J2000. [aplpy.wcs_util]\n",
      "WARNING: Cannot determine equinox. Assuming J2000. [aplpy.wcs_util]\n",
      "WARNING: Cannot determine equinox. Assuming J2000. [aplpy.wcs_util]\n"
     ]
    },
    {
     "name": "stdout",
     "output_type": "stream",
     "text": [
      "INFO: Auto-setting vmin to -5.452e-22 [aplpy.core]\n",
      "INFO: Auto-setting vmax to  1.832e-21 [aplpy.core]\n"
     ]
    },
    {
     "name": "stderr",
     "output_type": "stream",
     "text": [
      "WARNING: Cannot determine equinox. Assuming J2000. [aplpy.wcs_util]\n",
      "WARNING: Cannot determine equinox. Assuming J2000. [aplpy.wcs_util]\n",
      "WARNING: Cannot determine equinox. Assuming J2000. [aplpy.wcs_util]\n",
      "WARNING: Cannot determine equinox. Assuming J2000. [aplpy.wcs_util]\n",
      "WARNING: Cannot determine equinox. Assuming J2000. [aplpy.wcs_util]\n"
     ]
    },
    {
     "name": "stdout",
     "output_type": "stream",
     "text": [
      "INFO: Auto-setting vmin to -4.497e-22 [aplpy.core]\n",
      "INFO: Auto-setting vmax to  1.491e-21 [aplpy.core]\n"
     ]
    },
    {
     "name": "stderr",
     "output_type": "stream",
     "text": [
      "WARNING: Cannot determine equinox. Assuming J2000. [aplpy.wcs_util]\n"
     ]
    },
    {
     "name": "stdout",
     "output_type": "stream",
     "text": [
      "INFO: Auto-setting vmin to -3.781e-02 [aplpy.core]\n",
      "INFO: Auto-setting vmax to  4.279e-01 [aplpy.core]\n",
      "INFO: Auto-setting vmin to -2.950e-06 [aplpy.core]\n",
      "INFO: Auto-setting vmax to  2.405e-06 [aplpy.core]\n"
     ]
    },
    {
     "name": "stderr",
     "output_type": "stream",
     "text": [
      "WARNING: Cannot determine equinox. Assuming J2000. [aplpy.wcs_util]\n",
      "WARNING: Cannot determine equinox. Assuming J2000. [aplpy.wcs_util]\n",
      "WARNING: Cannot determine equinox. Assuming J2000. [aplpy.wcs_util]\n"
     ]
    },
    {
     "name": "stdout",
     "output_type": "stream",
     "text": [
      "INFO: Auto-setting vmin to -1.828e-02 [aplpy.core]\n",
      "INFO: Auto-setting vmax to  1.378e-01 [aplpy.core]\n",
      "INFO: Auto-setting vmin to -3.301e-06 [aplpy.core]\n",
      "INFO: Auto-setting vmax to  2.580e-06 [aplpy.core]\n",
      "INFO: Auto-setting vmin to -3.047e-06 [aplpy.core]\n",
      "INFO: Auto-setting vmax to  2.503e-06 [aplpy.core]\n"
     ]
    },
    {
     "name": "stderr",
     "output_type": "stream",
     "text": [
      "WARNING: Cannot determine equinox. Assuming J2000. [aplpy.wcs_util]\n",
      "WARNING: Cannot determine equinox. Assuming J2000. [aplpy.wcs_util]\n",
      "WARNING: Cannot determine equinox. Assuming J2000. [aplpy.wcs_util]\n"
     ]
    },
    {
     "name": "stdout",
     "output_type": "stream",
     "text": [
      "INFO: Auto-setting vmin to -2.435e-02 [aplpy.core]\n",
      "INFO: Auto-setting vmax to  2.245e-01 [aplpy.core]\n",
      "INFO: Auto-setting vmin to -3.175e-06 [aplpy.core]\n",
      "INFO: Auto-setting vmax to  2.860e-06 [aplpy.core]\n",
      "INFO: Auto-setting vmin to -3.002e-06 [aplpy.core]\n",
      "INFO: Auto-setting vmax to  2.177e-06 [aplpy.core]\n"
     ]
    },
    {
     "name": "stderr",
     "output_type": "stream",
     "text": [
      "WARNING: Cannot determine equinox. Assuming J2000. [aplpy.wcs_util]\n",
      "WARNING: Cannot determine equinox. Assuming J2000. [aplpy.wcs_util]\n",
      "WARNING: Cannot determine equinox. Assuming J2000. [aplpy.wcs_util]\n"
     ]
    },
    {
     "name": "stdout",
     "output_type": "stream",
     "text": [
      "INFO: Auto-setting vmin to -1.174e-02 [aplpy.core]\n",
      "INFO: Auto-setting vmax to  1.163e-01 [aplpy.core]\n",
      "INFO: Auto-setting vmin to -3.173e-06 [aplpy.core]\n",
      "INFO: Auto-setting vmax to  2.501e-06 [aplpy.core]\n",
      "INFO: Auto-setting vmin to -3.284e-06 [aplpy.core]\n",
      "INFO: Auto-setting vmax to  2.216e-06 [aplpy.core]\n"
     ]
    },
    {
     "name": "stderr",
     "output_type": "stream",
     "text": [
      "WARNING: Cannot determine equinox. Assuming J2000. [aplpy.wcs_util]\n",
      "WARNING: Cannot determine equinox. Assuming J2000. [aplpy.wcs_util]\n",
      "WARNING: Cannot determine equinox. Assuming J2000. [aplpy.wcs_util]\n"
     ]
    },
    {
     "name": "stdout",
     "output_type": "stream",
     "text": [
      "INFO: Auto-setting vmin to -3.617e-03 [aplpy.core]\n",
      "INFO: Auto-setting vmax to  2.279e-02 [aplpy.core]\n",
      "INFO: Auto-setting vmin to -3.069e-06 [aplpy.core]\n",
      "INFO: Auto-setting vmax to  2.345e-06 [aplpy.core]\n",
      "INFO: Auto-setting vmin to -2.827e-06 [aplpy.core]\n",
      "INFO: Auto-setting vmax to  2.102e-06 [aplpy.core]\n"
     ]
    },
    {
     "name": "stderr",
     "output_type": "stream",
     "text": [
      "WARNING: Cannot determine equinox. Assuming J2000. [aplpy.wcs_util]\n",
      "WARNING: Cannot determine equinox. Assuming J2000. [aplpy.wcs_util]\n",
      "WARNING: Cannot determine equinox. Assuming J2000. [aplpy.wcs_util]\n"
     ]
    },
    {
     "name": "stdout",
     "output_type": "stream",
     "text": [
      "INFO: Auto-setting vmin to -1.936e-21 [aplpy.core]\n",
      "INFO: Auto-setting vmax to  2.090e-21 [aplpy.core]\n"
     ]
    },
    {
     "name": "stderr",
     "output_type": "stream",
     "text": [
      "WARNING: Cannot determine equinox. Assuming J2000. [aplpy.wcs_util]\n",
      "WARNING: Cannot determine equinox. Assuming J2000. [aplpy.wcs_util]\n",
      "WARNING: Cannot determine equinox. Assuming J2000. [aplpy.wcs_util]\n",
      "WARNING: Cannot determine equinox. Assuming J2000. [aplpy.wcs_util]\n",
      "WARNING: Cannot determine equinox. Assuming J2000. [aplpy.wcs_util]\n"
     ]
    },
    {
     "name": "stdout",
     "output_type": "stream",
     "text": [
      "INFO: Auto-setting vmin to -2.057e-21 [aplpy.core]\n",
      "INFO: Auto-setting vmax to  1.880e-21 [aplpy.core]\n"
     ]
    },
    {
     "name": "stderr",
     "output_type": "stream",
     "text": [
      "WARNING: Cannot determine equinox. Assuming J2000. [aplpy.wcs_util]\n"
     ]
    },
    {
     "name": "stdout",
     "output_type": "stream",
     "text": [
      "INFO: Auto-setting vmin to -9.473e-03 [aplpy.core]\n",
      "INFO: Auto-setting vmax to  7.549e-02 [aplpy.core]\n",
      "INFO: Auto-setting vmin to -3.834e-06 [aplpy.core]\n",
      "INFO: Auto-setting vmax to  2.882e-06 [aplpy.core]\n",
      "INFO: Auto-setting vmin to -2.916e-06 [aplpy.core]\n",
      "INFO: Auto-setting vmax to  2.225e-06 [aplpy.core]\n"
     ]
    },
    {
     "name": "stderr",
     "output_type": "stream",
     "text": [
      "WARNING: Cannot determine equinox. Assuming J2000. [aplpy.wcs_util]\n",
      "WARNING: Cannot determine equinox. Assuming J2000. [aplpy.wcs_util]\n",
      "WARNING: Cannot determine equinox. Assuming J2000. [aplpy.wcs_util]\n"
     ]
    },
    {
     "name": "stdout",
     "output_type": "stream",
     "text": [
      "INFO: Auto-setting vmin to -6.353e-22 [aplpy.core]\n",
      "INFO: Auto-setting vmax to  1.595e-21 [aplpy.core]\n"
     ]
    },
    {
     "name": "stderr",
     "output_type": "stream",
     "text": [
      "WARNING: Cannot determine equinox. Assuming J2000. [aplpy.wcs_util]\n",
      "WARNING: Cannot determine equinox. Assuming J2000. [aplpy.wcs_util]\n",
      "WARNING: Cannot determine equinox. Assuming J2000. [aplpy.wcs_util]\n"
     ]
    },
    {
     "name": "stdout",
     "output_type": "stream",
     "text": [
      "INFO: Auto-setting vmin to -4.567e-22 [aplpy.core]\n",
      "INFO: Auto-setting vmax to  1.155e-21 [aplpy.core]\n"
     ]
    },
    {
     "name": "stderr",
     "output_type": "stream",
     "text": [
      "WARNING: Cannot determine equinox. Assuming J2000. [aplpy.wcs_util]\n",
      "WARNING: Cannot determine equinox. Assuming J2000. [aplpy.wcs_util]\n",
      "WARNING: Cannot determine equinox. Assuming J2000. [aplpy.wcs_util]\n"
     ]
    },
    {
     "name": "stdout",
     "output_type": "stream",
     "text": [
      "INFO: Auto-setting vmin to -1.887e-02 [aplpy.core]\n",
      "INFO: Auto-setting vmax to  1.947e-01 [aplpy.core]\n",
      "INFO: Auto-setting vmin to -3.182e-06 [aplpy.core]\n",
      "INFO: Auto-setting vmax to  3.434e-06 [aplpy.core]\n",
      "INFO: Auto-setting vmin to -2.741e-06 [aplpy.core]\n",
      "INFO: Auto-setting vmax to  2.126e-06 [aplpy.core]\n"
     ]
    },
    {
     "name": "stderr",
     "output_type": "stream",
     "text": [
      "WARNING: Cannot determine equinox. Assuming J2000. [aplpy.wcs_util]\n",
      "WARNING: Cannot determine equinox. Assuming J2000. [aplpy.wcs_util]\n",
      "WARNING: Cannot determine equinox. Assuming J2000. [aplpy.wcs_util]\n"
     ]
    },
    {
     "name": "stdout",
     "output_type": "stream",
     "text": [
      "INFO: Auto-setting vmin to -3.960e-02 [aplpy.core]\n",
      "INFO: Auto-setting vmax to  4.690e-01 [aplpy.core]\n",
      "INFO: Auto-setting vmin to -3.261e-06 [aplpy.core]\n",
      "INFO: Auto-setting vmax to  2.602e-06 [aplpy.core]\n",
      "INFO: Auto-setting vmin to -2.708e-06 [aplpy.core]\n",
      "INFO: Auto-setting vmax to  2.111e-06 [aplpy.core]\n"
     ]
    },
    {
     "name": "stderr",
     "output_type": "stream",
     "text": [
      "WARNING: Cannot determine equinox. Assuming J2000. [aplpy.wcs_util]\n",
      "WARNING: Cannot determine equinox. Assuming J2000. [aplpy.wcs_util]\n",
      "WARNING: Cannot determine equinox. Assuming J2000. [aplpy.wcs_util]\n"
     ]
    },
    {
     "name": "stdout",
     "output_type": "stream",
     "text": [
      "INFO: Auto-setting vmin to -9.194e-22 [aplpy.core]\n",
      "INFO: Auto-setting vmax to  7.561e-21 [aplpy.core]\n"
     ]
    },
    {
     "name": "stderr",
     "output_type": "stream",
     "text": [
      "WARNING: Cannot determine equinox. Assuming J2000. [aplpy.wcs_util]\n",
      "WARNING: Cannot determine equinox. Assuming J2000. [aplpy.wcs_util]\n",
      "WARNING: Cannot determine equinox. Assuming J2000. [aplpy.wcs_util]\n"
     ]
    },
    {
     "name": "stdout",
     "output_type": "stream",
     "text": [
      "INFO: Auto-setting vmin to -1.454e-21 [aplpy.core]\n",
      "INFO: Auto-setting vmax to  1.393e-20 [aplpy.core]\n",
      "INFO: Auto-setting vmin to -9.891e-22 [aplpy.core]\n",
      "INFO: Auto-setting vmax to  1.048e-20 [aplpy.core]\n"
     ]
    },
    {
     "name": "stderr",
     "output_type": "stream",
     "text": [
      "WARNING: Cannot determine equinox. Assuming J2000. [aplpy.wcs_util]\n",
      "WARNING: Cannot determine equinox. Assuming J2000. [aplpy.wcs_util]\n",
      "WARNING: Cannot determine equinox. Assuming J2000. [aplpy.wcs_util]\n"
     ]
    },
    {
     "name": "stdout",
     "output_type": "stream",
     "text": [
      "INFO: Auto-setting vmin to -4.183e-02 [aplpy.core]\n",
      "INFO: Auto-setting vmax to  4.881e-01 [aplpy.core]\n",
      "INFO: Red: [aplpy.rgb]\n",
      "INFO: vmin = -4.127e-23 (auto) [aplpy.rgb]\n",
      "INFO: vmax =  9.437e-21 (auto) [aplpy.rgb]\n",
      "INFO: Green: [aplpy.rgb]\n",
      "INFO: vmin = -1.822e-22 (auto) [aplpy.rgb]\n",
      "INFO: vmax =  1.253e-20 (auto) [aplpy.rgb]\n",
      "INFO: Blue: [aplpy.rgb]\n",
      "INFO: vmin = -2.185e-22 (auto) [aplpy.rgb]\n",
      "INFO: vmax =  6.790e-21 (auto) [aplpy.rgb]\n",
      "INFO: Auto-setting vmin to -3.285e-06 [aplpy.core]\n",
      "INFO: Auto-setting vmax to  2.447e-06 [aplpy.core]\n",
      "INFO: Auto-setting vmin to -3.656e-06 [aplpy.core]\n",
      "INFO: Auto-setting vmax to  2.641e-06 [aplpy.core]\n"
     ]
    },
    {
     "name": "stderr",
     "output_type": "stream",
     "text": [
      "WARNING: Cannot determine equinox. Assuming J2000. [aplpy.wcs_util]\n",
      "WARNING: Cannot determine equinox. Assuming J2000. [aplpy.wcs_util]\n",
      "WARNING: Cannot determine equinox. Assuming J2000. [aplpy.wcs_util]\n"
     ]
    },
    {
     "name": "stdout",
     "output_type": "stream",
     "text": [
      "INFO: Auto-setting vmin to -1.529e-02 [aplpy.core]\n",
      "INFO: Auto-setting vmax to  1.076e-01 [aplpy.core]\n",
      "INFO: Auto-setting vmin to -3.014e-06 [aplpy.core]\n",
      "INFO: Auto-setting vmax to  2.534e-06 [aplpy.core]\n"
     ]
    },
    {
     "name": "stderr",
     "output_type": "stream",
     "text": [
      "WARNING: Cannot determine equinox. Assuming J2000. [aplpy.wcs_util]\n",
      "WARNING: Cannot determine equinox. Assuming J2000. [aplpy.wcs_util]\n",
      "WARNING: Cannot determine equinox. Assuming J2000. [aplpy.wcs_util]\n"
     ]
    },
    {
     "name": "stdout",
     "output_type": "stream",
     "text": [
      "INFO: Auto-setting vmin to -3.003e-02 [aplpy.core]\n",
      "INFO: Auto-setting vmax to  3.556e-01 [aplpy.core]\n",
      "INFO: Auto-setting vmin to -3.309e-06 [aplpy.core]\n",
      "INFO: Auto-setting vmax to  2.564e-06 [aplpy.core]\n",
      "INFO: Auto-setting vmin to -2.754e-06 [aplpy.core]\n",
      "INFO: Auto-setting vmax to  2.132e-06 [aplpy.core]\n"
     ]
    },
    {
     "name": "stderr",
     "output_type": "stream",
     "text": [
      "WARNING: Cannot determine equinox. Assuming J2000. [aplpy.wcs_util]\n",
      "WARNING: Cannot determine equinox. Assuming J2000. [aplpy.wcs_util]\n",
      "WARNING: Cannot determine equinox. Assuming J2000. [aplpy.wcs_util]\n",
      "WARNING: Cannot determine equinox. Assuming J2000. [aplpy.wcs_util]\n",
      "WARNING: Cannot determine equinox. Assuming J2000. [aplpy.wcs_util]\n"
     ]
    },
    {
     "name": "stdout",
     "output_type": "stream",
     "text": [
      "INFO: Auto-setting vmin to -7.076e-22 [aplpy.core]\n",
      "INFO: Auto-setting vmax to  1.609e-21 [aplpy.core]\n"
     ]
    },
    {
     "name": "stderr",
     "output_type": "stream",
     "text": [
      "WARNING: Cannot determine equinox. Assuming J2000. [aplpy.wcs_util]\n",
      "WARNING: Cannot determine equinox. Assuming J2000. [aplpy.wcs_util]\n",
      "WARNING: Cannot determine equinox. Assuming J2000. [aplpy.wcs_util]\n"
     ]
    },
    {
     "name": "stdout",
     "output_type": "stream",
     "text": [
      "INFO: Auto-setting vmin to -5.249e-22 [aplpy.core]\n",
      "INFO: Auto-setting vmax to  9.349e-22 [aplpy.core]\n"
     ]
    },
    {
     "name": "stderr",
     "output_type": "stream",
     "text": [
      "WARNING: Cannot determine equinox. Assuming J2000. [aplpy.wcs_util]\n"
     ]
    },
    {
     "name": "stdout",
     "output_type": "stream",
     "text": [
      "INFO: Auto-setting vmin to -5.553e-03 [aplpy.core]\n",
      "INFO: Auto-setting vmax to  2.948e-02 [aplpy.core]\n",
      "INFO: Auto-setting vmin to -3.275e-06 [aplpy.core]\n",
      "INFO: Auto-setting vmax to  2.654e-06 [aplpy.core]\n",
      "INFO: Auto-setting vmin to -2.997e-06 [aplpy.core]\n",
      "INFO: Auto-setting vmax to  2.120e-06 [aplpy.core]\n"
     ]
    },
    {
     "name": "stderr",
     "output_type": "stream",
     "text": [
      "WARNING: Cannot determine equinox. Assuming J2000. [aplpy.wcs_util]\n",
      "WARNING: Cannot determine equinox. Assuming J2000. [aplpy.wcs_util]\n",
      "WARNING: Cannot determine equinox. Assuming J2000. [aplpy.wcs_util]\n"
     ]
    },
    {
     "name": "stdout",
     "output_type": "stream",
     "text": [
      "INFO: Auto-setting vmin to -2.292e-02 [aplpy.core]\n",
      "INFO: Auto-setting vmax to  2.323e-01 [aplpy.core]\n",
      "INFO: Auto-setting vmin to -3.134e-06 [aplpy.core]\n",
      "INFO: Auto-setting vmax to  2.637e-06 [aplpy.core]\n",
      "INFO: Auto-setting vmin to -2.935e-06 [aplpy.core]\n",
      "INFO: Auto-setting vmax to  2.230e-06 [aplpy.core]\n"
     ]
    },
    {
     "name": "stderr",
     "output_type": "stream",
     "text": [
      "WARNING: Cannot determine equinox. Assuming J2000. [aplpy.wcs_util]\n",
      "WARNING: Cannot determine equinox. Assuming J2000. [aplpy.wcs_util]\n",
      "WARNING: Cannot determine equinox. Assuming J2000. [aplpy.wcs_util]\n"
     ]
    },
    {
     "name": "stdout",
     "output_type": "stream",
     "text": [
      "INFO: Auto-setting vmin to -6.770e-03 [aplpy.core]\n",
      "INFO: Auto-setting vmax to  5.511e-02 [aplpy.core]\n",
      "INFO: Auto-setting vmin to -3.379e-06 [aplpy.core]\n",
      "INFO: Auto-setting vmax to  2.548e-06 [aplpy.core]\n",
      "INFO: Auto-setting vmin to -2.918e-06 [aplpy.core]\n",
      "INFO: Auto-setting vmax to  2.196e-06 [aplpy.core]\n"
     ]
    },
    {
     "name": "stderr",
     "output_type": "stream",
     "text": [
      "WARNING: Cannot determine equinox. Assuming J2000. [aplpy.wcs_util]\n",
      "WARNING: Cannot determine equinox. Assuming J2000. [aplpy.wcs_util]\n",
      "WARNING: Cannot determine equinox. Assuming J2000. [aplpy.wcs_util]\n",
      "WARNING: Cannot determine equinox. Assuming J2000. [aplpy.wcs_util]\n",
      "WARNING: Cannot determine equinox. Assuming J2000. [aplpy.wcs_util]\n"
     ]
    },
    {
     "name": "stdout",
     "output_type": "stream",
     "text": [
      "INFO: Auto-setting vmin to -7.471e-22 [aplpy.core]\n",
      "INFO: Auto-setting vmax to  1.395e-21 [aplpy.core]\n"
     ]
    },
    {
     "name": "stderr",
     "output_type": "stream",
     "text": [
      "WARNING: Cannot determine equinox. Assuming J2000. [aplpy.wcs_util]\n",
      "WARNING: Cannot determine equinox. Assuming J2000. [aplpy.wcs_util]\n",
      "WARNING: Cannot determine equinox. Assuming J2000. [aplpy.wcs_util]\n"
     ]
    },
    {
     "name": "stdout",
     "output_type": "stream",
     "text": [
      "INFO: Auto-setting vmin to -4.981e-22 [aplpy.core]\n",
      "INFO: Auto-setting vmax to  6.312e-22 [aplpy.core]\n"
     ]
    },
    {
     "name": "stderr",
     "output_type": "stream",
     "text": [
      "WARNING: Cannot determine equinox. Assuming J2000. [aplpy.wcs_util]\n"
     ]
    },
    {
     "name": "stdout",
     "output_type": "stream",
     "text": [
      "INFO: Auto-setting vmin to -9.635e-03 [aplpy.core]\n",
      "INFO: Auto-setting vmax to  8.230e-02 [aplpy.core]\n",
      "INFO: Auto-setting vmin to -2.935e-06 [aplpy.core]\n",
      "INFO: Auto-setting vmax to  2.590e-06 [aplpy.core]\n",
      "INFO: Auto-setting vmin to -2.885e-06 [aplpy.core]\n",
      "INFO: Auto-setting vmax to  2.125e-06 [aplpy.core]\n"
     ]
    },
    {
     "name": "stderr",
     "output_type": "stream",
     "text": [
      "WARNING: Cannot determine equinox. Assuming J2000. [aplpy.wcs_util]\n",
      "WARNING: Cannot determine equinox. Assuming J2000. [aplpy.wcs_util]\n",
      "WARNING: Cannot determine equinox. Assuming J2000. [aplpy.wcs_util]\n",
      "WARNING: Cannot determine equinox. Assuming J2000. [aplpy.wcs_util]\n",
      "WARNING: Cannot determine equinox. Assuming J2000. [aplpy.wcs_util]\n"
     ]
    },
    {
     "name": "stdout",
     "output_type": "stream",
     "text": [
      "INFO: Auto-setting vmin to -5.773e-21 [aplpy.core]\n",
      "INFO: Auto-setting vmax to  6.431e-21 [aplpy.core]\n"
     ]
    },
    {
     "name": "stderr",
     "output_type": "stream",
     "text": [
      "WARNING: Cannot determine equinox. Assuming J2000. [aplpy.wcs_util]\n"
     ]
    },
    {
     "name": "stdout",
     "output_type": "stream",
     "text": [
      "INFO: Auto-setting vmin to -3.247e-03 [aplpy.core]\n",
      "INFO: Auto-setting vmax to  1.198e-02 [aplpy.core]\n",
      "INFO: Auto-setting vmin to -3.217e-06 [aplpy.core]\n",
      "INFO: Auto-setting vmax to  2.892e-06 [aplpy.core]\n",
      "INFO: Auto-setting vmin to -2.907e-06 [aplpy.core]\n",
      "INFO: Auto-setting vmax to  2.157e-06 [aplpy.core]\n"
     ]
    },
    {
     "name": "stderr",
     "output_type": "stream",
     "text": [
      "WARNING: Cannot determine equinox. Assuming J2000. [aplpy.wcs_util]\n",
      "WARNING: Cannot determine equinox. Assuming J2000. [aplpy.wcs_util]\n",
      "WARNING: Cannot determine equinox. Assuming J2000. [aplpy.wcs_util]\n"
     ]
    },
    {
     "name": "stdout",
     "output_type": "stream",
     "text": [
      "INFO: Auto-setting vmin to -2.530e-02 [aplpy.core]\n",
      "INFO: Auto-setting vmax to  2.994e-01 [aplpy.core]\n",
      "INFO: Auto-setting vmin to -3.395e-06 [aplpy.core]\n",
      "INFO: Auto-setting vmax to  3.232e-06 [aplpy.core]\n",
      "INFO: Auto-setting vmin to -2.777e-06 [aplpy.core]\n",
      "INFO: Auto-setting vmax to  2.199e-06 [aplpy.core]\n"
     ]
    },
    {
     "name": "stderr",
     "output_type": "stream",
     "text": [
      "WARNING: Cannot determine equinox. Assuming J2000. [aplpy.wcs_util]\n",
      "WARNING: Cannot determine equinox. Assuming J2000. [aplpy.wcs_util]\n",
      "WARNING: Cannot determine equinox. Assuming J2000. [aplpy.wcs_util]\n"
     ]
    },
    {
     "name": "stdout",
     "output_type": "stream",
     "text": [
      "INFO: Auto-setting vmin to -1.721e-02 [aplpy.core]\n",
      "INFO: Auto-setting vmax to  1.869e-01 [aplpy.core]\n",
      "INFO: Auto-setting vmin to -3.093e-06 [aplpy.core]\n",
      "INFO: Auto-setting vmax to  2.622e-06 [aplpy.core]\n",
      "INFO: Auto-setting vmin to -2.746e-06 [aplpy.core]\n",
      "INFO: Auto-setting vmax to  2.004e-06 [aplpy.core]\n"
     ]
    },
    {
     "name": "stderr",
     "output_type": "stream",
     "text": [
      "WARNING: Cannot determine equinox. Assuming J2000. [aplpy.wcs_util]\n",
      "WARNING: Cannot determine equinox. Assuming J2000. [aplpy.wcs_util]\n",
      "WARNING: Cannot determine equinox. Assuming J2000. [aplpy.wcs_util]\n"
     ]
    },
    {
     "name": "stdout",
     "output_type": "stream",
     "text": [
      "INFO: Auto-setting vmin to -6.210e-03 [aplpy.core]\n",
      "INFO: Auto-setting vmax to  4.336e-02 [aplpy.core]\n",
      "INFO: Auto-setting vmin to -3.132e-06 [aplpy.core]\n",
      "INFO: Auto-setting vmax to  2.654e-06 [aplpy.core]\n",
      "INFO: Auto-setting vmin to -2.740e-06 [aplpy.core]\n",
      "INFO: Auto-setting vmax to  2.077e-06 [aplpy.core]\n"
     ]
    },
    {
     "name": "stderr",
     "output_type": "stream",
     "text": [
      "WARNING: Cannot determine equinox. Assuming J2000. [aplpy.wcs_util]\n",
      "WARNING: Cannot determine equinox. Assuming J2000. [aplpy.wcs_util]\n",
      "WARNING: Cannot determine equinox. Assuming J2000. [aplpy.wcs_util]\n"
     ]
    },
    {
     "name": "stdout",
     "output_type": "stream",
     "text": [
      "INFO: Auto-setting vmin to -5.556e-03 [aplpy.core]\n",
      "INFO: Auto-setting vmax to  4.633e-02 [aplpy.core]\n",
      "INFO: Auto-setting vmin to -3.449e-06 [aplpy.core]\n",
      "INFO: Auto-setting vmax to  2.967e-06 [aplpy.core]\n",
      "INFO: Auto-setting vmin to -2.924e-06 [aplpy.core]\n",
      "INFO: Auto-setting vmax to  2.177e-06 [aplpy.core]\n"
     ]
    },
    {
     "name": "stderr",
     "output_type": "stream",
     "text": [
      "WARNING: Cannot determine equinox. Assuming J2000. [aplpy.wcs_util]\n",
      "WARNING: Cannot determine equinox. Assuming J2000. [aplpy.wcs_util]\n",
      "WARNING: Cannot determine equinox. Assuming J2000. [aplpy.wcs_util]\n"
     ]
    },
    {
     "name": "stdout",
     "output_type": "stream",
     "text": [
      "INFO: Auto-setting vmin to -1.486e-02 [aplpy.core]\n",
      "INFO: Auto-setting vmax to  1.294e-01 [aplpy.core]\n",
      "INFO: Auto-setting vmin to -3.432e-06 [aplpy.core]\n",
      "INFO: Auto-setting vmax to  2.839e-06 [aplpy.core]\n",
      "INFO: Auto-setting vmin to -3.069e-06 [aplpy.core]\n",
      "INFO: Auto-setting vmax to  2.301e-06 [aplpy.core]\n"
     ]
    },
    {
     "name": "stderr",
     "output_type": "stream",
     "text": [
      "WARNING: Cannot determine equinox. Assuming J2000. [aplpy.wcs_util]\n",
      "WARNING: Cannot determine equinox. Assuming J2000. [aplpy.wcs_util]\n",
      "WARNING: Cannot determine equinox. Assuming J2000. [aplpy.wcs_util]\n"
     ]
    },
    {
     "name": "stdout",
     "output_type": "stream",
     "text": [
      "INFO: Auto-setting vmin to -8.562e-03 [aplpy.core]\n",
      "INFO: Auto-setting vmax to  3.192e-02 [aplpy.core]\n",
      "INFO: Auto-setting vmin to -3.284e-06 [aplpy.core]\n",
      "INFO: Auto-setting vmax to  2.636e-06 [aplpy.core]\n",
      "INFO: Auto-setting vmin to -2.909e-06 [aplpy.core]\n",
      "INFO: Auto-setting vmax to  2.229e-06 [aplpy.core]\n"
     ]
    },
    {
     "name": "stderr",
     "output_type": "stream",
     "text": [
      "WARNING: Cannot determine equinox. Assuming J2000. [aplpy.wcs_util]\n",
      "WARNING: Cannot determine equinox. Assuming J2000. [aplpy.wcs_util]\n",
      "WARNING: Cannot determine equinox. Assuming J2000. [aplpy.wcs_util]\n"
     ]
    },
    {
     "name": "stdout",
     "output_type": "stream",
     "text": [
      "INFO: Auto-setting vmin to -3.792e-02 [aplpy.core]\n",
      "INFO: Auto-setting vmax to  4.592e-01 [aplpy.core]\n",
      "INFO: Auto-setting vmin to -3.170e-06 [aplpy.core]\n",
      "INFO: Auto-setting vmax to  2.598e-06 [aplpy.core]\n",
      "INFO: Auto-setting vmin to -2.692e-06 [aplpy.core]\n",
      "INFO: Auto-setting vmax to  2.044e-06 [aplpy.core]\n"
     ]
    },
    {
     "name": "stderr",
     "output_type": "stream",
     "text": [
      "WARNING: Cannot determine equinox. Assuming J2000. [aplpy.wcs_util]\n",
      "WARNING: Cannot determine equinox. Assuming J2000. [aplpy.wcs_util]\n",
      "WARNING: Cannot determine equinox. Assuming J2000. [aplpy.wcs_util]\n"
     ]
    },
    {
     "name": "stdout",
     "output_type": "stream",
     "text": [
      "INFO: Auto-setting vmin to -1.420e-02 [aplpy.core]\n",
      "INFO: Auto-setting vmax to  1.368e-01 [aplpy.core]\n",
      "INFO: Auto-setting vmin to -3.264e-06 [aplpy.core]\n",
      "INFO: Auto-setting vmax to  2.700e-06 [aplpy.core]\n",
      "INFO: Auto-setting vmin to -3.831e-06 [aplpy.core]\n",
      "INFO: Auto-setting vmax to  2.671e-06 [aplpy.core]\n"
     ]
    },
    {
     "name": "stderr",
     "output_type": "stream",
     "text": [
      "WARNING: Cannot determine equinox. Assuming J2000. [aplpy.wcs_util]\n",
      "WARNING: Cannot determine equinox. Assuming J2000. [aplpy.wcs_util]\n",
      "WARNING: Cannot determine equinox. Assuming J2000. [aplpy.wcs_util]\n"
     ]
    },
    {
     "name": "stdout",
     "output_type": "stream",
     "text": [
      "INFO: Auto-setting vmin to -1.857e-02 [aplpy.core]\n",
      "INFO: Auto-setting vmax to  1.838e-01 [aplpy.core]\n",
      "INFO: Auto-setting vmin to -3.242e-06 [aplpy.core]\n",
      "INFO: Auto-setting vmax to  2.495e-06 [aplpy.core]\n",
      "INFO: Auto-setting vmin to -2.942e-06 [aplpy.core]\n",
      "INFO: Auto-setting vmax to  2.197e-06 [aplpy.core]\n"
     ]
    },
    {
     "name": "stderr",
     "output_type": "stream",
     "text": [
      "WARNING: Cannot determine equinox. Assuming J2000. [aplpy.wcs_util]\n",
      "WARNING: Cannot determine equinox. Assuming J2000. [aplpy.wcs_util]\n",
      "WARNING: Cannot determine equinox. Assuming J2000. [aplpy.wcs_util]\n"
     ]
    },
    {
     "name": "stdout",
     "output_type": "stream",
     "text": [
      "INFO: Auto-setting vmin to -5.231e-03 [aplpy.core]\n",
      "INFO: Auto-setting vmax to  3.070e-02 [aplpy.core]\n",
      "INFO: Auto-setting vmin to -3.729e-06 [aplpy.core]\n",
      "INFO: Auto-setting vmax to  3.736e-06 [aplpy.core]\n",
      "INFO: Auto-setting vmin to -2.897e-06 [aplpy.core]\n",
      "INFO: Auto-setting vmax to  2.181e-06 [aplpy.core]\n"
     ]
    },
    {
     "name": "stderr",
     "output_type": "stream",
     "text": [
      "WARNING: Cannot determine equinox. Assuming J2000. [aplpy.wcs_util]\n",
      "WARNING: Cannot determine equinox. Assuming J2000. [aplpy.wcs_util]\n",
      "WARNING: Cannot determine equinox. Assuming J2000. [aplpy.wcs_util]\n"
     ]
    },
    {
     "name": "stdout",
     "output_type": "stream",
     "text": [
      "INFO: Auto-setting vmin to -3.018e-02 [aplpy.core]\n",
      "INFO: Auto-setting vmax to  3.473e-01 [aplpy.core]\n",
      "INFO: Auto-setting vmin to -2.812e-06 [aplpy.core]\n",
      "INFO: Auto-setting vmax to  2.814e-06 [aplpy.core]\n"
     ]
    },
    {
     "name": "stderr",
     "output_type": "stream",
     "text": [
      "WARNING: Cannot determine equinox. Assuming J2000. [aplpy.wcs_util]\n",
      "WARNING: Cannot determine equinox. Assuming J2000. [aplpy.wcs_util]\n",
      "WARNING: Cannot determine equinox. Assuming J2000. [aplpy.wcs_util]\n"
     ]
    },
    {
     "name": "stdout",
     "output_type": "stream",
     "text": [
      "INFO: Auto-setting vmin to -3.134e-02 [aplpy.core]\n",
      "INFO: Auto-setting vmax to  2.136e-01 [aplpy.core]\n",
      "INFO: Auto-setting vmin to -2.953e-06 [aplpy.core]\n",
      "INFO: Auto-setting vmax to  2.343e-06 [aplpy.core]\n",
      "INFO: Auto-setting vmin to -2.859e-06 [aplpy.core]\n",
      "INFO: Auto-setting vmax to  2.194e-06 [aplpy.core]\n"
     ]
    },
    {
     "name": "stderr",
     "output_type": "stream",
     "text": [
      "WARNING: Cannot determine equinox. Assuming J2000. [aplpy.wcs_util]\n",
      "WARNING: Cannot determine equinox. Assuming J2000. [aplpy.wcs_util]\n",
      "WARNING: Cannot determine equinox. Assuming J2000. [aplpy.wcs_util]\n",
      "WARNING: Cannot determine equinox. Assuming J2000. [aplpy.wcs_util]\n",
      "WARNING: Cannot determine equinox. Assuming J2000. [aplpy.wcs_util]\n"
     ]
    },
    {
     "name": "stdout",
     "output_type": "stream",
     "text": [
      "INFO: Auto-setting vmin to -5.792e-21 [aplpy.core]\n",
      "INFO: Auto-setting vmax to  6.178e-21 [aplpy.core]\n"
     ]
    },
    {
     "name": "stderr",
     "output_type": "stream",
     "text": [
      "WARNING: Cannot determine equinox. Assuming J2000. [aplpy.wcs_util]\n"
     ]
    },
    {
     "name": "stdout",
     "output_type": "stream",
     "text": [
      "INFO: Auto-setting vmin to -1.353e-02 [aplpy.core]\n",
      "INFO: Auto-setting vmax to  1.489e-01 [aplpy.core]\n",
      "INFO: Auto-setting vmin to -3.358e-06 [aplpy.core]\n",
      "INFO: Auto-setting vmax to  2.487e-06 [aplpy.core]\n",
      "INFO: Auto-setting vmin to -3.970e-06 [aplpy.core]\n",
      "INFO: Auto-setting vmax to  2.731e-06 [aplpy.core]\n"
     ]
    },
    {
     "name": "stderr",
     "output_type": "stream",
     "text": [
      "WARNING: Cannot determine equinox. Assuming J2000. [aplpy.wcs_util]\n",
      "WARNING: Cannot determine equinox. Assuming J2000. [aplpy.wcs_util]\n",
      "WARNING: Cannot determine equinox. Assuming J2000. [aplpy.wcs_util]\n"
     ]
    },
    {
     "name": "stdout",
     "output_type": "stream",
     "text": [
      "INFO: Auto-setting vmin to -1.254e-02 [aplpy.core]\n",
      "INFO: Auto-setting vmax to  9.376e-02 [aplpy.core]\n",
      "INFO: Auto-setting vmin to -3.442e-06 [aplpy.core]\n",
      "INFO: Auto-setting vmax to  2.970e-06 [aplpy.core]\n",
      "INFO: Auto-setting vmin to -2.900e-06 [aplpy.core]\n",
      "INFO: Auto-setting vmax to  2.175e-06 [aplpy.core]\n"
     ]
    },
    {
     "name": "stderr",
     "output_type": "stream",
     "text": [
      "WARNING: Cannot determine equinox. Assuming J2000. [aplpy.wcs_util]\n",
      "WARNING: Cannot determine equinox. Assuming J2000. [aplpy.wcs_util]\n",
      "WARNING: Cannot determine equinox. Assuming J2000. [aplpy.wcs_util]\n"
     ]
    },
    {
     "name": "stdout",
     "output_type": "stream",
     "text": [
      "INFO: Auto-setting vmin to -1.819e-02 [aplpy.core]\n",
      "INFO: Auto-setting vmax to  1.905e-01 [aplpy.core]\n",
      "INFO: Auto-setting vmin to -3.094e-06 [aplpy.core]\n",
      "INFO: Auto-setting vmax to  2.560e-06 [aplpy.core]\n"
     ]
    },
    {
     "name": "stderr",
     "output_type": "stream",
     "text": [
      "WARNING: Cannot determine equinox. Assuming J2000. [aplpy.wcs_util]\n",
      "WARNING: Cannot determine equinox. Assuming J2000. [aplpy.wcs_util]\n",
      "WARNING: Cannot determine equinox. Assuming J2000. [aplpy.wcs_util]\n"
     ]
    },
    {
     "name": "stdout",
     "output_type": "stream",
     "text": [
      "INFO: Auto-setting vmin to -7.235e-03 [aplpy.core]\n",
      "INFO: Auto-setting vmax to  4.542e-02 [aplpy.core]\n",
      "INFO: Auto-setting vmin to -2.982e-06 [aplpy.core]\n",
      "INFO: Auto-setting vmax to  2.827e-06 [aplpy.core]\n"
     ]
    },
    {
     "name": "stderr",
     "output_type": "stream",
     "text": [
      "WARNING: Cannot determine equinox. Assuming J2000. [aplpy.wcs_util]\n",
      "WARNING: Cannot determine equinox. Assuming J2000. [aplpy.wcs_util]\n",
      "WARNING: Cannot determine equinox. Assuming J2000. [aplpy.wcs_util]\n"
     ]
    },
    {
     "name": "stdout",
     "output_type": "stream",
     "text": [
      "INFO: Auto-setting vmin to -3.919e-02 [aplpy.core]\n",
      "INFO: Auto-setting vmax to  3.974e-01 [aplpy.core]\n",
      "INFO: Auto-setting vmin to -2.864e-06 [aplpy.core]\n",
      "INFO: Auto-setting vmax to  2.654e-06 [aplpy.core]\n",
      "INFO: Auto-setting vmin to -2.892e-06 [aplpy.core]\n",
      "INFO: Auto-setting vmax to  2.229e-06 [aplpy.core]\n"
     ]
    },
    {
     "name": "stderr",
     "output_type": "stream",
     "text": [
      "WARNING: Cannot determine equinox. Assuming J2000. [aplpy.wcs_util]\n",
      "WARNING: Cannot determine equinox. Assuming J2000. [aplpy.wcs_util]\n",
      "WARNING: Cannot determine equinox. Assuming J2000. [aplpy.wcs_util]\n"
     ]
    },
    {
     "name": "stdout",
     "output_type": "stream",
     "text": [
      "INFO: Auto-setting vmin to -1.137e-02 [aplpy.core]\n",
      "INFO: Auto-setting vmax to  1.059e-01 [aplpy.core]\n",
      "INFO: Auto-setting vmin to -3.157e-06 [aplpy.core]\n",
      "INFO: Auto-setting vmax to  2.631e-06 [aplpy.core]\n",
      "INFO: Auto-setting vmin to -2.971e-06 [aplpy.core]\n",
      "INFO: Auto-setting vmax to  2.155e-06 [aplpy.core]\n"
     ]
    },
    {
     "name": "stderr",
     "output_type": "stream",
     "text": [
      "WARNING: Cannot determine equinox. Assuming J2000. [aplpy.wcs_util]\n",
      "WARNING: Cannot determine equinox. Assuming J2000. [aplpy.wcs_util]\n",
      "WARNING: Cannot determine equinox. Assuming J2000. [aplpy.wcs_util]\n"
     ]
    },
    {
     "name": "stdout",
     "output_type": "stream",
     "text": [
      "INFO: Auto-setting vmin to -1.396e-02 [aplpy.core]\n",
      "INFO: Auto-setting vmax to  1.469e-01 [aplpy.core]\n",
      "INFO: Auto-setting vmin to -3.335e-06 [aplpy.core]\n",
      "INFO: Auto-setting vmax to  2.705e-06 [aplpy.core]\n",
      "INFO: Auto-setting vmin to -2.792e-06 [aplpy.core]\n",
      "INFO: Auto-setting vmax to  2.134e-06 [aplpy.core]\n"
     ]
    },
    {
     "name": "stderr",
     "output_type": "stream",
     "text": [
      "WARNING: Cannot determine equinox. Assuming J2000. [aplpy.wcs_util]\n",
      "WARNING: Cannot determine equinox. Assuming J2000. [aplpy.wcs_util]\n",
      "WARNING: Cannot determine equinox. Assuming J2000. [aplpy.wcs_util]\n"
     ]
    },
    {
     "name": "stdout",
     "output_type": "stream",
     "text": [
      "INFO: Auto-setting vmin to -2.274e-21 [aplpy.core]\n",
      "INFO: Auto-setting vmax to  1.985e-21 [aplpy.core]\n"
     ]
    },
    {
     "name": "stderr",
     "output_type": "stream",
     "text": [
      "WARNING: Cannot determine equinox. Assuming J2000. [aplpy.wcs_util]\n",
      "WARNING: Cannot determine equinox. Assuming J2000. [aplpy.wcs_util]\n",
      "WARNING: Cannot determine equinox. Assuming J2000. [aplpy.wcs_util]\n"
     ]
    },
    {
     "name": "stdout",
     "output_type": "stream",
     "text": [
      "INFO: Auto-setting vmin to -4.658e-03 [aplpy.core]\n",
      "INFO: Auto-setting vmax to  2.344e-02 [aplpy.core]\n",
      "INFO: Auto-setting vmin to -3.391e-06 [aplpy.core]\n",
      "INFO: Auto-setting vmax to  2.390e-06 [aplpy.core]\n",
      "INFO: Auto-setting vmin to -2.973e-06 [aplpy.core]\n",
      "INFO: Auto-setting vmax to  2.218e-06 [aplpy.core]\n"
     ]
    },
    {
     "name": "stderr",
     "output_type": "stream",
     "text": [
      "WARNING: Cannot determine equinox. Assuming J2000. [aplpy.wcs_util]\n",
      "WARNING: Cannot determine equinox. Assuming J2000. [aplpy.wcs_util]\n",
      "WARNING: Cannot determine equinox. Assuming J2000. [aplpy.wcs_util]\n"
     ]
    },
    {
     "name": "stdout",
     "output_type": "stream",
     "text": [
      "INFO: Auto-setting vmin to -6.531e-03 [aplpy.core]\n",
      "INFO: Auto-setting vmax to  5.603e-02 [aplpy.core]\n",
      "INFO: Auto-setting vmin to -3.026e-06 [aplpy.core]\n",
      "INFO: Auto-setting vmax to  2.384e-06 [aplpy.core]\n",
      "INFO: Auto-setting vmin to -2.772e-06 [aplpy.core]\n",
      "INFO: Auto-setting vmax to  2.064e-06 [aplpy.core]\n"
     ]
    },
    {
     "name": "stderr",
     "output_type": "stream",
     "text": [
      "WARNING: Cannot determine equinox. Assuming J2000. [aplpy.wcs_util]\n",
      "WARNING: Cannot determine equinox. Assuming J2000. [aplpy.wcs_util]\n",
      "WARNING: Cannot determine equinox. Assuming J2000. [aplpy.wcs_util]\n"
     ]
    },
    {
     "name": "stdout",
     "output_type": "stream",
     "text": [
      "INFO: Auto-setting vmin to -2.247e-02 [aplpy.core]\n",
      "INFO: Auto-setting vmax to  2.577e-01 [aplpy.core]\n",
      "INFO: Auto-setting vmin to -4.554e-06 [aplpy.core]\n",
      "INFO: Auto-setting vmax to  3.446e-06 [aplpy.core]\n",
      "INFO: Auto-setting vmin to -3.046e-06 [aplpy.core]\n",
      "INFO: Auto-setting vmax to  2.171e-06 [aplpy.core]\n"
     ]
    },
    {
     "name": "stderr",
     "output_type": "stream",
     "text": [
      "WARNING: Cannot determine equinox. Assuming J2000. [aplpy.wcs_util]\n",
      "WARNING: Cannot determine equinox. Assuming J2000. [aplpy.wcs_util]\n",
      "WARNING: Cannot determine equinox. Assuming J2000. [aplpy.wcs_util]\n"
     ]
    },
    {
     "name": "stdout",
     "output_type": "stream",
     "text": [
      "INFO: Auto-setting vmin to -9.098e-03 [aplpy.core]\n",
      "INFO: Auto-setting vmax to  7.484e-02 [aplpy.core]\n",
      "INFO: Auto-setting vmin to -2.950e-06 [aplpy.core]\n",
      "INFO: Auto-setting vmax to  2.672e-06 [aplpy.core]\n",
      "INFO: Auto-setting vmin to -2.934e-06 [aplpy.core]\n",
      "INFO: Auto-setting vmax to  2.195e-06 [aplpy.core]\n"
     ]
    },
    {
     "name": "stderr",
     "output_type": "stream",
     "text": [
      "WARNING: Cannot determine equinox. Assuming J2000. [aplpy.wcs_util]\n",
      "WARNING: Cannot determine equinox. Assuming J2000. [aplpy.wcs_util]\n",
      "WARNING: Cannot determine equinox. Assuming J2000. [aplpy.wcs_util]\n"
     ]
    },
    {
     "name": "stdout",
     "output_type": "stream",
     "text": [
      "INFO: Auto-setting vmin to -1.484e-02 [aplpy.core]\n",
      "INFO: Auto-setting vmax to  1.697e-01 [aplpy.core]\n",
      "INFO: Auto-setting vmin to -3.742e-06 [aplpy.core]\n",
      "INFO: Auto-setting vmax to  2.443e-06 [aplpy.core]\n",
      "INFO: Auto-setting vmin to -2.806e-06 [aplpy.core]\n",
      "INFO: Auto-setting vmax to  2.104e-06 [aplpy.core]\n"
     ]
    },
    {
     "name": "stderr",
     "output_type": "stream",
     "text": [
      "WARNING: Cannot determine equinox. Assuming J2000. [aplpy.wcs_util]\n",
      "WARNING: Cannot determine equinox. Assuming J2000. [aplpy.wcs_util]\n",
      "WARNING: Cannot determine equinox. Assuming J2000. [aplpy.wcs_util]\n"
     ]
    },
    {
     "name": "stdout",
     "output_type": "stream",
     "text": [
      "INFO: Auto-setting vmin to -1.508e-02 [aplpy.core]\n",
      "INFO: Auto-setting vmax to  1.556e-01 [aplpy.core]\n",
      "INFO: Auto-setting vmin to -2.812e-06 [aplpy.core]\n",
      "INFO: Auto-setting vmax to  2.645e-06 [aplpy.core]\n",
      "INFO: Auto-setting vmin to -2.682e-06 [aplpy.core]\n",
      "INFO: Auto-setting vmax to  2.129e-06 [aplpy.core]\n"
     ]
    },
    {
     "name": "stderr",
     "output_type": "stream",
     "text": [
      "WARNING: Cannot determine equinox. Assuming J2000. [aplpy.wcs_util]\n",
      "WARNING: Cannot determine equinox. Assuming J2000. [aplpy.wcs_util]\n",
      "WARNING: Cannot determine equinox. Assuming J2000. [aplpy.wcs_util]\n"
     ]
    },
    {
     "name": "stdout",
     "output_type": "stream",
     "text": [
      "INFO: Auto-setting vmin to -1.881e-02 [aplpy.core]\n",
      "INFO: Auto-setting vmax to  1.902e-01 [aplpy.core]\n",
      "INFO: Auto-setting vmin to -2.817e-06 [aplpy.core]\n",
      "INFO: Auto-setting vmax to  2.558e-06 [aplpy.core]\n"
     ]
    },
    {
     "name": "stderr",
     "output_type": "stream",
     "text": [
      "WARNING: Cannot determine equinox. Assuming J2000. [aplpy.wcs_util]\n",
      "WARNING: Cannot determine equinox. Assuming J2000. [aplpy.wcs_util]\n",
      "WARNING: Cannot determine equinox. Assuming J2000. [aplpy.wcs_util]\n"
     ]
    },
    {
     "name": "stdout",
     "output_type": "stream",
     "text": [
      "INFO: Auto-setting vmin to -6.348e-02 [aplpy.core]\n",
      "INFO: Auto-setting vmax to  6.381e-01 [aplpy.core]\n",
      "INFO: Auto-setting vmin to -4.200e-06 [aplpy.core]\n",
      "INFO: Auto-setting vmax to  5.890e-06 [aplpy.core]\n",
      "INFO: Auto-setting vmin to -3.049e-06 [aplpy.core]\n",
      "INFO: Auto-setting vmax to  2.392e-06 [aplpy.core]\n"
     ]
    },
    {
     "name": "stderr",
     "output_type": "stream",
     "text": [
      "WARNING: Cannot determine equinox. Assuming J2000. [aplpy.wcs_util]\n",
      "WARNING: Cannot determine equinox. Assuming J2000. [aplpy.wcs_util]\n",
      "WARNING: Cannot determine equinox. Assuming J2000. [aplpy.wcs_util]\n"
     ]
    },
    {
     "name": "stdout",
     "output_type": "stream",
     "text": [
      "INFO: Auto-setting vmin to -4.308e-02 [aplpy.core]\n",
      "INFO: Auto-setting vmax to  5.217e-01 [aplpy.core]\n",
      "INFO: Auto-setting vmin to -3.366e-06 [aplpy.core]\n",
      "INFO: Auto-setting vmax to  2.581e-06 [aplpy.core]\n",
      "INFO: Auto-setting vmin to -2.848e-06 [aplpy.core]\n",
      "INFO: Auto-setting vmax to  2.151e-06 [aplpy.core]\n"
     ]
    },
    {
     "name": "stderr",
     "output_type": "stream",
     "text": [
      "WARNING: Cannot determine equinox. Assuming J2000. [aplpy.wcs_util]\n",
      "WARNING: Cannot determine equinox. Assuming J2000. [aplpy.wcs_util]\n",
      "WARNING: Cannot determine equinox. Assuming J2000. [aplpy.wcs_util]\n"
     ]
    },
    {
     "name": "stdout",
     "output_type": "stream",
     "text": [
      "INFO: Auto-setting vmin to -1.388e-02 [aplpy.core]\n",
      "INFO: Auto-setting vmax to  1.392e-01 [aplpy.core]\n",
      "INFO: Auto-setting vmin to -3.487e-06 [aplpy.core]\n",
      "INFO: Auto-setting vmax to  2.599e-06 [aplpy.core]\n",
      "INFO: Auto-setting vmin to -3.409e-06 [aplpy.core]\n",
      "INFO: Auto-setting vmax to  2.479e-06 [aplpy.core]\n"
     ]
    },
    {
     "name": "stderr",
     "output_type": "stream",
     "text": [
      "WARNING: Cannot determine equinox. Assuming J2000. [aplpy.wcs_util]\n",
      "WARNING: Cannot determine equinox. Assuming J2000. [aplpy.wcs_util]\n",
      "WARNING: Cannot determine equinox. Assuming J2000. [aplpy.wcs_util]\n"
     ]
    },
    {
     "name": "stdout",
     "output_type": "stream",
     "text": [
      "INFO: Auto-setting vmin to -1.460e-02 [aplpy.core]\n",
      "INFO: Auto-setting vmax to  1.361e-01 [aplpy.core]\n",
      "INFO: Auto-setting vmin to -2.968e-06 [aplpy.core]\n",
      "INFO: Auto-setting vmax to  2.609e-06 [aplpy.core]\n"
     ]
    },
    {
     "name": "stderr",
     "output_type": "stream",
     "text": [
      "WARNING: Cannot determine equinox. Assuming J2000. [aplpy.wcs_util]\n",
      "WARNING: Cannot determine equinox. Assuming J2000. [aplpy.wcs_util]\n",
      "WARNING: Cannot determine equinox. Assuming J2000. [aplpy.wcs_util]\n"
     ]
    },
    {
     "name": "stdout",
     "output_type": "stream",
     "text": [
      "INFO: Auto-setting vmin to -2.022e-02 [aplpy.core]\n",
      "INFO: Auto-setting vmax to  1.618e-01 [aplpy.core]\n",
      "INFO: Auto-setting vmin to -3.423e-06 [aplpy.core]\n",
      "INFO: Auto-setting vmax to  2.668e-06 [aplpy.core]\n",
      "INFO: Auto-setting vmin to -2.880e-06 [aplpy.core]\n",
      "INFO: Auto-setting vmax to  2.195e-06 [aplpy.core]\n"
     ]
    },
    {
     "name": "stderr",
     "output_type": "stream",
     "text": [
      "WARNING: Cannot determine equinox. Assuming J2000. [aplpy.wcs_util]\n",
      "WARNING: Cannot determine equinox. Assuming J2000. [aplpy.wcs_util]\n",
      "WARNING: Cannot determine equinox. Assuming J2000. [aplpy.wcs_util]\n"
     ]
    },
    {
     "name": "stdout",
     "output_type": "stream",
     "text": [
      "INFO: Auto-setting vmin to -8.684e-03 [aplpy.core]\n",
      "INFO: Auto-setting vmax to  7.844e-02 [aplpy.core]\n",
      "INFO: Auto-setting vmin to -3.296e-06 [aplpy.core]\n",
      "INFO: Auto-setting vmax to  2.769e-06 [aplpy.core]\n",
      "INFO: Auto-setting vmin to -2.837e-06 [aplpy.core]\n",
      "INFO: Auto-setting vmax to  2.179e-06 [aplpy.core]\n"
     ]
    },
    {
     "name": "stderr",
     "output_type": "stream",
     "text": [
      "WARNING: Cannot determine equinox. Assuming J2000. [aplpy.wcs_util]\n",
      "WARNING: Cannot determine equinox. Assuming J2000. [aplpy.wcs_util]\n",
      "WARNING: Cannot determine equinox. Assuming J2000. [aplpy.wcs_util]\n"
     ]
    },
    {
     "name": "stdout",
     "output_type": "stream",
     "text": [
      "INFO: Auto-setting vmin to -2.469e-02 [aplpy.core]\n",
      "INFO: Auto-setting vmax to  2.877e-01 [aplpy.core]\n",
      "INFO: Auto-setting vmin to -3.238e-06 [aplpy.core]\n",
      "INFO: Auto-setting vmax to  2.414e-06 [aplpy.core]\n",
      "INFO: Auto-setting vmin to -2.689e-06 [aplpy.core]\n",
      "INFO: Auto-setting vmax to  2.034e-06 [aplpy.core]\n"
     ]
    },
    {
     "name": "stderr",
     "output_type": "stream",
     "text": [
      "WARNING: Cannot determine equinox. Assuming J2000. [aplpy.wcs_util]\n",
      "WARNING: Cannot determine equinox. Assuming J2000. [aplpy.wcs_util]\n",
      "WARNING: Cannot determine equinox. Assuming J2000. [aplpy.wcs_util]\n"
     ]
    },
    {
     "name": "stdout",
     "output_type": "stream",
     "text": [
      "INFO: Auto-setting vmin to -1.988e-02 [aplpy.core]\n",
      "INFO: Auto-setting vmax to  2.205e-01 [aplpy.core]\n",
      "INFO: Auto-setting vmin to -2.997e-06 [aplpy.core]\n",
      "INFO: Auto-setting vmax to  2.661e-06 [aplpy.core]\n",
      "INFO: Auto-setting vmin to -3.705e-06 [aplpy.core]\n",
      "INFO: Auto-setting vmax to  2.751e-06 [aplpy.core]\n"
     ]
    },
    {
     "name": "stderr",
     "output_type": "stream",
     "text": [
      "WARNING: Cannot determine equinox. Assuming J2000. [aplpy.wcs_util]\n",
      "WARNING: Cannot determine equinox. Assuming J2000. [aplpy.wcs_util]\n",
      "WARNING: Cannot determine equinox. Assuming J2000. [aplpy.wcs_util]\n"
     ]
    },
    {
     "name": "stdout",
     "output_type": "stream",
     "text": [
      "INFO: Auto-setting vmin to -6.973e-03 [aplpy.core]\n",
      "INFO: Auto-setting vmax to  2.482e-02 [aplpy.core]\n",
      "INFO: Auto-setting vmin to -3.124e-06 [aplpy.core]\n",
      "INFO: Auto-setting vmax to  2.464e-06 [aplpy.core]\n",
      "INFO: Auto-setting vmin to -2.887e-06 [aplpy.core]\n",
      "INFO: Auto-setting vmax to  2.104e-06 [aplpy.core]\n"
     ]
    },
    {
     "name": "stderr",
     "output_type": "stream",
     "text": [
      "WARNING: Cannot determine equinox. Assuming J2000. [aplpy.wcs_util]\n",
      "WARNING: Cannot determine equinox. Assuming J2000. [aplpy.wcs_util]\n",
      "WARNING: Cannot determine equinox. Assuming J2000. [aplpy.wcs_util]\n"
     ]
    },
    {
     "name": "stdout",
     "output_type": "stream",
     "text": [
      "INFO: Auto-setting vmin to -1.671e-02 [aplpy.core]\n",
      "INFO: Auto-setting vmax to  1.707e-01 [aplpy.core]\n",
      "INFO: Auto-setting vmin to -3.404e-06 [aplpy.core]\n",
      "INFO: Auto-setting vmax to  2.553e-06 [aplpy.core]\n",
      "INFO: Auto-setting vmin to -2.721e-06 [aplpy.core]\n",
      "INFO: Auto-setting vmax to  2.117e-06 [aplpy.core]\n"
     ]
    },
    {
     "name": "stderr",
     "output_type": "stream",
     "text": [
      "WARNING: Cannot determine equinox. Assuming J2000. [aplpy.wcs_util]\n",
      "WARNING: Cannot determine equinox. Assuming J2000. [aplpy.wcs_util]\n",
      "WARNING: Cannot determine equinox. Assuming J2000. [aplpy.wcs_util]\n"
     ]
    },
    {
     "name": "stdout",
     "output_type": "stream",
     "text": [
      "INFO: Auto-setting vmin to -2.346e-02 [aplpy.core]\n",
      "INFO: Auto-setting vmax to  2.383e-01 [aplpy.core]\n",
      "INFO: Auto-setting vmin to -3.116e-06 [aplpy.core]\n",
      "INFO: Auto-setting vmax to  2.434e-06 [aplpy.core]\n",
      "INFO: Auto-setting vmin to -2.921e-06 [aplpy.core]\n",
      "INFO: Auto-setting vmax to  2.103e-06 [aplpy.core]\n"
     ]
    },
    {
     "name": "stderr",
     "output_type": "stream",
     "text": [
      "WARNING: Cannot determine equinox. Assuming J2000. [aplpy.wcs_util]\n",
      "WARNING: Cannot determine equinox. Assuming J2000. [aplpy.wcs_util]\n",
      "WARNING: Cannot determine equinox. Assuming J2000. [aplpy.wcs_util]\n"
     ]
    },
    {
     "name": "stdout",
     "output_type": "stream",
     "text": [
      "INFO: Auto-setting vmin to -5.485e-03 [aplpy.core]\n",
      "INFO: Auto-setting vmax to  6.105e-02 [aplpy.core]\n",
      "INFO: Auto-setting vmin to -3.302e-06 [aplpy.core]\n",
      "INFO: Auto-setting vmax to  2.479e-06 [aplpy.core]\n",
      "INFO: Auto-setting vmin to -2.812e-06 [aplpy.core]\n",
      "INFO: Auto-setting vmax to  2.048e-06 [aplpy.core]\n"
     ]
    },
    {
     "name": "stderr",
     "output_type": "stream",
     "text": [
      "WARNING: Cannot determine equinox. Assuming J2000. [aplpy.wcs_util]\n",
      "WARNING: Cannot determine equinox. Assuming J2000. [aplpy.wcs_util]\n",
      "WARNING: Cannot determine equinox. Assuming J2000. [aplpy.wcs_util]\n"
     ]
    },
    {
     "name": "stdout",
     "output_type": "stream",
     "text": [
      "INFO: Auto-setting vmin to -7.455e-03 [aplpy.core]\n",
      "INFO: Auto-setting vmax to  6.326e-02 [aplpy.core]\n",
      "INFO: Auto-setting vmin to -3.407e-06 [aplpy.core]\n",
      "INFO: Auto-setting vmax to  2.587e-06 [aplpy.core]\n",
      "INFO: Auto-setting vmin to -2.748e-06 [aplpy.core]\n",
      "INFO: Auto-setting vmax to  2.054e-06 [aplpy.core]\n"
     ]
    },
    {
     "name": "stderr",
     "output_type": "stream",
     "text": [
      "WARNING: Cannot determine equinox. Assuming J2000. [aplpy.wcs_util]\n",
      "WARNING: Cannot determine equinox. Assuming J2000. [aplpy.wcs_util]\n",
      "WARNING: Cannot determine equinox. Assuming J2000. [aplpy.wcs_util]\n"
     ]
    },
    {
     "name": "stdout",
     "output_type": "stream",
     "text": [
      "INFO: Auto-setting vmin to -1.046e-02 [aplpy.core]\n",
      "INFO: Auto-setting vmax to  9.881e-02 [aplpy.core]\n",
      "INFO: Auto-setting vmin to -3.286e-06 [aplpy.core]\n",
      "INFO: Auto-setting vmax to  2.539e-06 [aplpy.core]\n",
      "INFO: Auto-setting vmin to -3.093e-06 [aplpy.core]\n",
      "INFO: Auto-setting vmax to  2.174e-06 [aplpy.core]\n"
     ]
    },
    {
     "name": "stderr",
     "output_type": "stream",
     "text": [
      "WARNING: Cannot determine equinox. Assuming J2000. [aplpy.wcs_util]\n",
      "WARNING: Cannot determine equinox. Assuming J2000. [aplpy.wcs_util]\n",
      "WARNING: Cannot determine equinox. Assuming J2000. [aplpy.wcs_util]\n"
     ]
    },
    {
     "name": "stdout",
     "output_type": "stream",
     "text": [
      "INFO: Auto-setting vmin to -3.631e-02 [aplpy.core]\n",
      "INFO: Auto-setting vmax to  5.020e-01 [aplpy.core]\n",
      "INFO: Auto-setting vmin to -2.940e-06 [aplpy.core]\n",
      "INFO: Auto-setting vmax to  2.672e-06 [aplpy.core]\n",
      "INFO: Auto-setting vmin to -3.004e-06 [aplpy.core]\n",
      "INFO: Auto-setting vmax to  2.447e-06 [aplpy.core]\n",
      "INFO: Auto-setting vmin to -2.657e-06 [aplpy.core]\n",
      "INFO: Auto-setting vmax to  2.074e-06 [aplpy.core]\n"
     ]
    },
    {
     "name": "stderr",
     "output_type": "stream",
     "text": [
      "WARNING: Cannot determine equinox. Assuming J2000. [aplpy.wcs_util]\n",
      "WARNING: Cannot determine equinox. Assuming J2000. [aplpy.wcs_util]\n",
      "WARNING: Cannot determine equinox. Assuming J2000. [aplpy.wcs_util]\n"
     ]
    },
    {
     "name": "stdout",
     "output_type": "stream",
     "text": [
      "INFO: Auto-setting vmin to -5.992e-02 [aplpy.core]\n",
      "INFO: Auto-setting vmax to  7.525e-01 [aplpy.core]\n",
      "INFO: Auto-setting vmin to -2.698e-06 [aplpy.core]\n",
      "INFO: Auto-setting vmax to  2.481e-06 [aplpy.core]\n",
      "INFO: Auto-setting vmin to -3.503e-06 [aplpy.core]\n",
      "INFO: Auto-setting vmax to  2.556e-06 [aplpy.core]\n"
     ]
    },
    {
     "name": "stderr",
     "output_type": "stream",
     "text": [
      "WARNING: Cannot determine equinox. Assuming J2000. [aplpy.wcs_util]\n",
      "WARNING: Cannot determine equinox. Assuming J2000. [aplpy.wcs_util]\n",
      "WARNING: Cannot determine equinox. Assuming J2000. [aplpy.wcs_util]\n"
     ]
    },
    {
     "name": "stdout",
     "output_type": "stream",
     "text": [
      "INFO: Auto-setting vmin to -8.947e-03 [aplpy.core]\n",
      "INFO: Auto-setting vmax to  7.733e-02 [aplpy.core]\n",
      "INFO: Auto-setting vmin to -3.105e-06 [aplpy.core]\n",
      "INFO: Auto-setting vmax to  2.736e-06 [aplpy.core]\n",
      "INFO: Auto-setting vmin to -3.810e-06 [aplpy.core]\n",
      "INFO: Auto-setting vmax to  2.764e-06 [aplpy.core]\n"
     ]
    },
    {
     "name": "stderr",
     "output_type": "stream",
     "text": [
      "WARNING: Cannot determine equinox. Assuming J2000. [aplpy.wcs_util]\n",
      "WARNING: Cannot determine equinox. Assuming J2000. [aplpy.wcs_util]\n",
      "WARNING: Cannot determine equinox. Assuming J2000. [aplpy.wcs_util]\n"
     ]
    },
    {
     "name": "stdout",
     "output_type": "stream",
     "text": [
      "INFO: Auto-setting vmin to -1.138e-02 [aplpy.core]\n",
      "INFO: Auto-setting vmax to  1.016e-01 [aplpy.core]\n",
      "INFO: Auto-setting vmin to -3.715e-06 [aplpy.core]\n",
      "INFO: Auto-setting vmax to  2.520e-06 [aplpy.core]\n",
      "INFO: Auto-setting vmin to -2.762e-06 [aplpy.core]\n",
      "INFO: Auto-setting vmax to  2.120e-06 [aplpy.core]\n"
     ]
    },
    {
     "name": "stderr",
     "output_type": "stream",
     "text": [
      "WARNING: Cannot determine equinox. Assuming J2000. [aplpy.wcs_util]\n",
      "WARNING: Cannot determine equinox. Assuming J2000. [aplpy.wcs_util]\n",
      "WARNING: Cannot determine equinox. Assuming J2000. [aplpy.wcs_util]\n"
     ]
    },
    {
     "name": "stdout",
     "output_type": "stream",
     "text": [
      "INFO: Auto-setting vmin to -9.273e-03 [aplpy.core]\n",
      "INFO: Auto-setting vmax to  8.794e-02 [aplpy.core]\n",
      "INFO: Auto-setting vmin to -3.044e-06 [aplpy.core]\n",
      "INFO: Auto-setting vmax to  3.075e-06 [aplpy.core]\n"
     ]
    },
    {
     "name": "stderr",
     "output_type": "stream",
     "text": [
      "WARNING: Cannot determine equinox. Assuming J2000. [aplpy.wcs_util]\n",
      "WARNING: Cannot determine equinox. Assuming J2000. [aplpy.wcs_util]\n",
      "WARNING: Cannot determine equinox. Assuming J2000. [aplpy.wcs_util]\n"
     ]
    },
    {
     "name": "stdout",
     "output_type": "stream",
     "text": [
      "INFO: Auto-setting vmin to -5.645e-02 [aplpy.core]\n",
      "INFO: Auto-setting vmax to  6.248e-01 [aplpy.core]\n",
      "INFO: Auto-setting vmin to -3.553e-06 [aplpy.core]\n",
      "INFO: Auto-setting vmax to  2.797e-06 [aplpy.core]\n",
      "INFO: Auto-setting vmin to -3.005e-06 [aplpy.core]\n",
      "INFO: Auto-setting vmax to  2.104e-06 [aplpy.core]\n"
     ]
    },
    {
     "name": "stderr",
     "output_type": "stream",
     "text": [
      "WARNING: Cannot determine equinox. Assuming J2000. [aplpy.wcs_util]\n",
      "WARNING: Cannot determine equinox. Assuming J2000. [aplpy.wcs_util]\n",
      "WARNING: Cannot determine equinox. Assuming J2000. [aplpy.wcs_util]\n"
     ]
    },
    {
     "name": "stdout",
     "output_type": "stream",
     "text": [
      "INFO: Auto-setting vmin to -1.249e-02 [aplpy.core]\n",
      "INFO: Auto-setting vmax to  1.418e-01 [aplpy.core]\n",
      "INFO: Auto-setting vmin to -2.931e-06 [aplpy.core]\n",
      "INFO: Auto-setting vmax to  2.508e-06 [aplpy.core]\n"
     ]
    },
    {
     "name": "stderr",
     "output_type": "stream",
     "text": [
      "WARNING: Cannot determine equinox. Assuming J2000. [aplpy.wcs_util]\n",
      "WARNING: Cannot determine equinox. Assuming J2000. [aplpy.wcs_util]\n",
      "WARNING: Cannot determine equinox. Assuming J2000. [aplpy.wcs_util]\n"
     ]
    },
    {
     "name": "stdout",
     "output_type": "stream",
     "text": [
      "INFO: Auto-setting vmin to -2.007e-02 [aplpy.core]\n",
      "INFO: Auto-setting vmax to  9.125e-02 [aplpy.core]\n",
      "INFO: Auto-setting vmin to -2.999e-06 [aplpy.core]\n",
      "INFO: Auto-setting vmax to  2.466e-06 [aplpy.core]\n",
      "INFO: Auto-setting vmin to -2.817e-06 [aplpy.core]\n",
      "INFO: Auto-setting vmax to  2.093e-06 [aplpy.core]\n"
     ]
    },
    {
     "name": "stderr",
     "output_type": "stream",
     "text": [
      "WARNING: Cannot determine equinox. Assuming J2000. [aplpy.wcs_util]\n",
      "WARNING: Cannot determine equinox. Assuming J2000. [aplpy.wcs_util]\n",
      "WARNING: Cannot determine equinox. Assuming J2000. [aplpy.wcs_util]\n"
     ]
    },
    {
     "name": "stdout",
     "output_type": "stream",
     "text": [
      "INFO: Auto-setting vmin to -5.424e-03 [aplpy.core]\n",
      "INFO: Auto-setting vmax to  3.985e-02 [aplpy.core]\n",
      "INFO: Auto-setting vmin to -3.163e-06 [aplpy.core]\n",
      "INFO: Auto-setting vmax to  2.953e-06 [aplpy.core]\n"
     ]
    },
    {
     "name": "stderr",
     "output_type": "stream",
     "text": [
      "WARNING: Cannot determine equinox. Assuming J2000. [aplpy.wcs_util]\n",
      "WARNING: Cannot determine equinox. Assuming J2000. [aplpy.wcs_util]\n",
      "WARNING: Cannot determine equinox. Assuming J2000. [aplpy.wcs_util]\n"
     ]
    },
    {
     "name": "stdout",
     "output_type": "stream",
     "text": [
      "INFO: Auto-setting vmin to -4.614e-02 [aplpy.core]\n",
      "INFO: Auto-setting vmax to  5.322e-01 [aplpy.core]\n",
      "INFO: Auto-setting vmin to -3.498e-06 [aplpy.core]\n",
      "INFO: Auto-setting vmax to  2.568e-06 [aplpy.core]\n"
     ]
    },
    {
     "name": "stderr",
     "output_type": "stream",
     "text": [
      "WARNING: Cannot determine equinox. Assuming J2000. [aplpy.wcs_util]\n",
      "WARNING: Cannot determine equinox. Assuming J2000. [aplpy.wcs_util]\n",
      "WARNING: Cannot determine equinox. Assuming J2000. [aplpy.wcs_util]\n"
     ]
    },
    {
     "name": "stdout",
     "output_type": "stream",
     "text": [
      "INFO: Auto-setting vmin to -5.920e-02 [aplpy.core]\n",
      "INFO: Auto-setting vmax to  5.228e-01 [aplpy.core]\n",
      "INFO: Auto-setting vmin to -3.016e-06 [aplpy.core]\n",
      "INFO: Auto-setting vmax to  2.525e-06 [aplpy.core]\n"
     ]
    },
    {
     "name": "stderr",
     "output_type": "stream",
     "text": [
      "WARNING: Cannot determine equinox. Assuming J2000. [aplpy.wcs_util]\n",
      "WARNING: Cannot determine equinox. Assuming J2000. [aplpy.wcs_util]\n",
      "WARNING: Cannot determine equinox. Assuming J2000. [aplpy.wcs_util]\n"
     ]
    },
    {
     "name": "stdout",
     "output_type": "stream",
     "text": [
      "INFO: Auto-setting vmin to -1.601e-02 [aplpy.core]\n",
      "INFO: Auto-setting vmax to  1.568e-01 [aplpy.core]\n",
      "INFO: Auto-setting vmin to -2.924e-06 [aplpy.core]\n",
      "INFO: Auto-setting vmax to  2.289e-06 [aplpy.core]\n",
      "INFO: Auto-setting vmin to -2.929e-06 [aplpy.core]\n",
      "INFO: Auto-setting vmax to  2.314e-06 [aplpy.core]\n"
     ]
    },
    {
     "name": "stderr",
     "output_type": "stream",
     "text": [
      "WARNING: Cannot determine equinox. Assuming J2000. [aplpy.wcs_util]\n",
      "WARNING: Cannot determine equinox. Assuming J2000. [aplpy.wcs_util]\n",
      "WARNING: Cannot determine equinox. Assuming J2000. [aplpy.wcs_util]\n"
     ]
    },
    {
     "name": "stdout",
     "output_type": "stream",
     "text": [
      "INFO: Auto-setting vmin to -1.326e-02 [aplpy.core]\n",
      "INFO: Auto-setting vmax to  1.319e-01 [aplpy.core]\n",
      "INFO: Auto-setting vmin to -3.121e-06 [aplpy.core]\n",
      "INFO: Auto-setting vmax to  2.688e-06 [aplpy.core]\n",
      "INFO: Auto-setting vmin to -2.841e-06 [aplpy.core]\n",
      "INFO: Auto-setting vmax to  2.101e-06 [aplpy.core]\n"
     ]
    },
    {
     "name": "stderr",
     "output_type": "stream",
     "text": [
      "WARNING: Cannot determine equinox. Assuming J2000. [aplpy.wcs_util]\n",
      "WARNING: Cannot determine equinox. Assuming J2000. [aplpy.wcs_util]\n",
      "WARNING: Cannot determine equinox. Assuming J2000. [aplpy.wcs_util]\n"
     ]
    },
    {
     "name": "stdout",
     "output_type": "stream",
     "text": [
      "INFO: Auto-setting vmin to -5.405e-03 [aplpy.core]\n",
      "INFO: Auto-setting vmax to  3.267e-02 [aplpy.core]\n",
      "INFO: Auto-setting vmin to -3.026e-06 [aplpy.core]\n",
      "INFO: Auto-setting vmax to  2.502e-06 [aplpy.core]\n",
      "INFO: Auto-setting vmin to -3.537e-06 [aplpy.core]\n",
      "INFO: Auto-setting vmax to  2.558e-06 [aplpy.core]\n"
     ]
    },
    {
     "name": "stderr",
     "output_type": "stream",
     "text": [
      "WARNING: Cannot determine equinox. Assuming J2000. [aplpy.wcs_util]\n",
      "WARNING: Cannot determine equinox. Assuming J2000. [aplpy.wcs_util]\n",
      "WARNING: Cannot determine equinox. Assuming J2000. [aplpy.wcs_util]\n"
     ]
    },
    {
     "name": "stdout",
     "output_type": "stream",
     "text": [
      "INFO: Auto-setting vmin to -1.260e-02 [aplpy.core]\n",
      "INFO: Auto-setting vmax to  1.191e-01 [aplpy.core]\n",
      "INFO: Auto-setting vmin to -3.026e-06 [aplpy.core]\n",
      "INFO: Auto-setting vmax to  2.502e-06 [aplpy.core]\n",
      "INFO: Auto-setting vmin to -3.537e-06 [aplpy.core]\n",
      "INFO: Auto-setting vmax to  2.558e-06 [aplpy.core]\n"
     ]
    },
    {
     "name": "stderr",
     "output_type": "stream",
     "text": [
      "WARNING: Cannot determine equinox. Assuming J2000. [aplpy.wcs_util]\n",
      "WARNING: Cannot determine equinox. Assuming J2000. [aplpy.wcs_util]\n",
      "WARNING: Cannot determine equinox. Assuming J2000. [aplpy.wcs_util]\n"
     ]
    },
    {
     "name": "stdout",
     "output_type": "stream",
     "text": [
      "INFO: Auto-setting vmin to -1.260e-02 [aplpy.core]\n",
      "INFO: Auto-setting vmax to  1.191e-01 [aplpy.core]\n",
      "INFO: Auto-setting vmin to -3.303e-06 [aplpy.core]\n",
      "INFO: Auto-setting vmax to  2.592e-06 [aplpy.core]\n"
     ]
    },
    {
     "name": "stderr",
     "output_type": "stream",
     "text": [
      "WARNING: Cannot determine equinox. Assuming J2000. [aplpy.wcs_util]\n",
      "WARNING: Cannot determine equinox. Assuming J2000. [aplpy.wcs_util]\n",
      "WARNING: Cannot determine equinox. Assuming J2000. [aplpy.wcs_util]\n"
     ]
    },
    {
     "name": "stdout",
     "output_type": "stream",
     "text": [
      "INFO: Auto-setting vmin to -2.761e-02 [aplpy.core]\n",
      "INFO: Auto-setting vmax to  2.575e-01 [aplpy.core]\n",
      "INFO: Auto-setting vmin to -2.742e-06 [aplpy.core]\n",
      "INFO: Auto-setting vmax to  2.492e-06 [aplpy.core]\n",
      "INFO: Auto-setting vmin to -2.921e-06 [aplpy.core]\n",
      "INFO: Auto-setting vmax to  2.120e-06 [aplpy.core]\n"
     ]
    },
    {
     "name": "stderr",
     "output_type": "stream",
     "text": [
      "WARNING: Cannot determine equinox. Assuming J2000. [aplpy.wcs_util]\n",
      "WARNING: Cannot determine equinox. Assuming J2000. [aplpy.wcs_util]\n",
      "WARNING: Cannot determine equinox. Assuming J2000. [aplpy.wcs_util]\n"
     ]
    },
    {
     "name": "stdout",
     "output_type": "stream",
     "text": [
      "INFO: Auto-setting vmin to -8.714e-03 [aplpy.core]\n",
      "INFO: Auto-setting vmax to  6.128e-02 [aplpy.core]\n",
      "INFO: Auto-setting vmin to -3.081e-06 [aplpy.core]\n",
      "INFO: Auto-setting vmax to  2.541e-06 [aplpy.core]\n",
      "INFO: Auto-setting vmin to -2.953e-06 [aplpy.core]\n",
      "INFO: Auto-setting vmax to  2.161e-06 [aplpy.core]\n"
     ]
    },
    {
     "name": "stderr",
     "output_type": "stream",
     "text": [
      "WARNING: Cannot determine equinox. Assuming J2000. [aplpy.wcs_util]\n",
      "WARNING: Cannot determine equinox. Assuming J2000. [aplpy.wcs_util]\n",
      "WARNING: Cannot determine equinox. Assuming J2000. [aplpy.wcs_util]\n"
     ]
    },
    {
     "name": "stdout",
     "output_type": "stream",
     "text": [
      "INFO: Auto-setting vmin to -1.368e-21 [aplpy.core]\n",
      "INFO: Auto-setting vmax to  9.497e-22 [aplpy.core]\n"
     ]
    },
    {
     "name": "stderr",
     "output_type": "stream",
     "text": [
      "WARNING: Cannot determine equinox. Assuming J2000. [aplpy.wcs_util]\n",
      "WARNING: Cannot determine equinox. Assuming J2000. [aplpy.wcs_util]\n",
      "WARNING: Cannot determine equinox. Assuming J2000. [aplpy.wcs_util]\n"
     ]
    },
    {
     "name": "stdout",
     "output_type": "stream",
     "text": [
      "INFO: Auto-setting vmin to -5.917e-22 [aplpy.core]\n",
      "INFO: Auto-setting vmax to  6.469e-22 [aplpy.core]\n"
     ]
    },
    {
     "name": "stderr",
     "output_type": "stream",
     "text": [
      "WARNING: Cannot determine equinox. Assuming J2000. [aplpy.wcs_util]\n",
      "WARNING: Cannot determine equinox. Assuming J2000. [aplpy.wcs_util]\n",
      "WARNING: Cannot determine equinox. Assuming J2000. [aplpy.wcs_util]\n"
     ]
    },
    {
     "name": "stdout",
     "output_type": "stream",
     "text": [
      "INFO: Auto-setting vmin to -2.547e-03 [aplpy.core]\n",
      "INFO: Auto-setting vmax to  1.275e-02 [aplpy.core]\n",
      "INFO: Auto-setting vmin to -3.041e-06 [aplpy.core]\n",
      "INFO: Auto-setting vmax to  2.484e-06 [aplpy.core]\n",
      "INFO: Auto-setting vmin to -2.902e-06 [aplpy.core]\n",
      "INFO: Auto-setting vmax to  2.081e-06 [aplpy.core]\n"
     ]
    },
    {
     "name": "stderr",
     "output_type": "stream",
     "text": [
      "WARNING: Cannot determine equinox. Assuming J2000. [aplpy.wcs_util]\n",
      "WARNING: Cannot determine equinox. Assuming J2000. [aplpy.wcs_util]\n",
      "WARNING: Cannot determine equinox. Assuming J2000. [aplpy.wcs_util]\n",
      "WARNING: Cannot determine equinox. Assuming J2000. [aplpy.wcs_util]\n",
      "WARNING: Cannot determine equinox. Assuming J2000. [aplpy.wcs_util]\n"
     ]
    },
    {
     "name": "stdout",
     "output_type": "stream",
     "text": [
      "INFO: Auto-setting vmin to -1.254e-21 [aplpy.core]\n",
      "INFO: Auto-setting vmax to  9.996e-22 [aplpy.core]\n"
     ]
    },
    {
     "name": "stderr",
     "output_type": "stream",
     "text": [
      "WARNING: Cannot determine equinox. Assuming J2000. [aplpy.wcs_util]\n",
      "WARNING: Cannot determine equinox. Assuming J2000. [aplpy.wcs_util]\n",
      "WARNING: Cannot determine equinox. Assuming J2000. [aplpy.wcs_util]\n"
     ]
    },
    {
     "name": "stdout",
     "output_type": "stream",
     "text": [
      "INFO: Auto-setting vmin to -6.448e-22 [aplpy.core]\n",
      "INFO: Auto-setting vmax to  5.906e-22 [aplpy.core]\n"
     ]
    },
    {
     "name": "stderr",
     "output_type": "stream",
     "text": [
      "WARNING: Cannot determine equinox. Assuming J2000. [aplpy.wcs_util]\n"
     ]
    },
    {
     "name": "stdout",
     "output_type": "stream",
     "text": [
      "INFO: Auto-setting vmin to -2.605e-03 [aplpy.core]\n",
      "INFO: Auto-setting vmax to  7.111e-03 [aplpy.core]\n",
      "INFO: Auto-setting vmin to -3.427e-06 [aplpy.core]\n",
      "INFO: Auto-setting vmax to  3.128e-06 [aplpy.core]\n",
      "INFO: Auto-setting vmin to -2.715e-06 [aplpy.core]\n",
      "INFO: Auto-setting vmax to  2.151e-06 [aplpy.core]\n"
     ]
    },
    {
     "name": "stderr",
     "output_type": "stream",
     "text": [
      "WARNING: Cannot determine equinox. Assuming J2000. [aplpy.wcs_util]\n",
      "WARNING: Cannot determine equinox. Assuming J2000. [aplpy.wcs_util]\n",
      "WARNING: Cannot determine equinox. Assuming J2000. [aplpy.wcs_util]\n"
     ]
    },
    {
     "name": "stdout",
     "output_type": "stream",
     "text": [
      "INFO: Auto-setting vmin to -2.764e-02 [aplpy.core]\n",
      "INFO: Auto-setting vmax to  3.043e-01 [aplpy.core]\n",
      "INFO: Auto-setting vmin to -3.274e-06 [aplpy.core]\n",
      "INFO: Auto-setting vmax to  3.057e-06 [aplpy.core]\n",
      "INFO: Auto-setting vmin to -2.795e-06 [aplpy.core]\n",
      "INFO: Auto-setting vmax to  2.109e-06 [aplpy.core]\n"
     ]
    },
    {
     "name": "stderr",
     "output_type": "stream",
     "text": [
      "WARNING: Cannot determine equinox. Assuming J2000. [aplpy.wcs_util]\n",
      "WARNING: Cannot determine equinox. Assuming J2000. [aplpy.wcs_util]\n",
      "WARNING: Cannot determine equinox. Assuming J2000. [aplpy.wcs_util]\n"
     ]
    },
    {
     "name": "stdout",
     "output_type": "stream",
     "text": [
      "INFO: Auto-setting vmin to -2.751e-02 [aplpy.core]\n",
      "INFO: Auto-setting vmax to  3.043e-01 [aplpy.core]\n",
      "INFO: Auto-setting vmin to -3.211e-06 [aplpy.core]\n",
      "INFO: Auto-setting vmax to  3.352e-06 [aplpy.core]\n",
      "INFO: Auto-setting vmin to -2.800e-06 [aplpy.core]\n",
      "INFO: Auto-setting vmax to  2.151e-06 [aplpy.core]\n"
     ]
    },
    {
     "name": "stderr",
     "output_type": "stream",
     "text": [
      "WARNING: Cannot determine equinox. Assuming J2000. [aplpy.wcs_util]\n",
      "WARNING: Cannot determine equinox. Assuming J2000. [aplpy.wcs_util]\n",
      "WARNING: Cannot determine equinox. Assuming J2000. [aplpy.wcs_util]\n"
     ]
    },
    {
     "name": "stdout",
     "output_type": "stream",
     "text": [
      "INFO: Auto-setting vmin to -6.402e-02 [aplpy.core]\n",
      "INFO: Auto-setting vmax to  7.471e-01 [aplpy.core]\n",
      "INFO: Auto-setting vmin to -3.315e-06 [aplpy.core]\n",
      "INFO: Auto-setting vmax to  2.614e-06 [aplpy.core]\n"
     ]
    },
    {
     "name": "stderr",
     "output_type": "stream",
     "text": [
      "WARNING: Cannot determine equinox. Assuming J2000. [aplpy.wcs_util]\n",
      "WARNING: Cannot determine equinox. Assuming J2000. [aplpy.wcs_util]\n",
      "WARNING: Cannot determine equinox. Assuming J2000. [aplpy.wcs_util]\n"
     ]
    },
    {
     "name": "stdout",
     "output_type": "stream",
     "text": [
      "INFO: Auto-setting vmin to -2.551e-02 [aplpy.core]\n",
      "INFO: Auto-setting vmax to  2.870e-01 [aplpy.core]\n",
      "INFO: Auto-setting vmin to -3.500e-06 [aplpy.core]\n",
      "INFO: Auto-setting vmax to  2.417e-06 [aplpy.core]\n"
     ]
    },
    {
     "name": "stderr",
     "output_type": "stream",
     "text": [
      "WARNING: Cannot determine equinox. Assuming J2000. [aplpy.wcs_util]\n",
      "WARNING: Cannot determine equinox. Assuming J2000. [aplpy.wcs_util]\n",
      "WARNING: Cannot determine equinox. Assuming J2000. [aplpy.wcs_util]\n"
     ]
    },
    {
     "name": "stdout",
     "output_type": "stream",
     "text": [
      "INFO: Auto-setting vmin to -3.631e-02 [aplpy.core]\n",
      "INFO: Auto-setting vmax to  4.108e-01 [aplpy.core]\n",
      "INFO: Auto-setting vmin to -3.384e-06 [aplpy.core]\n",
      "INFO: Auto-setting vmax to  2.493e-06 [aplpy.core]\n",
      "INFO: Auto-setting vmin to -3.434e-06 [aplpy.core]\n",
      "INFO: Auto-setting vmax to  2.600e-06 [aplpy.core]\n",
      "INFO: Auto-setting vmin to -2.707e-06 [aplpy.core]\n",
      "INFO: Auto-setting vmax to  2.085e-06 [aplpy.core]\n"
     ]
    },
    {
     "name": "stderr",
     "output_type": "stream",
     "text": [
      "WARNING: Cannot determine equinox. Assuming J2000. [aplpy.wcs_util]\n",
      "WARNING: Cannot determine equinox. Assuming J2000. [aplpy.wcs_util]\n",
      "WARNING: Cannot determine equinox. Assuming J2000. [aplpy.wcs_util]\n"
     ]
    },
    {
     "name": "stdout",
     "output_type": "stream",
     "text": [
      "INFO: Auto-setting vmin to -5.551e-03 [aplpy.core]\n",
      "INFO: Auto-setting vmax to  4.339e-02 [aplpy.core]\n",
      "INFO: Auto-setting vmin to -3.027e-06 [aplpy.core]\n",
      "INFO: Auto-setting vmax to  2.397e-06 [aplpy.core]\n",
      "INFO: Auto-setting vmin to -2.870e-06 [aplpy.core]\n",
      "INFO: Auto-setting vmax to  2.149e-06 [aplpy.core]\n"
     ]
    },
    {
     "name": "stderr",
     "output_type": "stream",
     "text": [
      "WARNING: Cannot determine equinox. Assuming J2000. [aplpy.wcs_util]\n",
      "WARNING: Cannot determine equinox. Assuming J2000. [aplpy.wcs_util]\n",
      "WARNING: Cannot determine equinox. Assuming J2000. [aplpy.wcs_util]\n"
     ]
    },
    {
     "name": "stdout",
     "output_type": "stream",
     "text": [
      "INFO: Auto-setting vmin to -2.464e-02 [aplpy.core]\n",
      "INFO: Auto-setting vmax to  2.650e-01 [aplpy.core]\n",
      "INFO: Auto-setting vmin to -3.394e-06 [aplpy.core]\n",
      "INFO: Auto-setting vmax to  3.139e-06 [aplpy.core]\n",
      "INFO: Auto-setting vmin to -2.861e-06 [aplpy.core]\n",
      "INFO: Auto-setting vmax to  2.173e-06 [aplpy.core]\n"
     ]
    },
    {
     "name": "stderr",
     "output_type": "stream",
     "text": [
      "WARNING: Cannot determine equinox. Assuming J2000. [aplpy.wcs_util]\n",
      "WARNING: Cannot determine equinox. Assuming J2000. [aplpy.wcs_util]\n",
      "WARNING: Cannot determine equinox. Assuming J2000. [aplpy.wcs_util]\n"
     ]
    },
    {
     "name": "stdout",
     "output_type": "stream",
     "text": [
      "INFO: Auto-setting vmin to -3.590e-21 [aplpy.core]\n",
      "INFO: Auto-setting vmax to  1.453e-21 [aplpy.core]\n"
     ]
    },
    {
     "name": "stderr",
     "output_type": "stream",
     "text": [
      "WARNING: Cannot determine equinox. Assuming J2000. [aplpy.wcs_util]\n",
      "WARNING: Cannot determine equinox. Assuming J2000. [aplpy.wcs_util]\n",
      "WARNING: Cannot determine equinox. Assuming J2000. [aplpy.wcs_util]\n",
      "WARNING: Cannot determine equinox. Assuming J2000. [aplpy.wcs_util]\n",
      "WARNING: Cannot determine equinox. Assuming J2000. [aplpy.wcs_util]\n"
     ]
    },
    {
     "name": "stdout",
     "output_type": "stream",
     "text": [
      "INFO: Auto-setting vmin to -1.665e-21 [aplpy.core]\n",
      "INFO: Auto-setting vmax to  2.396e-21 [aplpy.core]\n"
     ]
    },
    {
     "name": "stderr",
     "output_type": "stream",
     "text": [
      "WARNING: Cannot determine equinox. Assuming J2000. [aplpy.wcs_util]\n"
     ]
    },
    {
     "name": "stdout",
     "output_type": "stream",
     "text": [
      "INFO: Auto-setting vmin to -3.246e-02 [aplpy.core]\n",
      "INFO: Auto-setting vmax to  3.614e-01 [aplpy.core]\n",
      "INFO: Auto-setting vmin to -3.051e-06 [aplpy.core]\n",
      "INFO: Auto-setting vmax to  2.543e-06 [aplpy.core]\n",
      "INFO: Auto-setting vmin to -2.983e-06 [aplpy.core]\n",
      "INFO: Auto-setting vmax to  2.148e-06 [aplpy.core]\n"
     ]
    },
    {
     "name": "stderr",
     "output_type": "stream",
     "text": [
      "WARNING: Cannot determine equinox. Assuming J2000. [aplpy.wcs_util]\n",
      "WARNING: Cannot determine equinox. Assuming J2000. [aplpy.wcs_util]\n",
      "WARNING: Cannot determine equinox. Assuming J2000. [aplpy.wcs_util]\n"
     ]
    },
    {
     "name": "stdout",
     "output_type": "stream",
     "text": [
      "INFO: Auto-setting vmin to -3.299e-02 [aplpy.core]\n",
      "INFO: Auto-setting vmax to  4.007e-01 [aplpy.core]\n",
      "INFO: Auto-setting vmin to -3.445e-06 [aplpy.core]\n",
      "INFO: Auto-setting vmax to  2.921e-06 [aplpy.core]\n",
      "INFO: Auto-setting vmin to -2.875e-06 [aplpy.core]\n",
      "INFO: Auto-setting vmax to  2.156e-06 [aplpy.core]\n"
     ]
    },
    {
     "name": "stderr",
     "output_type": "stream",
     "text": [
      "WARNING: Cannot determine equinox. Assuming J2000. [aplpy.wcs_util]\n",
      "WARNING: Cannot determine equinox. Assuming J2000. [aplpy.wcs_util]\n",
      "WARNING: Cannot determine equinox. Assuming J2000. [aplpy.wcs_util]\n"
     ]
    },
    {
     "name": "stdout",
     "output_type": "stream",
     "text": [
      "INFO: Auto-setting vmin to -3.133e-21 [aplpy.core]\n",
      "INFO: Auto-setting vmax to  1.322e-21 [aplpy.core]\n"
     ]
    },
    {
     "name": "stderr",
     "output_type": "stream",
     "text": [
      "WARNING: Cannot determine equinox. Assuming J2000. [aplpy.wcs_util]\n",
      "WARNING: Cannot determine equinox. Assuming J2000. [aplpy.wcs_util]\n",
      "WARNING: Cannot determine equinox. Assuming J2000. [aplpy.wcs_util]\n"
     ]
    },
    {
     "name": "stdout",
     "output_type": "stream",
     "text": [
      "INFO: Auto-setting vmin to -1.438e-21 [aplpy.core]\n",
      "INFO: Auto-setting vmax to  1.743e-21 [aplpy.core]\n"
     ]
    },
    {
     "name": "stderr",
     "output_type": "stream",
     "text": [
      "WARNING: Cannot determine equinox. Assuming J2000. [aplpy.wcs_util]\n",
      "WARNING: Cannot determine equinox. Assuming J2000. [aplpy.wcs_util]\n",
      "WARNING: Cannot determine equinox. Assuming J2000. [aplpy.wcs_util]\n"
     ]
    },
    {
     "name": "stdout",
     "output_type": "stream",
     "text": [
      "INFO: Auto-setting vmin to -3.125e-02 [aplpy.core]\n",
      "INFO: Auto-setting vmax to  3.448e-01 [aplpy.core]\n",
      "INFO: Auto-setting vmin to -2.934e-06 [aplpy.core]\n",
      "INFO: Auto-setting vmax to  2.459e-06 [aplpy.core]\n",
      "INFO: Auto-setting vmin to -3.182e-06 [aplpy.core]\n",
      "INFO: Auto-setting vmax to  2.137e-06 [aplpy.core]\n"
     ]
    },
    {
     "name": "stderr",
     "output_type": "stream",
     "text": [
      "WARNING: Cannot determine equinox. Assuming J2000. [aplpy.wcs_util]\n",
      "WARNING: Cannot determine equinox. Assuming J2000. [aplpy.wcs_util]\n",
      "WARNING: Cannot determine equinox. Assuming J2000. [aplpy.wcs_util]\n"
     ]
    },
    {
     "name": "stdout",
     "output_type": "stream",
     "text": [
      "INFO: Auto-setting vmin to -1.973e-21 [aplpy.core]\n",
      "INFO: Auto-setting vmax to  9.134e-22 [aplpy.core]\n"
     ]
    },
    {
     "name": "stderr",
     "output_type": "stream",
     "text": [
      "WARNING: Cannot determine equinox. Assuming J2000. [aplpy.wcs_util]\n",
      "WARNING: Cannot determine equinox. Assuming J2000. [aplpy.wcs_util]\n",
      "WARNING: Cannot determine equinox. Assuming J2000. [aplpy.wcs_util]\n"
     ]
    },
    {
     "name": "stdout",
     "output_type": "stream",
     "text": [
      "INFO: Auto-setting vmin to -6.851e-22 [aplpy.core]\n",
      "INFO: Auto-setting vmax to  6.783e-22 [aplpy.core]\n",
      "INFO: Auto-setting vmin to -1.166e-22 [aplpy.core]\n",
      "INFO: Auto-setting vmax to  4.355e-22 [aplpy.core]\n"
     ]
    },
    {
     "name": "stderr",
     "output_type": "stream",
     "text": [
      "WARNING: Cannot determine equinox. Assuming J2000. [aplpy.wcs_util]\n",
      "WARNING: Cannot determine equinox. Assuming J2000. [aplpy.wcs_util]\n",
      "WARNING: Cannot determine equinox. Assuming J2000. [aplpy.wcs_util]\n"
     ]
    },
    {
     "name": "stdout",
     "output_type": "stream",
     "text": [
      "INFO: Auto-setting vmin to -7.592e-03 [aplpy.core]\n",
      "INFO: Auto-setting vmax to  8.040e-02 [aplpy.core]\n",
      "INFO: Red: [aplpy.rgb]\n",
      "INFO: vmin = -7.096e-23 (auto) [aplpy.rgb]\n",
      "INFO: vmax =  3.853e-22 (auto) [aplpy.rgb]\n",
      "INFO: Green: [aplpy.rgb]\n",
      "INFO: vmin = -5.725e-22 (auto) [aplpy.rgb]\n",
      "INFO: vmax =  5.543e-22 (auto) [aplpy.rgb]\n",
      "INFO: Blue: [aplpy.rgb]\n",
      "INFO: vmin = -1.735e-21 (auto) [aplpy.rgb]\n",
      "INFO: vmax =  6.510e-22 (auto) [aplpy.rgb]\n",
      "INFO: Auto-setting vmin to -3.630e-06 [aplpy.core]\n",
      "INFO: Auto-setting vmax to  2.611e-06 [aplpy.core]\n",
      "INFO: Auto-setting vmin to -2.863e-06 [aplpy.core]\n",
      "INFO: Auto-setting vmax to  2.162e-06 [aplpy.core]\n"
     ]
    },
    {
     "name": "stderr",
     "output_type": "stream",
     "text": [
      "WARNING: Cannot determine equinox. Assuming J2000. [aplpy.wcs_util]\n",
      "WARNING: Cannot determine equinox. Assuming J2000. [aplpy.wcs_util]\n",
      "WARNING: Cannot determine equinox. Assuming J2000. [aplpy.wcs_util]\n"
     ]
    },
    {
     "name": "stdout",
     "output_type": "stream",
     "text": [
      "INFO: Auto-setting vmin to -1.716e-21 [aplpy.core]\n",
      "INFO: Auto-setting vmax to  1.063e-21 [aplpy.core]\n"
     ]
    },
    {
     "name": "stderr",
     "output_type": "stream",
     "text": [
      "WARNING: Cannot determine equinox. Assuming J2000. [aplpy.wcs_util]\n",
      "WARNING: Cannot determine equinox. Assuming J2000. [aplpy.wcs_util]\n",
      "WARNING: Cannot determine equinox. Assuming J2000. [aplpy.wcs_util]\n"
     ]
    },
    {
     "name": "stdout",
     "output_type": "stream",
     "text": [
      "INFO: Auto-setting vmin to -7.098e-22 [aplpy.core]\n",
      "INFO: Auto-setting vmax to  6.449e-22 [aplpy.core]\n",
      "INFO: Auto-setting vmin to -5.888e-23 [aplpy.core]\n",
      "INFO: Auto-setting vmax to  2.184e-22 [aplpy.core]\n"
     ]
    },
    {
     "name": "stderr",
     "output_type": "stream",
     "text": [
      "WARNING: Cannot determine equinox. Assuming J2000. [aplpy.wcs_util]\n",
      "WARNING: Cannot determine equinox. Assuming J2000. [aplpy.wcs_util]\n",
      "WARNING: Cannot determine equinox. Assuming J2000. [aplpy.wcs_util]\n"
     ]
    },
    {
     "name": "stdout",
     "output_type": "stream",
     "text": [
      "INFO: Auto-setting vmin to -3.481e-03 [aplpy.core]\n",
      "INFO: Auto-setting vmax to  2.525e-02 [aplpy.core]\n",
      "INFO: Red: [aplpy.rgb]\n",
      "INFO: vmin = -3.597e-23 (auto) [aplpy.rgb]\n",
      "INFO: vmax =  1.932e-22 (auto) [aplpy.rgb]\n",
      "INFO: Green: [aplpy.rgb]\n",
      "INFO: vmin = -5.979e-22 (auto) [aplpy.rgb]\n",
      "INFO: vmax =  5.217e-22 (auto) [aplpy.rgb]\n",
      "INFO: Blue: [aplpy.rgb]\n",
      "INFO: vmin = -1.486e-21 (auto) [aplpy.rgb]\n",
      "INFO: vmax =  8.103e-22 (auto) [aplpy.rgb]\n",
      "INFO: Auto-setting vmin to -3.312e-06 [aplpy.core]\n",
      "INFO: Auto-setting vmax to  2.898e-06 [aplpy.core]\n",
      "INFO: Auto-setting vmin to -2.908e-06 [aplpy.core]\n",
      "INFO: Auto-setting vmax to  2.050e-06 [aplpy.core]\n"
     ]
    },
    {
     "name": "stderr",
     "output_type": "stream",
     "text": [
      "WARNING: Cannot determine equinox. Assuming J2000. [aplpy.wcs_util]\n",
      "WARNING: Cannot determine equinox. Assuming J2000. [aplpy.wcs_util]\n",
      "WARNING: Cannot determine equinox. Assuming J2000. [aplpy.wcs_util]\n"
     ]
    },
    {
     "name": "stdout",
     "output_type": "stream",
     "text": [
      "INFO: Auto-setting vmin to -1.989e-02 [aplpy.core]\n",
      "INFO: Auto-setting vmax to  2.201e-01 [aplpy.core]\n",
      "INFO: Auto-setting vmin to -3.378e-06 [aplpy.core]\n",
      "INFO: Auto-setting vmax to  3.025e-06 [aplpy.core]\n",
      "INFO: Auto-setting vmin to -2.762e-06 [aplpy.core]\n",
      "INFO: Auto-setting vmax to  2.112e-06 [aplpy.core]\n"
     ]
    },
    {
     "name": "stderr",
     "output_type": "stream",
     "text": [
      "WARNING: Cannot determine equinox. Assuming J2000. [aplpy.wcs_util]\n",
      "WARNING: Cannot determine equinox. Assuming J2000. [aplpy.wcs_util]\n",
      "WARNING: Cannot determine equinox. Assuming J2000. [aplpy.wcs_util]\n"
     ]
    },
    {
     "name": "stdout",
     "output_type": "stream",
     "text": [
      "INFO: Auto-setting vmin to -2.549e-02 [aplpy.core]\n",
      "INFO: Auto-setting vmax to  2.835e-01 [aplpy.core]\n",
      "INFO: Auto-setting vmin to -3.539e-06 [aplpy.core]\n",
      "INFO: Auto-setting vmax to  3.139e-06 [aplpy.core]\n",
      "INFO: Auto-setting vmin to -2.924e-06 [aplpy.core]\n",
      "INFO: Auto-setting vmax to  2.176e-06 [aplpy.core]\n"
     ]
    },
    {
     "name": "stderr",
     "output_type": "stream",
     "text": [
      "WARNING: Cannot determine equinox. Assuming J2000. [aplpy.wcs_util]\n",
      "WARNING: Cannot determine equinox. Assuming J2000. [aplpy.wcs_util]\n",
      "WARNING: Cannot determine equinox. Assuming J2000. [aplpy.wcs_util]\n"
     ]
    },
    {
     "name": "stdout",
     "output_type": "stream",
     "text": [
      "INFO: Auto-setting vmin to -1.370e-02 [aplpy.core]\n",
      "INFO: Auto-setting vmax to  1.412e-01 [aplpy.core]\n",
      "INFO: Auto-setting vmin to -3.140e-06 [aplpy.core]\n",
      "INFO: Auto-setting vmax to  3.132e-06 [aplpy.core]\n",
      "INFO: Auto-setting vmin to -2.921e-06 [aplpy.core]\n",
      "INFO: Auto-setting vmax to  2.150e-06 [aplpy.core]\n"
     ]
    },
    {
     "name": "stderr",
     "output_type": "stream",
     "text": [
      "WARNING: Cannot determine equinox. Assuming J2000. [aplpy.wcs_util]\n",
      "WARNING: Cannot determine equinox. Assuming J2000. [aplpy.wcs_util]\n",
      "WARNING: Cannot determine equinox. Assuming J2000. [aplpy.wcs_util]\n"
     ]
    },
    {
     "name": "stdout",
     "output_type": "stream",
     "text": [
      "INFO: Auto-setting vmin to -1.456e-02 [aplpy.core]\n",
      "INFO: Auto-setting vmax to  1.413e-01 [aplpy.core]\n",
      "INFO: Auto-setting vmin to -3.198e-06 [aplpy.core]\n",
      "INFO: Auto-setting vmax to  2.568e-06 [aplpy.core]\n",
      "INFO: Auto-setting vmin to -2.886e-06 [aplpy.core]\n",
      "INFO: Auto-setting vmax to  2.154e-06 [aplpy.core]\n"
     ]
    },
    {
     "name": "stderr",
     "output_type": "stream",
     "text": [
      "WARNING: Cannot determine equinox. Assuming J2000. [aplpy.wcs_util]\n",
      "WARNING: Cannot determine equinox. Assuming J2000. [aplpy.wcs_util]\n",
      "WARNING: Cannot determine equinox. Assuming J2000. [aplpy.wcs_util]\n"
     ]
    },
    {
     "name": "stdout",
     "output_type": "stream",
     "text": [
      "INFO: Auto-setting vmin to -1.889e-02 [aplpy.core]\n",
      "INFO: Auto-setting vmax to  2.121e-01 [aplpy.core]\n",
      "INFO: Auto-setting vmin to -3.113e-06 [aplpy.core]\n",
      "INFO: Auto-setting vmax to  2.828e-06 [aplpy.core]\n",
      "INFO: Auto-setting vmin to -3.037e-06 [aplpy.core]\n",
      "INFO: Auto-setting vmax to  2.225e-06 [aplpy.core]\n"
     ]
    },
    {
     "name": "stderr",
     "output_type": "stream",
     "text": [
      "WARNING: Cannot determine equinox. Assuming J2000. [aplpy.wcs_util]\n",
      "WARNING: Cannot determine equinox. Assuming J2000. [aplpy.wcs_util]\n",
      "WARNING: Cannot determine equinox. Assuming J2000. [aplpy.wcs_util]\n"
     ]
    },
    {
     "name": "stdout",
     "output_type": "stream",
     "text": [
      "INFO: Auto-setting vmin to -3.885e-02 [aplpy.core]\n",
      "INFO: Auto-setting vmax to  4.469e-01 [aplpy.core]\n",
      "INFO: Auto-setting vmin to -3.139e-06 [aplpy.core]\n",
      "INFO: Auto-setting vmax to  2.721e-06 [aplpy.core]\n",
      "INFO: Auto-setting vmin to -2.987e-06 [aplpy.core]\n",
      "INFO: Auto-setting vmax to  2.217e-06 [aplpy.core]\n"
     ]
    },
    {
     "name": "stderr",
     "output_type": "stream",
     "text": [
      "WARNING: Cannot determine equinox. Assuming J2000. [aplpy.wcs_util]\n",
      "WARNING: Cannot determine equinox. Assuming J2000. [aplpy.wcs_util]\n",
      "WARNING: Cannot determine equinox. Assuming J2000. [aplpy.wcs_util]\n"
     ]
    },
    {
     "name": "stdout",
     "output_type": "stream",
     "text": [
      "INFO: Auto-setting vmin to -1.681e-21 [aplpy.core]\n",
      "INFO: Auto-setting vmax to  1.299e-21 [aplpy.core]\n"
     ]
    },
    {
     "name": "stderr",
     "output_type": "stream",
     "text": [
      "WARNING: Cannot determine equinox. Assuming J2000. [aplpy.wcs_util]\n",
      "WARNING: Cannot determine equinox. Assuming J2000. [aplpy.wcs_util]\n",
      "WARNING: Cannot determine equinox. Assuming J2000. [aplpy.wcs_util]\n"
     ]
    },
    {
     "name": "stdout",
     "output_type": "stream",
     "text": [
      "INFO: Auto-setting vmin to -7.343e-22 [aplpy.core]\n",
      "INFO: Auto-setting vmax to  1.013e-21 [aplpy.core]\n",
      "INFO: Auto-setting vmin to -1.541e-22 [aplpy.core]\n",
      "INFO: Auto-setting vmax to  1.284e-21 [aplpy.core]\n"
     ]
    },
    {
     "name": "stderr",
     "output_type": "stream",
     "text": [
      "WARNING: Cannot determine equinox. Assuming J2000. [aplpy.wcs_util]\n",
      "WARNING: Cannot determine equinox. Assuming J2000. [aplpy.wcs_util]\n",
      "WARNING: Cannot determine equinox. Assuming J2000. [aplpy.wcs_util]\n"
     ]
    },
    {
     "name": "stdout",
     "output_type": "stream",
     "text": [
      "INFO: Auto-setting vmin to -1.473e-02 [aplpy.core]\n",
      "INFO: Auto-setting vmax to  1.571e-01 [aplpy.core]\n",
      "INFO: Red: [aplpy.rgb]\n",
      "INFO: vmin = -3.531e-23 (auto) [aplpy.rgb]\n",
      "INFO: vmax =  1.153e-21 (auto) [aplpy.rgb]\n",
      "INFO: Green: [aplpy.rgb]\n",
      "INFO: vmin = -5.899e-22 (auto) [aplpy.rgb]\n",
      "INFO: vmax =  8.539e-22 (auto) [aplpy.rgb]\n",
      "INFO: Blue: [aplpy.rgb]\n",
      "INFO: vmin = -1.435e-21 (auto) [aplpy.rgb]\n",
      "INFO: vmax =  1.028e-21 (auto) [aplpy.rgb]\n",
      "INFO: Auto-setting vmin to -3.799e-06 [aplpy.core]\n",
      "INFO: Auto-setting vmax to  2.511e-06 [aplpy.core]\n",
      "INFO: Auto-setting vmin to -2.962e-06 [aplpy.core]\n",
      "INFO: Auto-setting vmax to  2.267e-06 [aplpy.core]\n"
     ]
    },
    {
     "name": "stderr",
     "output_type": "stream",
     "text": [
      "WARNING: Cannot determine equinox. Assuming J2000. [aplpy.wcs_util]\n",
      "WARNING: Cannot determine equinox. Assuming J2000. [aplpy.wcs_util]\n",
      "WARNING: Cannot determine equinox. Assuming J2000. [aplpy.wcs_util]\n"
     ]
    },
    {
     "name": "stdout",
     "output_type": "stream",
     "text": [
      "INFO: Auto-setting vmin to -7.992e-03 [aplpy.core]\n",
      "INFO: Auto-setting vmax to  6.845e-02 [aplpy.core]\n",
      "INFO: Auto-setting vmin to -3.234e-06 [aplpy.core]\n",
      "INFO: Auto-setting vmax to  2.579e-06 [aplpy.core]\n",
      "INFO: Auto-setting vmin to -3.182e-06 [aplpy.core]\n",
      "INFO: Auto-setting vmax to  2.398e-06 [aplpy.core]\n"
     ]
    },
    {
     "name": "stderr",
     "output_type": "stream",
     "text": [
      "WARNING: Cannot determine equinox. Assuming J2000. [aplpy.wcs_util]\n",
      "WARNING: Cannot determine equinox. Assuming J2000. [aplpy.wcs_util]\n",
      "WARNING: Cannot determine equinox. Assuming J2000. [aplpy.wcs_util]\n"
     ]
    },
    {
     "name": "stdout",
     "output_type": "stream",
     "text": [
      "INFO: Auto-setting vmin to -3.460e-03 [aplpy.core]\n",
      "INFO: Auto-setting vmax to  1.245e-02 [aplpy.core]\n",
      "INFO: Auto-setting vmin to -3.312e-06 [aplpy.core]\n",
      "INFO: Auto-setting vmax to  2.765e-06 [aplpy.core]\n",
      "INFO: Auto-setting vmin to -2.908e-06 [aplpy.core]\n",
      "INFO: Auto-setting vmax to  2.263e-06 [aplpy.core]\n"
     ]
    },
    {
     "name": "stderr",
     "output_type": "stream",
     "text": [
      "WARNING: Cannot determine equinox. Assuming J2000. [aplpy.wcs_util]\n",
      "WARNING: Cannot determine equinox. Assuming J2000. [aplpy.wcs_util]\n",
      "WARNING: Cannot determine equinox. Assuming J2000. [aplpy.wcs_util]\n"
     ]
    },
    {
     "name": "stdout",
     "output_type": "stream",
     "text": [
      "INFO: Auto-setting vmin to -1.317e-02 [aplpy.core]\n",
      "INFO: Auto-setting vmax to  1.334e-01 [aplpy.core]\n",
      "INFO: Auto-setting vmin to -3.380e-06 [aplpy.core]\n",
      "INFO: Auto-setting vmax to  2.919e-06 [aplpy.core]\n",
      "INFO: Auto-setting vmin to -3.129e-06 [aplpy.core]\n",
      "INFO: Auto-setting vmax to  2.366e-06 [aplpy.core]\n"
     ]
    },
    {
     "name": "stderr",
     "output_type": "stream",
     "text": [
      "WARNING: Cannot determine equinox. Assuming J2000. [aplpy.wcs_util]\n",
      "WARNING: Cannot determine equinox. Assuming J2000. [aplpy.wcs_util]\n",
      "WARNING: Cannot determine equinox. Assuming J2000. [aplpy.wcs_util]\n"
     ]
    },
    {
     "name": "stdout",
     "output_type": "stream",
     "text": [
      "INFO: Auto-setting vmin to -1.795e-02 [aplpy.core]\n",
      "INFO: Auto-setting vmax to  1.960e-01 [aplpy.core]\n",
      "INFO: Auto-setting vmin to -3.032e-06 [aplpy.core]\n",
      "INFO: Auto-setting vmax to  2.420e-06 [aplpy.core]\n"
     ]
    },
    {
     "name": "stderr",
     "output_type": "stream",
     "text": [
      "WARNING: Cannot determine equinox. Assuming J2000. [aplpy.wcs_util]\n",
      "WARNING: Cannot determine equinox. Assuming J2000. [aplpy.wcs_util]\n",
      "WARNING: Cannot determine equinox. Assuming J2000. [aplpy.wcs_util]\n"
     ]
    },
    {
     "name": "stdout",
     "output_type": "stream",
     "text": [
      "INFO: Auto-setting vmin to -5.252e-03 [aplpy.core]\n",
      "INFO: Auto-setting vmax to  7.748e-03 [aplpy.core]\n",
      "INFO: Auto-setting vmin to -3.069e-06 [aplpy.core]\n",
      "INFO: Auto-setting vmax to  2.556e-06 [aplpy.core]\n",
      "INFO: Auto-setting vmin to -3.358e-06 [aplpy.core]\n",
      "INFO: Auto-setting vmax to  2.682e-06 [aplpy.core]\n"
     ]
    },
    {
     "name": "stderr",
     "output_type": "stream",
     "text": [
      "WARNING: Cannot determine equinox. Assuming J2000. [aplpy.wcs_util]\n",
      "WARNING: Cannot determine equinox. Assuming J2000. [aplpy.wcs_util]\n",
      "WARNING: Cannot determine equinox. Assuming J2000. [aplpy.wcs_util]\n"
     ]
    },
    {
     "name": "stdout",
     "output_type": "stream",
     "text": [
      "INFO: Auto-setting vmin to -5.997e-03 [aplpy.core]\n",
      "INFO: Auto-setting vmax to  4.529e-02 [aplpy.core]\n",
      "INFO: Auto-setting vmin to -3.519e-06 [aplpy.core]\n",
      "INFO: Auto-setting vmax to  2.715e-06 [aplpy.core]\n",
      "INFO: Auto-setting vmin to -3.140e-06 [aplpy.core]\n",
      "INFO: Auto-setting vmax to  2.319e-06 [aplpy.core]\n"
     ]
    },
    {
     "name": "stderr",
     "output_type": "stream",
     "text": [
      "WARNING: Cannot determine equinox. Assuming J2000. [aplpy.wcs_util]\n",
      "WARNING: Cannot determine equinox. Assuming J2000. [aplpy.wcs_util]\n",
      "WARNING: Cannot determine equinox. Assuming J2000. [aplpy.wcs_util]\n"
     ]
    },
    {
     "name": "stdout",
     "output_type": "stream",
     "text": [
      "INFO: Auto-setting vmin to -3.033e-02 [aplpy.core]\n",
      "INFO: Auto-setting vmax to  3.503e-01 [aplpy.core]\n",
      "INFO: Auto-setting vmin to -3.362e-06 [aplpy.core]\n",
      "INFO: Auto-setting vmax to  2.579e-06 [aplpy.core]\n",
      "INFO: Auto-setting vmin to -3.289e-06 [aplpy.core]\n",
      "INFO: Auto-setting vmax to  2.445e-06 [aplpy.core]\n"
     ]
    },
    {
     "name": "stderr",
     "output_type": "stream",
     "text": [
      "WARNING: Cannot determine equinox. Assuming J2000. [aplpy.wcs_util]\n",
      "WARNING: Cannot determine equinox. Assuming J2000. [aplpy.wcs_util]\n",
      "WARNING: Cannot determine equinox. Assuming J2000. [aplpy.wcs_util]\n"
     ]
    },
    {
     "name": "stdout",
     "output_type": "stream",
     "text": [
      "INFO: Auto-setting vmin to -2.114e-21 [aplpy.core]\n",
      "INFO: Auto-setting vmax to  1.077e-21 [aplpy.core]\n"
     ]
    },
    {
     "name": "stderr",
     "output_type": "stream",
     "text": [
      "WARNING: Cannot determine equinox. Assuming J2000. [aplpy.wcs_util]\n",
      "WARNING: Cannot determine equinox. Assuming J2000. [aplpy.wcs_util]\n",
      "WARNING: Cannot determine equinox. Assuming J2000. [aplpy.wcs_util]\n"
     ]
    },
    {
     "name": "stdout",
     "output_type": "stream",
     "text": [
      "INFO: Auto-setting vmin to -7.859e-22 [aplpy.core]\n",
      "INFO: Auto-setting vmax to  6.631e-22 [aplpy.core]\n",
      "INFO: Auto-setting vmin to -1.094e-22 [aplpy.core]\n",
      "INFO: Auto-setting vmax to  2.495e-22 [aplpy.core]\n"
     ]
    },
    {
     "name": "stderr",
     "output_type": "stream",
     "text": [
      "WARNING: Cannot determine equinox. Assuming J2000. [aplpy.wcs_util]\n",
      "WARNING: Cannot determine equinox. Assuming J2000. [aplpy.wcs_util]\n",
      "WARNING: Cannot determine equinox. Assuming J2000. [aplpy.wcs_util]\n"
     ]
    },
    {
     "name": "stdout",
     "output_type": "stream",
     "text": [
      "INFO: Auto-setting vmin to -1.509e-02 [aplpy.core]\n",
      "INFO: Auto-setting vmax to  1.585e-01 [aplpy.core]\n",
      "INFO: Red: [aplpy.rgb]\n",
      "INFO: vmin = -7.976e-23 (auto) [aplpy.rgb]\n",
      "INFO: vmax =  2.168e-22 (auto) [aplpy.rgb]\n",
      "INFO: Green: [aplpy.rgb]\n",
      "INFO: vmin = -6.661e-22 (auto) [aplpy.rgb]\n",
      "INFO: vmax =  5.313e-22 (auto) [aplpy.rgb]\n",
      "INFO: Blue: [aplpy.rgb]\n",
      "INFO: vmin = -1.850e-21 (auto) [aplpy.rgb]\n",
      "INFO: vmax =  7.865e-22 (auto) [aplpy.rgb]\n",
      "INFO: Auto-setting vmin to -3.041e-06 [aplpy.core]\n",
      "INFO: Auto-setting vmax to  2.829e-06 [aplpy.core]\n",
      "INFO: Auto-setting vmin to -3.361e-06 [aplpy.core]\n",
      "INFO: Auto-setting vmax to  2.531e-06 [aplpy.core]\n"
     ]
    },
    {
     "name": "stderr",
     "output_type": "stream",
     "text": [
      "WARNING: Cannot determine equinox. Assuming J2000. [aplpy.wcs_util]\n",
      "WARNING: Cannot determine equinox. Assuming J2000. [aplpy.wcs_util]\n",
      "WARNING: Cannot determine equinox. Assuming J2000. [aplpy.wcs_util]\n"
     ]
    },
    {
     "name": "stdout",
     "output_type": "stream",
     "text": [
      "INFO: Auto-setting vmin to -4.831e-02 [aplpy.core]\n",
      "INFO: Auto-setting vmax to  5.502e-01 [aplpy.core]\n",
      "INFO: Auto-setting vmin to -3.324e-06 [aplpy.core]\n",
      "INFO: Auto-setting vmax to  2.889e-06 [aplpy.core]\n"
     ]
    },
    {
     "name": "stderr",
     "output_type": "stream",
     "text": [
      "WARNING: Cannot determine equinox. Assuming J2000. [aplpy.wcs_util]\n",
      "WARNING: Cannot determine equinox. Assuming J2000. [aplpy.wcs_util]\n",
      "WARNING: Cannot determine equinox. Assuming J2000. [aplpy.wcs_util]\n"
     ]
    },
    {
     "name": "stdout",
     "output_type": "stream",
     "text": [
      "INFO: Auto-setting vmin to -4.054e-02 [aplpy.core]\n",
      "INFO: Auto-setting vmax to  3.450e-01 [aplpy.core]\n",
      "INFO: Auto-setting vmin to -3.280e-06 [aplpy.core]\n",
      "INFO: Auto-setting vmax to  2.720e-06 [aplpy.core]\n",
      "INFO: Auto-setting vmin to -3.593e-06 [aplpy.core]\n",
      "INFO: Auto-setting vmax to  2.517e-06 [aplpy.core]\n"
     ]
    },
    {
     "name": "stderr",
     "output_type": "stream",
     "text": [
      "WARNING: Cannot determine equinox. Assuming J2000. [aplpy.wcs_util]\n",
      "WARNING: Cannot determine equinox. Assuming J2000. [aplpy.wcs_util]\n",
      "WARNING: Cannot determine equinox. Assuming J2000. [aplpy.wcs_util]\n"
     ]
    },
    {
     "name": "stdout",
     "output_type": "stream",
     "text": [
      "INFO: Auto-setting vmin to -1.341e-02 [aplpy.core]\n",
      "INFO: Auto-setting vmax to  1.737e-01 [aplpy.core]\n",
      "INFO: Auto-setting vmin to -3.263e-06 [aplpy.core]\n",
      "INFO: Auto-setting vmax to  2.621e-06 [aplpy.core]\n",
      "INFO: Auto-setting vmin to -3.573e-06 [aplpy.core]\n",
      "INFO: Auto-setting vmax to  2.481e-06 [aplpy.core]\n"
     ]
    },
    {
     "name": "stderr",
     "output_type": "stream",
     "text": [
      "WARNING: Cannot determine equinox. Assuming J2000. [aplpy.wcs_util]\n",
      "WARNING: Cannot determine equinox. Assuming J2000. [aplpy.wcs_util]\n",
      "WARNING: Cannot determine equinox. Assuming J2000. [aplpy.wcs_util]\n"
     ]
    },
    {
     "name": "stdout",
     "output_type": "stream",
     "text": [
      "INFO: Auto-setting vmin to -1.276e-21 [aplpy.core]\n",
      "INFO: Auto-setting vmax to  2.339e-21 [aplpy.core]\n"
     ]
    },
    {
     "name": "stderr",
     "output_type": "stream",
     "text": [
      "WARNING: Cannot determine equinox. Assuming J2000. [aplpy.wcs_util]\n",
      "WARNING: Cannot determine equinox. Assuming J2000. [aplpy.wcs_util]\n",
      "WARNING: Cannot determine equinox. Assuming J2000. [aplpy.wcs_util]\n"
     ]
    },
    {
     "name": "stdout",
     "output_type": "stream",
     "text": [
      "INFO: Auto-setting vmin to -7.191e-22 [aplpy.core]\n",
      "INFO: Auto-setting vmax to  2.222e-21 [aplpy.core]\n",
      "INFO: Auto-setting vmin to -1.065e-22 [aplpy.core]\n",
      "INFO: Auto-setting vmax to  8.148e-22 [aplpy.core]\n"
     ]
    },
    {
     "name": "stderr",
     "output_type": "stream",
     "text": [
      "WARNING: Cannot determine equinox. Assuming J2000. [aplpy.wcs_util]\n",
      "WARNING: Cannot determine equinox. Assuming J2000. [aplpy.wcs_util]\n",
      "WARNING: Cannot determine equinox. Assuming J2000. [aplpy.wcs_util]\n"
     ]
    },
    {
     "name": "stdout",
     "output_type": "stream",
     "text": [
      "INFO: Auto-setting vmin to -6.240e-03 [aplpy.core]\n",
      "INFO: Auto-setting vmax to  6.127e-02 [aplpy.core]\n",
      "INFO: Red: [aplpy.rgb]\n",
      "INFO: vmin = -3.040e-23 (auto) [aplpy.rgb]\n",
      "INFO: vmax =  7.311e-22 (auto) [aplpy.rgb]\n",
      "INFO: Green: [aplpy.rgb]\n",
      "INFO: vmin = -4.760e-22 (auto) [aplpy.rgb]\n",
      "INFO: vmax =  1.955e-21 (auto) [aplpy.rgb]\n",
      "INFO: Blue: [aplpy.rgb]\n",
      "INFO: vmin = -9.772e-22 (auto) [aplpy.rgb]\n",
      "INFO: vmax =  2.010e-21 (auto) [aplpy.rgb]\n",
      "INFO: Auto-setting vmin to -3.367e-06 [aplpy.core]\n",
      "INFO: Auto-setting vmax to  2.517e-06 [aplpy.core]\n",
      "INFO: Auto-setting vmin to -3.693e-06 [aplpy.core]\n",
      "INFO: Auto-setting vmax to  2.571e-06 [aplpy.core]\n"
     ]
    },
    {
     "name": "stderr",
     "output_type": "stream",
     "text": [
      "WARNING: Cannot determine equinox. Assuming J2000. [aplpy.wcs_util]\n",
      "WARNING: Cannot determine equinox. Assuming J2000. [aplpy.wcs_util]\n",
      "WARNING: Cannot determine equinox. Assuming J2000. [aplpy.wcs_util]\n"
     ]
    },
    {
     "name": "stdout",
     "output_type": "stream",
     "text": [
      "INFO: Auto-setting vmin to -1.983e-02 [aplpy.core]\n",
      "INFO: Auto-setting vmax to  2.146e-01 [aplpy.core]\n",
      "INFO: Auto-setting vmin to -3.271e-06 [aplpy.core]\n",
      "INFO: Auto-setting vmax to  2.526e-06 [aplpy.core]\n",
      "INFO: Auto-setting vmin to -4.922e-06 [aplpy.core]\n",
      "INFO: Auto-setting vmax to  3.741e-06 [aplpy.core]\n"
     ]
    },
    {
     "name": "stderr",
     "output_type": "stream",
     "text": [
      "WARNING: Cannot determine equinox. Assuming J2000. [aplpy.wcs_util]\n",
      "WARNING: Cannot determine equinox. Assuming J2000. [aplpy.wcs_util]\n",
      "WARNING: Cannot determine equinox. Assuming J2000. [aplpy.wcs_util]\n"
     ]
    },
    {
     "name": "stdout",
     "output_type": "stream",
     "text": [
      "INFO: Auto-setting vmin to -2.421e-02 [aplpy.core]\n",
      "INFO: Auto-setting vmax to  2.480e-01 [aplpy.core]\n",
      "INFO: Auto-setting vmin to -3.352e-06 [aplpy.core]\n",
      "INFO: Auto-setting vmax to  3.015e-06 [aplpy.core]\n",
      "INFO: Auto-setting vmin to -3.733e-06 [aplpy.core]\n",
      "INFO: Auto-setting vmax to  2.871e-06 [aplpy.core]\n"
     ]
    },
    {
     "name": "stderr",
     "output_type": "stream",
     "text": [
      "WARNING: Cannot determine equinox. Assuming J2000. [aplpy.wcs_util]\n",
      "WARNING: Cannot determine equinox. Assuming J2000. [aplpy.wcs_util]\n",
      "WARNING: Cannot determine equinox. Assuming J2000. [aplpy.wcs_util]\n"
     ]
    },
    {
     "name": "stdout",
     "output_type": "stream",
     "text": [
      "INFO: Auto-setting vmin to -1.893e-21 [aplpy.core]\n",
      "INFO: Auto-setting vmax to  1.406e-21 [aplpy.core]\n"
     ]
    },
    {
     "name": "stderr",
     "output_type": "stream",
     "text": [
      "WARNING: Cannot determine equinox. Assuming J2000. [aplpy.wcs_util]\n",
      "WARNING: Cannot determine equinox. Assuming J2000. [aplpy.wcs_util]\n",
      "WARNING: Cannot determine equinox. Assuming J2000. [aplpy.wcs_util]\n"
     ]
    },
    {
     "name": "stdout",
     "output_type": "stream",
     "text": [
      "INFO: Auto-setting vmin to -9.216e-22 [aplpy.core]\n",
      "INFO: Auto-setting vmax to  3.096e-21 [aplpy.core]\n"
     ]
    },
    {
     "name": "stderr",
     "output_type": "stream",
     "text": [
      "WARNING: Cannot determine equinox. Assuming J2000. [aplpy.wcs_util]\n",
      "WARNING: Cannot determine equinox. Assuming J2000. [aplpy.wcs_util]\n",
      "WARNING: Cannot determine equinox. Assuming J2000. [aplpy.wcs_util]\n"
     ]
    },
    {
     "name": "stdout",
     "output_type": "stream",
     "text": [
      "INFO: Auto-setting vmin to -4.100e-02 [aplpy.core]\n",
      "INFO: Auto-setting vmax to  4.623e-01 [aplpy.core]\n",
      "INFO: Auto-setting vmin to -3.312e-06 [aplpy.core]\n",
      "INFO: Auto-setting vmax to  2.459e-06 [aplpy.core]\n",
      "INFO: Auto-setting vmin to -3.837e-06 [aplpy.core]\n",
      "INFO: Auto-setting vmax to  2.723e-06 [aplpy.core]\n"
     ]
    },
    {
     "name": "stderr",
     "output_type": "stream",
     "text": [
      "WARNING: Cannot determine equinox. Assuming J2000. [aplpy.wcs_util]\n",
      "WARNING: Cannot determine equinox. Assuming J2000. [aplpy.wcs_util]\n",
      "WARNING: Cannot determine equinox. Assuming J2000. [aplpy.wcs_util]\n"
     ]
    },
    {
     "name": "stdout",
     "output_type": "stream",
     "text": [
      "INFO: Auto-setting vmin to -6.977e-03 [aplpy.core]\n",
      "INFO: Auto-setting vmax to  5.938e-02 [aplpy.core]\n",
      "INFO: Auto-setting vmin to -3.372e-06 [aplpy.core]\n",
      "INFO: Auto-setting vmax to  2.560e-06 [aplpy.core]\n",
      "INFO: Auto-setting vmin to -3.889e-06 [aplpy.core]\n",
      "INFO: Auto-setting vmax to  2.919e-06 [aplpy.core]\n"
     ]
    },
    {
     "name": "stderr",
     "output_type": "stream",
     "text": [
      "WARNING: Cannot determine equinox. Assuming J2000. [aplpy.wcs_util]\n",
      "WARNING: Cannot determine equinox. Assuming J2000. [aplpy.wcs_util]\n",
      "WARNING: Cannot determine equinox. Assuming J2000. [aplpy.wcs_util]\n"
     ]
    },
    {
     "name": "stdout",
     "output_type": "stream",
     "text": [
      "INFO: Auto-setting vmin to -4.772e-02 [aplpy.core]\n",
      "INFO: Auto-setting vmax to  5.298e-01 [aplpy.core]\n",
      "INFO: Auto-setting vmin to -3.096e-06 [aplpy.core]\n",
      "INFO: Auto-setting vmax to  2.526e-06 [aplpy.core]\n",
      "INFO: Auto-setting vmin to -3.846e-06 [aplpy.core]\n",
      "INFO: Auto-setting vmax to  2.812e-06 [aplpy.core]\n"
     ]
    },
    {
     "name": "stderr",
     "output_type": "stream",
     "text": [
      "WARNING: Cannot determine equinox. Assuming J2000. [aplpy.wcs_util]\n",
      "WARNING: Cannot determine equinox. Assuming J2000. [aplpy.wcs_util]\n",
      "WARNING: Cannot determine equinox. Assuming J2000. [aplpy.wcs_util]\n"
     ]
    },
    {
     "name": "stdout",
     "output_type": "stream",
     "text": [
      "INFO: Auto-setting vmin to -2.504e-02 [aplpy.core]\n",
      "INFO: Auto-setting vmax to  2.848e-01 [aplpy.core]\n",
      "INFO: Auto-setting vmin to -3.359e-06 [aplpy.core]\n",
      "INFO: Auto-setting vmax to  2.742e-06 [aplpy.core]\n",
      "INFO: Auto-setting vmin to -4.149e-06 [aplpy.core]\n",
      "INFO: Auto-setting vmax to  2.883e-06 [aplpy.core]\n"
     ]
    },
    {
     "name": "stderr",
     "output_type": "stream",
     "text": [
      "WARNING: Cannot determine equinox. Assuming J2000. [aplpy.wcs_util]\n",
      "WARNING: Cannot determine equinox. Assuming J2000. [aplpy.wcs_util]\n",
      "WARNING: Cannot determine equinox. Assuming J2000. [aplpy.wcs_util]\n"
     ]
    },
    {
     "name": "stdout",
     "output_type": "stream",
     "text": [
      "INFO: Auto-setting vmin to -1.733e-02 [aplpy.core]\n",
      "INFO: Auto-setting vmax to  1.728e-01 [aplpy.core]\n",
      "INFO: Auto-setting vmin to -3.175e-06 [aplpy.core]\n",
      "INFO: Auto-setting vmax to  2.612e-06 [aplpy.core]\n"
     ]
    },
    {
     "name": "stderr",
     "output_type": "stream",
     "text": [
      "WARNING: Cannot determine equinox. Assuming J2000. [aplpy.wcs_util]\n",
      "WARNING: Cannot determine equinox. Assuming J2000. [aplpy.wcs_util]\n",
      "WARNING: Cannot determine equinox. Assuming J2000. [aplpy.wcs_util]\n"
     ]
    },
    {
     "name": "stdout",
     "output_type": "stream",
     "text": [
      "INFO: Auto-setting vmin to -1.057e-02 [aplpy.core]\n",
      "INFO: Auto-setting vmax to  1.085e-01 [aplpy.core]\n",
      "INFO: Auto-setting vmin to -3.170e-06 [aplpy.core]\n",
      "INFO: Auto-setting vmax to  2.659e-06 [aplpy.core]\n"
     ]
    },
    {
     "name": "stderr",
     "output_type": "stream",
     "text": [
      "WARNING: Cannot determine equinox. Assuming J2000. [aplpy.wcs_util]\n",
      "WARNING: Cannot determine equinox. Assuming J2000. [aplpy.wcs_util]\n",
      "WARNING: Cannot determine equinox. Assuming J2000. [aplpy.wcs_util]\n"
     ]
    },
    {
     "name": "stdout",
     "output_type": "stream",
     "text": [
      "INFO: Auto-setting vmin to -4.955e-02 [aplpy.core]\n",
      "INFO: Auto-setting vmax to  5.881e-01 [aplpy.core]\n",
      "INFO: Auto-setting vmin to -3.016e-06 [aplpy.core]\n",
      "INFO: Auto-setting vmax to  2.614e-06 [aplpy.core]\n"
     ]
    },
    {
     "name": "stderr",
     "output_type": "stream",
     "text": [
      "WARNING: Cannot determine equinox. Assuming J2000. [aplpy.wcs_util]\n",
      "WARNING: Cannot determine equinox. Assuming J2000. [aplpy.wcs_util]\n",
      "WARNING: Cannot determine equinox. Assuming J2000. [aplpy.wcs_util]\n"
     ]
    },
    {
     "name": "stdout",
     "output_type": "stream",
     "text": [
      "INFO: Auto-setting vmin to -8.694e-03 [aplpy.core]\n",
      "INFO: Auto-setting vmax to  8.146e-02 [aplpy.core]\n",
      "INFO: Auto-setting vmin to -3.467e-06 [aplpy.core]\n",
      "INFO: Auto-setting vmax to  2.589e-06 [aplpy.core]\n"
     ]
    },
    {
     "name": "stderr",
     "output_type": "stream",
     "text": [
      "WARNING: Cannot determine equinox. Assuming J2000. [aplpy.wcs_util]\n",
      "WARNING: Cannot determine equinox. Assuming J2000. [aplpy.wcs_util]\n",
      "WARNING: Cannot determine equinox. Assuming J2000. [aplpy.wcs_util]\n"
     ]
    },
    {
     "name": "stdout",
     "output_type": "stream",
     "text": [
      "INFO: Auto-setting vmin to -3.069e-02 [aplpy.core]\n",
      "INFO: Auto-setting vmax to  3.426e-01 [aplpy.core]\n",
      "INFO: Auto-setting vmin to -3.021e-06 [aplpy.core]\n",
      "INFO: Auto-setting vmax to  2.722e-06 [aplpy.core]\n"
     ]
    },
    {
     "name": "stderr",
     "output_type": "stream",
     "text": [
      "WARNING: Cannot determine equinox. Assuming J2000. [aplpy.wcs_util]\n",
      "WARNING: Cannot determine equinox. Assuming J2000. [aplpy.wcs_util]\n",
      "WARNING: Cannot determine equinox. Assuming J2000. [aplpy.wcs_util]\n"
     ]
    },
    {
     "name": "stdout",
     "output_type": "stream",
     "text": [
      "INFO: Auto-setting vmin to -7.067e-02 [aplpy.core]\n",
      "INFO: Auto-setting vmax to  9.137e-01 [aplpy.core]\n",
      "INFO: Auto-setting vmin to -2.856e-06 [aplpy.core]\n",
      "INFO: Auto-setting vmax to  2.442e-06 [aplpy.core]\n"
     ]
    },
    {
     "name": "stderr",
     "output_type": "stream",
     "text": [
      "WARNING: Cannot determine equinox. Assuming J2000. [aplpy.wcs_util]\n",
      "WARNING: Cannot determine equinox. Assuming J2000. [aplpy.wcs_util]\n",
      "WARNING: Cannot determine equinox. Assuming J2000. [aplpy.wcs_util]\n"
     ]
    },
    {
     "name": "stdout",
     "output_type": "stream",
     "text": [
      "INFO: Auto-setting vmin to -3.190e-02 [aplpy.core]\n",
      "INFO: Auto-setting vmax to  3.511e-01 [aplpy.core]\n",
      "INFO: Auto-setting vmin to -3.231e-06 [aplpy.core]\n",
      "INFO: Auto-setting vmax to  2.742e-06 [aplpy.core]\n"
     ]
    },
    {
     "name": "stderr",
     "output_type": "stream",
     "text": [
      "WARNING: Cannot determine equinox. Assuming J2000. [aplpy.wcs_util]\n",
      "WARNING: Cannot determine equinox. Assuming J2000. [aplpy.wcs_util]\n",
      "WARNING: Cannot determine equinox. Assuming J2000. [aplpy.wcs_util]\n"
     ]
    },
    {
     "name": "stdout",
     "output_type": "stream",
     "text": [
      "INFO: Auto-setting vmin to -7.682e-03 [aplpy.core]\n",
      "INFO: Auto-setting vmax to  6.273e-02 [aplpy.core]\n",
      "INFO: Auto-setting vmin to -3.517e-06 [aplpy.core]\n",
      "INFO: Auto-setting vmax to  2.555e-06 [aplpy.core]\n"
     ]
    },
    {
     "name": "stderr",
     "output_type": "stream",
     "text": [
      "WARNING: Cannot determine equinox. Assuming J2000. [aplpy.wcs_util]\n",
      "WARNING: Cannot determine equinox. Assuming J2000. [aplpy.wcs_util]\n",
      "WARNING: Cannot determine equinox. Assuming J2000. [aplpy.wcs_util]\n"
     ]
    },
    {
     "name": "stdout",
     "output_type": "stream",
     "text": [
      "INFO: Auto-setting vmin to -1.264e-21 [aplpy.core]\n",
      "INFO: Auto-setting vmax to  1.108e-21 [aplpy.core]\n"
     ]
    },
    {
     "name": "stderr",
     "output_type": "stream",
     "text": [
      "WARNING: Cannot determine equinox. Assuming J2000. [aplpy.wcs_util]\n",
      "WARNING: Cannot determine equinox. Assuming J2000. [aplpy.wcs_util]\n",
      "WARNING: Cannot determine equinox. Assuming J2000. [aplpy.wcs_util]\n"
     ]
    },
    {
     "name": "stdout",
     "output_type": "stream",
     "text": [
      "INFO: Auto-setting vmin to -6.529e-22 [aplpy.core]\n",
      "INFO: Auto-setting vmax to  6.033e-22 [aplpy.core]\n"
     ]
    },
    {
     "name": "stderr",
     "output_type": "stream",
     "text": [
      "WARNING: Cannot determine equinox. Assuming J2000. [aplpy.wcs_util]\n",
      "WARNING: Cannot determine equinox. Assuming J2000. [aplpy.wcs_util]\n",
      "WARNING: Cannot determine equinox. Assuming J2000. [aplpy.wcs_util]\n"
     ]
    },
    {
     "name": "stdout",
     "output_type": "stream",
     "text": [
      "INFO: Auto-setting vmin to -1.549e-02 [aplpy.core]\n",
      "INFO: Auto-setting vmax to  1.696e-01 [aplpy.core]\n",
      "INFO: Auto-setting vmin to -3.142e-06 [aplpy.core]\n",
      "INFO: Auto-setting vmax to  2.604e-06 [aplpy.core]\n"
     ]
    },
    {
     "name": "stderr",
     "output_type": "stream",
     "text": [
      "WARNING: Cannot determine equinox. Assuming J2000. [aplpy.wcs_util]\n",
      "WARNING: Cannot determine equinox. Assuming J2000. [aplpy.wcs_util]\n",
      "WARNING: Cannot determine equinox. Assuming J2000. [aplpy.wcs_util]\n"
     ]
    },
    {
     "name": "stdout",
     "output_type": "stream",
     "text": [
      "INFO: Auto-setting vmin to -3.136e-21 [aplpy.core]\n",
      "INFO: Auto-setting vmax to  1.709e-21 [aplpy.core]\n"
     ]
    },
    {
     "name": "stderr",
     "output_type": "stream",
     "text": [
      "WARNING: Cannot determine equinox. Assuming J2000. [aplpy.wcs_util]\n",
      "WARNING: Cannot determine equinox. Assuming J2000. [aplpy.wcs_util]\n",
      "WARNING: Cannot determine equinox. Assuming J2000. [aplpy.wcs_util]\n"
     ]
    },
    {
     "name": "stdout",
     "output_type": "stream",
     "text": [
      "INFO: Auto-setting vmin to -1.389e-21 [aplpy.core]\n",
      "INFO: Auto-setting vmax to  7.773e-22 [aplpy.core]\n"
     ]
    },
    {
     "name": "stderr",
     "output_type": "stream",
     "text": [
      "WARNING: Cannot determine equinox. Assuming J2000. [aplpy.wcs_util]\n",
      "WARNING: Cannot determine equinox. Assuming J2000. [aplpy.wcs_util]\n",
      "WARNING: Cannot determine equinox. Assuming J2000. [aplpy.wcs_util]\n"
     ]
    },
    {
     "name": "stdout",
     "output_type": "stream",
     "text": [
      "INFO: Auto-setting vmin to -6.506e-03 [aplpy.core]\n",
      "INFO: Auto-setting vmax to  5.070e-02 [aplpy.core]\n",
      "INFO: Auto-setting vmin to -2.906e-06 [aplpy.core]\n",
      "INFO: Auto-setting vmax to  2.821e-06 [aplpy.core]\n"
     ]
    },
    {
     "name": "stderr",
     "output_type": "stream",
     "text": [
      "WARNING: Cannot determine equinox. Assuming J2000. [aplpy.wcs_util]\n",
      "WARNING: Cannot determine equinox. Assuming J2000. [aplpy.wcs_util]\n",
      "WARNING: Cannot determine equinox. Assuming J2000. [aplpy.wcs_util]\n"
     ]
    },
    {
     "name": "stdout",
     "output_type": "stream",
     "text": [
      "INFO: Auto-setting vmin to -4.660e-02 [aplpy.core]\n",
      "INFO: Auto-setting vmax to  5.405e-01 [aplpy.core]\n",
      "INFO: Auto-setting vmin to -3.127e-06 [aplpy.core]\n",
      "INFO: Auto-setting vmax to  2.933e-06 [aplpy.core]\n"
     ]
    },
    {
     "name": "stderr",
     "output_type": "stream",
     "text": [
      "WARNING: Cannot determine equinox. Assuming J2000. [aplpy.wcs_util]\n",
      "WARNING: Cannot determine equinox. Assuming J2000. [aplpy.wcs_util]\n",
      "WARNING: Cannot determine equinox. Assuming J2000. [aplpy.wcs_util]\n"
     ]
    },
    {
     "name": "stdout",
     "output_type": "stream",
     "text": [
      "INFO: Auto-setting vmin to -1.985e-02 [aplpy.core]\n",
      "INFO: Auto-setting vmax to  2.245e-01 [aplpy.core]\n",
      "INFO: Auto-setting vmin to -3.285e-06 [aplpy.core]\n",
      "INFO: Auto-setting vmax to  2.690e-06 [aplpy.core]\n"
     ]
    },
    {
     "name": "stderr",
     "output_type": "stream",
     "text": [
      "WARNING: Cannot determine equinox. Assuming J2000. [aplpy.wcs_util]\n",
      "WARNING: Cannot determine equinox. Assuming J2000. [aplpy.wcs_util]\n",
      "WARNING: Cannot determine equinox. Assuming J2000. [aplpy.wcs_util]\n"
     ]
    },
    {
     "name": "stdout",
     "output_type": "stream",
     "text": [
      "INFO: Auto-setting vmin to -1.121e-02 [aplpy.core]\n",
      "INFO: Auto-setting vmax to  9.767e-02 [aplpy.core]\n",
      "INFO: Auto-setting vmin to -3.102e-06 [aplpy.core]\n",
      "INFO: Auto-setting vmax to  2.539e-06 [aplpy.core]\n"
     ]
    },
    {
     "name": "stderr",
     "output_type": "stream",
     "text": [
      "WARNING: Cannot determine equinox. Assuming J2000. [aplpy.wcs_util]\n",
      "WARNING: Cannot determine equinox. Assuming J2000. [aplpy.wcs_util]\n",
      "WARNING: Cannot determine equinox. Assuming J2000. [aplpy.wcs_util]\n"
     ]
    },
    {
     "name": "stdout",
     "output_type": "stream",
     "text": [
      "INFO: Auto-setting vmin to -1.878e-02 [aplpy.core]\n",
      "INFO: Auto-setting vmax to  2.032e-01 [aplpy.core]\n",
      "INFO: Auto-setting vmin to -3.320e-06 [aplpy.core]\n",
      "INFO: Auto-setting vmax to  5.841e-06 [aplpy.core]\n"
     ]
    },
    {
     "name": "stderr",
     "output_type": "stream",
     "text": [
      "WARNING: Cannot determine equinox. Assuming J2000. [aplpy.wcs_util]\n",
      "WARNING: Cannot determine equinox. Assuming J2000. [aplpy.wcs_util]\n",
      "WARNING: Cannot determine equinox. Assuming J2000. [aplpy.wcs_util]\n"
     ]
    },
    {
     "name": "stdout",
     "output_type": "stream",
     "text": [
      "INFO: Auto-setting vmin to -5.965e-03 [aplpy.core]\n",
      "INFO: Auto-setting vmax to  5.411e-02 [aplpy.core]\n",
      "INFO: Auto-setting vmin to -3.328e-06 [aplpy.core]\n",
      "INFO: Auto-setting vmax to  2.613e-06 [aplpy.core]\n"
     ]
    },
    {
     "name": "stderr",
     "output_type": "stream",
     "text": [
      "WARNING: Cannot determine equinox. Assuming J2000. [aplpy.wcs_util]\n",
      "WARNING: Cannot determine equinox. Assuming J2000. [aplpy.wcs_util]\n",
      "WARNING: Cannot determine equinox. Assuming J2000. [aplpy.wcs_util]\n"
     ]
    },
    {
     "name": "stdout",
     "output_type": "stream",
     "text": [
      "INFO: Auto-setting vmin to -1.965e-02 [aplpy.core]\n",
      "INFO: Auto-setting vmax to  2.133e-01 [aplpy.core]\n",
      "INFO: Auto-setting vmin to -3.351e-06 [aplpy.core]\n",
      "INFO: Auto-setting vmax to  5.844e-06 [aplpy.core]\n"
     ]
    },
    {
     "name": "stderr",
     "output_type": "stream",
     "text": [
      "WARNING: Cannot determine equinox. Assuming J2000. [aplpy.wcs_util]\n",
      "WARNING: Cannot determine equinox. Assuming J2000. [aplpy.wcs_util]\n",
      "WARNING: Cannot determine equinox. Assuming J2000. [aplpy.wcs_util]\n"
     ]
    },
    {
     "name": "stdout",
     "output_type": "stream",
     "text": [
      "INFO: Auto-setting vmin to -7.139e-03 [aplpy.core]\n",
      "INFO: Auto-setting vmax to  6.172e-02 [aplpy.core]\n",
      "INFO: Auto-setting vmin to -3.552e-06 [aplpy.core]\n",
      "INFO: Auto-setting vmax to  2.728e-06 [aplpy.core]\n"
     ]
    },
    {
     "name": "stderr",
     "output_type": "stream",
     "text": [
      "WARNING: Cannot determine equinox. Assuming J2000. [aplpy.wcs_util]\n",
      "WARNING: Cannot determine equinox. Assuming J2000. [aplpy.wcs_util]\n",
      "WARNING: Cannot determine equinox. Assuming J2000. [aplpy.wcs_util]\n"
     ]
    },
    {
     "name": "stdout",
     "output_type": "stream",
     "text": [
      "INFO: Auto-setting vmin to -2.270e-02 [aplpy.core]\n",
      "INFO: Auto-setting vmax to  2.547e-01 [aplpy.core]\n",
      "INFO: Auto-setting vmin to -3.281e-06 [aplpy.core]\n",
      "INFO: Auto-setting vmax to  2.453e-06 [aplpy.core]\n"
     ]
    },
    {
     "name": "stderr",
     "output_type": "stream",
     "text": [
      "WARNING: Cannot determine equinox. Assuming J2000. [aplpy.wcs_util]\n",
      "WARNING: Cannot determine equinox. Assuming J2000. [aplpy.wcs_util]\n",
      "WARNING: Cannot determine equinox. Assuming J2000. [aplpy.wcs_util]\n"
     ]
    },
    {
     "name": "stdout",
     "output_type": "stream",
     "text": [
      "INFO: Auto-setting vmin to -1.196e-02 [aplpy.core]\n",
      "INFO: Auto-setting vmax to  1.072e-01 [aplpy.core]\n",
      "INFO: Auto-setting vmin to -3.488e-06 [aplpy.core]\n",
      "INFO: Auto-setting vmax to  2.714e-06 [aplpy.core]\n"
     ]
    },
    {
     "name": "stderr",
     "output_type": "stream",
     "text": [
      "WARNING: Cannot determine equinox. Assuming J2000. [aplpy.wcs_util]\n",
      "WARNING: Cannot determine equinox. Assuming J2000. [aplpy.wcs_util]\n",
      "WARNING: Cannot determine equinox. Assuming J2000. [aplpy.wcs_util]\n"
     ]
    },
    {
     "name": "stdout",
     "output_type": "stream",
     "text": [
      "INFO: Auto-setting vmin to -3.454e-02 [aplpy.core]\n",
      "INFO: Auto-setting vmax to  3.934e-01 [aplpy.core]\n",
      "INFO: Auto-setting vmin to -3.059e-06 [aplpy.core]\n",
      "INFO: Auto-setting vmax to  2.620e-06 [aplpy.core]\n"
     ]
    },
    {
     "name": "stderr",
     "output_type": "stream",
     "text": [
      "WARNING: Cannot determine equinox. Assuming J2000. [aplpy.wcs_util]\n",
      "WARNING: Cannot determine equinox. Assuming J2000. [aplpy.wcs_util]\n",
      "WARNING: Cannot determine equinox. Assuming J2000. [aplpy.wcs_util]\n"
     ]
    },
    {
     "name": "stdout",
     "output_type": "stream",
     "text": [
      "INFO: Auto-setting vmin to -1.111e-02 [aplpy.core]\n",
      "INFO: Auto-setting vmax to  8.360e-02 [aplpy.core]\n",
      "INFO: Auto-setting vmin to -3.454e-06 [aplpy.core]\n",
      "INFO: Auto-setting vmax to  3.089e-06 [aplpy.core]\n"
     ]
    },
    {
     "name": "stderr",
     "output_type": "stream",
     "text": [
      "WARNING: Cannot determine equinox. Assuming J2000. [aplpy.wcs_util]\n",
      "WARNING: Cannot determine equinox. Assuming J2000. [aplpy.wcs_util]\n",
      "WARNING: Cannot determine equinox. Assuming J2000. [aplpy.wcs_util]\n"
     ]
    },
    {
     "name": "stdout",
     "output_type": "stream",
     "text": [
      "INFO: Auto-setting vmin to -4.457e-02 [aplpy.core]\n",
      "INFO: Auto-setting vmax to  3.413e-01 [aplpy.core]\n"
     ]
    }
   ],
   "source": [
    "stamp.outputeps('macs0416', len(cat), None)"
   ]
  },
  {
   "cell_type": "markdown",
   "metadata": {},
   "source": [
    "PNG files for sources with no HST data are written to the folder 'output/no_hst_counterpart'."
   ]
  },
  {
   "cell_type": "markdown",
   "metadata": {},
   "source": [
    "Command line usage is considerably simpler:\n",
    "\n",
    "Usage: [macs0416,macs0717,macs1149] --radio_img file --cat catalog [--imgs file1 file2 ...] [--colorbar]\n",
    "\n",
    "The following line works:\n",
    "\n",
    "```./stamp.py macs0416 --radio_img ../radio_imgs/img_MACSJ0416_S-BAND_data-MFS-image.fits --cat ../ian_cats/VLA-HFF_0416_compact_optical_rasort.txt --imgs ../radio_imgs/img_MACSJ0416_C-BAND_data-MFS-image.fits ../hst_imgs/macs0416/*.fits ../hst_imgs/macs0416/parallel/*.fits ../spitzer_imgs/macs0416/*.fits\n",
    "```"
   ]
  }
 ],
 "metadata": {
  "kernelspec": {
   "display_name": "Python [default]",
   "language": "python",
   "name": "python2"
  },
  "language_info": {
   "codemirror_mode": {
    "name": "ipython",
    "version": 2
   },
   "file_extension": ".py",
   "mimetype": "text/x-python",
   "name": "python",
   "nbconvert_exporter": "python",
   "pygments_lexer": "ipython2",
   "version": "2.7.15"
  }
 },
 "nbformat": 4,
 "nbformat_minor": 2
}
